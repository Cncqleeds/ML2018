{
 "cells": [
  {
   "cell_type": "code",
   "execution_count": 2,
   "metadata": {
    "collapsed": false
   },
   "outputs": [],
   "source": [
    "import pandas as pd\n",
    "import numpy as np\n",
    "\n",
    "import matplotlib.pyplot as plt\n",
    "\n",
    "from pandas import Series, DataFrame"
   ]
  },
  {
   "cell_type": "code",
   "execution_count": 3,
   "metadata": {
    "collapsed": true
   },
   "outputs": [],
   "source": [
    "s = Series([1,3,5,np.nan,6,8])"
   ]
  },
  {
   "cell_type": "code",
   "execution_count": 4,
   "metadata": {
    "collapsed": false
   },
   "outputs": [
    {
     "data": {
      "text/plain": [
       "0    1.0\n",
       "1    3.0\n",
       "2    5.0\n",
       "3    NaN\n",
       "4    6.0\n",
       "5    8.0\n",
       "dtype: float64"
      ]
     },
     "execution_count": 4,
     "metadata": {},
     "output_type": "execute_result"
    }
   ],
   "source": [
    "s"
   ]
  },
  {
   "cell_type": "markdown",
   "metadata": {},
   "source": [
    "传入 numpy array 创建DataFrame"
   ]
  },
  {
   "cell_type": "code",
   "execution_count": 5,
   "metadata": {
    "collapsed": false
   },
   "outputs": [
    {
     "data": {
      "text/plain": [
       "DatetimeIndex(['2018-02-26', '2018-02-27', '2018-02-28', '2018-03-01',\n",
       "               '2018-03-02', '2018-03-03', '2018-03-04'],\n",
       "              dtype='datetime64[ns]', freq='D')"
      ]
     },
     "execution_count": 5,
     "metadata": {},
     "output_type": "execute_result"
    }
   ],
   "source": [
    "dates = pd.date_range('20180226',periods=7)\n",
    "dates"
   ]
  },
  {
   "cell_type": "code",
   "execution_count": 6,
   "metadata": {
    "collapsed": false
   },
   "outputs": [
    {
     "data": {
      "text/html": [
       "<div>\n",
       "<table border=\"1\" class=\"dataframe\">\n",
       "  <thead>\n",
       "    <tr style=\"text-align: right;\">\n",
       "      <th></th>\n",
       "      <th>A</th>\n",
       "      <th>B</th>\n",
       "      <th>C</th>\n",
       "      <th>D</th>\n",
       "    </tr>\n",
       "  </thead>\n",
       "  <tbody>\n",
       "    <tr>\n",
       "      <th>2018-02-26</th>\n",
       "      <td>1.558543</td>\n",
       "      <td>-2.596475</td>\n",
       "      <td>-3.235967</td>\n",
       "      <td>-0.535029</td>\n",
       "    </tr>\n",
       "    <tr>\n",
       "      <th>2018-02-27</th>\n",
       "      <td>-0.773950</td>\n",
       "      <td>-0.756242</td>\n",
       "      <td>0.645040</td>\n",
       "      <td>-0.292582</td>\n",
       "    </tr>\n",
       "    <tr>\n",
       "      <th>2018-02-28</th>\n",
       "      <td>1.842376</td>\n",
       "      <td>-0.564057</td>\n",
       "      <td>-1.815927</td>\n",
       "      <td>0.004784</td>\n",
       "    </tr>\n",
       "    <tr>\n",
       "      <th>2018-03-01</th>\n",
       "      <td>-0.596650</td>\n",
       "      <td>-0.058825</td>\n",
       "      <td>-0.530433</td>\n",
       "      <td>0.982080</td>\n",
       "    </tr>\n",
       "    <tr>\n",
       "      <th>2018-03-02</th>\n",
       "      <td>-1.417761</td>\n",
       "      <td>0.106304</td>\n",
       "      <td>-0.310158</td>\n",
       "      <td>1.045805</td>\n",
       "    </tr>\n",
       "    <tr>\n",
       "      <th>2018-03-03</th>\n",
       "      <td>0.972924</td>\n",
       "      <td>0.143730</td>\n",
       "      <td>1.293950</td>\n",
       "      <td>0.074228</td>\n",
       "    </tr>\n",
       "    <tr>\n",
       "      <th>2018-03-04</th>\n",
       "      <td>0.979139</td>\n",
       "      <td>0.536617</td>\n",
       "      <td>0.456346</td>\n",
       "      <td>1.628000</td>\n",
       "    </tr>\n",
       "  </tbody>\n",
       "</table>\n",
       "</div>"
      ],
      "text/plain": [
       "                   A         B         C         D\n",
       "2018-02-26  1.558543 -2.596475 -3.235967 -0.535029\n",
       "2018-02-27 -0.773950 -0.756242  0.645040 -0.292582\n",
       "2018-02-28  1.842376 -0.564057 -1.815927  0.004784\n",
       "2018-03-01 -0.596650 -0.058825 -0.530433  0.982080\n",
       "2018-03-02 -1.417761  0.106304 -0.310158  1.045805\n",
       "2018-03-03  0.972924  0.143730  1.293950  0.074228\n",
       "2018-03-04  0.979139  0.536617  0.456346  1.628000"
      ]
     },
     "execution_count": 6,
     "metadata": {},
     "output_type": "execute_result"
    }
   ],
   "source": [
    "df = DataFrame(np.random.randn(7,4),index=dates,columns=list('ABCD'))\n",
    "df"
   ]
  },
  {
   "cell_type": "markdown",
   "metadata": {},
   "source": [
    "传入dict创建DataFrame"
   ]
  },
  {
   "cell_type": "code",
   "execution_count": null,
   "metadata": {
    "collapsed": true
   },
   "outputs": [],
   "source": [
    "pd.Timestamp"
   ]
  },
  {
   "cell_type": "code",
   "execution_count": 10,
   "metadata": {
    "collapsed": true
   },
   "outputs": [],
   "source": [
    "df2 = DataFrame({'A':1.,\\\n",
    " 'B' : pd.Timestamp('20130102'),\\\n",
    "'C': Series(1,index=list(range(4)),dtype='float32'),\\\n",
    "'D': np.array([3]*4,dtype='int32'),\\\n",
    "'E': pd.Categorical(['test','train','test','train']),\\\n",
    "'F':'foo'})"
   ]
  },
  {
   "cell_type": "code",
   "execution_count": 11,
   "metadata": {
    "collapsed": false
   },
   "outputs": [
    {
     "data": {
      "text/plain": [
       "A           float64\n",
       "B    datetime64[ns]\n",
       "C           float32\n",
       "D             int32\n",
       "E          category\n",
       "F            object\n",
       "dtype: object"
      ]
     },
     "execution_count": 11,
     "metadata": {},
     "output_type": "execute_result"
    }
   ],
   "source": [
    "df2.dtypes"
   ]
  },
  {
   "cell_type": "code",
   "execution_count": 13,
   "metadata": {
    "collapsed": false
   },
   "outputs": [
    {
     "data": {
      "text/html": [
       "<div>\n",
       "<table border=\"1\" class=\"dataframe\">\n",
       "  <thead>\n",
       "    <tr style=\"text-align: right;\">\n",
       "      <th></th>\n",
       "      <th>A</th>\n",
       "      <th>B</th>\n",
       "      <th>C</th>\n",
       "      <th>D</th>\n",
       "      <th>E</th>\n",
       "      <th>F</th>\n",
       "    </tr>\n",
       "  </thead>\n",
       "  <tbody>\n",
       "    <tr>\n",
       "      <th>0</th>\n",
       "      <td>1.0</td>\n",
       "      <td>2013-01-02</td>\n",
       "      <td>1.0</td>\n",
       "      <td>3</td>\n",
       "      <td>test</td>\n",
       "      <td>foo</td>\n",
       "    </tr>\n",
       "    <tr>\n",
       "      <th>1</th>\n",
       "      <td>1.0</td>\n",
       "      <td>2013-01-02</td>\n",
       "      <td>1.0</td>\n",
       "      <td>3</td>\n",
       "      <td>train</td>\n",
       "      <td>foo</td>\n",
       "    </tr>\n",
       "    <tr>\n",
       "      <th>2</th>\n",
       "      <td>1.0</td>\n",
       "      <td>2013-01-02</td>\n",
       "      <td>1.0</td>\n",
       "      <td>3</td>\n",
       "      <td>test</td>\n",
       "      <td>foo</td>\n",
       "    </tr>\n",
       "    <tr>\n",
       "      <th>3</th>\n",
       "      <td>1.0</td>\n",
       "      <td>2013-01-02</td>\n",
       "      <td>1.0</td>\n",
       "      <td>3</td>\n",
       "      <td>train</td>\n",
       "      <td>foo</td>\n",
       "    </tr>\n",
       "  </tbody>\n",
       "</table>\n",
       "</div>"
      ],
      "text/plain": [
       "     A          B    C  D      E    F\n",
       "0  1.0 2013-01-02  1.0  3   test  foo\n",
       "1  1.0 2013-01-02  1.0  3  train  foo\n",
       "2  1.0 2013-01-02  1.0  3   test  foo\n",
       "3  1.0 2013-01-02  1.0  3  train  foo"
      ]
     },
     "execution_count": 13,
     "metadata": {},
     "output_type": "execute_result"
    }
   ],
   "source": [
    "df2"
   ]
  },
  {
   "cell_type": "code",
   "execution_count": 14,
   "metadata": {
    "collapsed": false
   },
   "outputs": [
    {
     "data": {
      "text/html": [
       "<div>\n",
       "<table border=\"1\" class=\"dataframe\">\n",
       "  <thead>\n",
       "    <tr style=\"text-align: right;\">\n",
       "      <th></th>\n",
       "      <th>A</th>\n",
       "      <th>B</th>\n",
       "      <th>C</th>\n",
       "      <th>D</th>\n",
       "    </tr>\n",
       "  </thead>\n",
       "  <tbody>\n",
       "    <tr>\n",
       "      <th>2018-02-26</th>\n",
       "      <td>1.558543</td>\n",
       "      <td>-2.596475</td>\n",
       "      <td>-3.235967</td>\n",
       "      <td>-0.535029</td>\n",
       "    </tr>\n",
       "    <tr>\n",
       "      <th>2018-02-27</th>\n",
       "      <td>-0.773950</td>\n",
       "      <td>-0.756242</td>\n",
       "      <td>0.645040</td>\n",
       "      <td>-0.292582</td>\n",
       "    </tr>\n",
       "    <tr>\n",
       "      <th>2018-02-28</th>\n",
       "      <td>1.842376</td>\n",
       "      <td>-0.564057</td>\n",
       "      <td>-1.815927</td>\n",
       "      <td>0.004784</td>\n",
       "    </tr>\n",
       "    <tr>\n",
       "      <th>2018-03-01</th>\n",
       "      <td>-0.596650</td>\n",
       "      <td>-0.058825</td>\n",
       "      <td>-0.530433</td>\n",
       "      <td>0.982080</td>\n",
       "    </tr>\n",
       "    <tr>\n",
       "      <th>2018-03-02</th>\n",
       "      <td>-1.417761</td>\n",
       "      <td>0.106304</td>\n",
       "      <td>-0.310158</td>\n",
       "      <td>1.045805</td>\n",
       "    </tr>\n",
       "  </tbody>\n",
       "</table>\n",
       "</div>"
      ],
      "text/plain": [
       "                   A         B         C         D\n",
       "2018-02-26  1.558543 -2.596475 -3.235967 -0.535029\n",
       "2018-02-27 -0.773950 -0.756242  0.645040 -0.292582\n",
       "2018-02-28  1.842376 -0.564057 -1.815927  0.004784\n",
       "2018-03-01 -0.596650 -0.058825 -0.530433  0.982080\n",
       "2018-03-02 -1.417761  0.106304 -0.310158  1.045805"
      ]
     },
     "execution_count": 14,
     "metadata": {},
     "output_type": "execute_result"
    }
   ],
   "source": [
    "df.head()"
   ]
  },
  {
   "cell_type": "code",
   "execution_count": 15,
   "metadata": {
    "collapsed": false
   },
   "outputs": [
    {
     "data": {
      "text/html": [
       "<div>\n",
       "<table border=\"1\" class=\"dataframe\">\n",
       "  <thead>\n",
       "    <tr style=\"text-align: right;\">\n",
       "      <th></th>\n",
       "      <th>A</th>\n",
       "      <th>B</th>\n",
       "      <th>C</th>\n",
       "      <th>D</th>\n",
       "    </tr>\n",
       "  </thead>\n",
       "  <tbody>\n",
       "    <tr>\n",
       "      <th>2018-02-28</th>\n",
       "      <td>1.842376</td>\n",
       "      <td>-0.564057</td>\n",
       "      <td>-1.815927</td>\n",
       "      <td>0.004784</td>\n",
       "    </tr>\n",
       "    <tr>\n",
       "      <th>2018-03-01</th>\n",
       "      <td>-0.596650</td>\n",
       "      <td>-0.058825</td>\n",
       "      <td>-0.530433</td>\n",
       "      <td>0.982080</td>\n",
       "    </tr>\n",
       "    <tr>\n",
       "      <th>2018-03-02</th>\n",
       "      <td>-1.417761</td>\n",
       "      <td>0.106304</td>\n",
       "      <td>-0.310158</td>\n",
       "      <td>1.045805</td>\n",
       "    </tr>\n",
       "    <tr>\n",
       "      <th>2018-03-03</th>\n",
       "      <td>0.972924</td>\n",
       "      <td>0.143730</td>\n",
       "      <td>1.293950</td>\n",
       "      <td>0.074228</td>\n",
       "    </tr>\n",
       "    <tr>\n",
       "      <th>2018-03-04</th>\n",
       "      <td>0.979139</td>\n",
       "      <td>0.536617</td>\n",
       "      <td>0.456346</td>\n",
       "      <td>1.628000</td>\n",
       "    </tr>\n",
       "  </tbody>\n",
       "</table>\n",
       "</div>"
      ],
      "text/plain": [
       "                   A         B         C         D\n",
       "2018-02-28  1.842376 -0.564057 -1.815927  0.004784\n",
       "2018-03-01 -0.596650 -0.058825 -0.530433  0.982080\n",
       "2018-03-02 -1.417761  0.106304 -0.310158  1.045805\n",
       "2018-03-03  0.972924  0.143730  1.293950  0.074228\n",
       "2018-03-04  0.979139  0.536617  0.456346  1.628000"
      ]
     },
     "execution_count": 15,
     "metadata": {},
     "output_type": "execute_result"
    }
   ],
   "source": [
    "df.tail()"
   ]
  },
  {
   "cell_type": "code",
   "execution_count": 16,
   "metadata": {
    "collapsed": false
   },
   "outputs": [
    {
     "data": {
      "text/plain": [
       "DatetimeIndex(['2018-02-26', '2018-02-27', '2018-02-28', '2018-03-01',\n",
       "               '2018-03-02', '2018-03-03', '2018-03-04'],\n",
       "              dtype='datetime64[ns]', freq='D')"
      ]
     },
     "execution_count": 16,
     "metadata": {},
     "output_type": "execute_result"
    }
   ],
   "source": [
    "df.index"
   ]
  },
  {
   "cell_type": "code",
   "execution_count": 17,
   "metadata": {
    "collapsed": false
   },
   "outputs": [
    {
     "data": {
      "text/plain": [
       "Index(['A', 'B', 'C', 'D'], dtype='object')"
      ]
     },
     "execution_count": 17,
     "metadata": {},
     "output_type": "execute_result"
    }
   ],
   "source": [
    "df.columns"
   ]
  },
  {
   "cell_type": "code",
   "execution_count": 18,
   "metadata": {
    "collapsed": false
   },
   "outputs": [
    {
     "data": {
      "text/plain": [
       "array([[ 1.55854277, -2.59647536, -3.2359673 , -0.53502856],\n",
       "       [-0.77395002, -0.75624175,  0.64504008, -0.29258204],\n",
       "       [ 1.84237619, -0.56405729, -1.81592749,  0.00478361],\n",
       "       [-0.59665034, -0.05882531, -0.53043341,  0.98208017],\n",
       "       [-1.41776122,  0.10630419, -0.31015778,  1.04580527],\n",
       "       [ 0.97292425,  0.14372984,  1.2939505 ,  0.07422839],\n",
       "       [ 0.97913938,  0.53661675,  0.45634597,  1.62799999]])"
      ]
     },
     "execution_count": 18,
     "metadata": {},
     "output_type": "execute_result"
    }
   ],
   "source": [
    "df.values"
   ]
  },
  {
   "cell_type": "code",
   "execution_count": 19,
   "metadata": {
    "collapsed": false
   },
   "outputs": [
    {
     "data": {
      "text/html": [
       "<div>\n",
       "<table border=\"1\" class=\"dataframe\">\n",
       "  <thead>\n",
       "    <tr style=\"text-align: right;\">\n",
       "      <th></th>\n",
       "      <th>A</th>\n",
       "      <th>B</th>\n",
       "      <th>C</th>\n",
       "      <th>D</th>\n",
       "    </tr>\n",
       "  </thead>\n",
       "  <tbody>\n",
       "    <tr>\n",
       "      <th>count</th>\n",
       "      <td>7.000000</td>\n",
       "      <td>7.000000</td>\n",
       "      <td>7.000000</td>\n",
       "      <td>7.000000</td>\n",
       "    </tr>\n",
       "    <tr>\n",
       "      <th>mean</th>\n",
       "      <td>0.366374</td>\n",
       "      <td>-0.455564</td>\n",
       "      <td>-0.499593</td>\n",
       "      <td>0.415327</td>\n",
       "    </tr>\n",
       "    <tr>\n",
       "      <th>std</th>\n",
       "      <td>1.275025</td>\n",
       "      <td>1.041021</td>\n",
       "      <td>1.565147</td>\n",
       "      <td>0.804000</td>\n",
       "    </tr>\n",
       "    <tr>\n",
       "      <th>min</th>\n",
       "      <td>-1.417761</td>\n",
       "      <td>-2.596475</td>\n",
       "      <td>-3.235967</td>\n",
       "      <td>-0.535029</td>\n",
       "    </tr>\n",
       "    <tr>\n",
       "      <th>25%</th>\n",
       "      <td>-0.685300</td>\n",
       "      <td>-0.660150</td>\n",
       "      <td>-1.173180</td>\n",
       "      <td>-0.143899</td>\n",
       "    </tr>\n",
       "    <tr>\n",
       "      <th>50%</th>\n",
       "      <td>0.972924</td>\n",
       "      <td>-0.058825</td>\n",
       "      <td>-0.310158</td>\n",
       "      <td>0.074228</td>\n",
       "    </tr>\n",
       "    <tr>\n",
       "      <th>75%</th>\n",
       "      <td>1.268841</td>\n",
       "      <td>0.125017</td>\n",
       "      <td>0.550693</td>\n",
       "      <td>1.013943</td>\n",
       "    </tr>\n",
       "    <tr>\n",
       "      <th>max</th>\n",
       "      <td>1.842376</td>\n",
       "      <td>0.536617</td>\n",
       "      <td>1.293950</td>\n",
       "      <td>1.628000</td>\n",
       "    </tr>\n",
       "  </tbody>\n",
       "</table>\n",
       "</div>"
      ],
      "text/plain": [
       "              A         B         C         D\n",
       "count  7.000000  7.000000  7.000000  7.000000\n",
       "mean   0.366374 -0.455564 -0.499593  0.415327\n",
       "std    1.275025  1.041021  1.565147  0.804000\n",
       "min   -1.417761 -2.596475 -3.235967 -0.535029\n",
       "25%   -0.685300 -0.660150 -1.173180 -0.143899\n",
       "50%    0.972924 -0.058825 -0.310158  0.074228\n",
       "75%    1.268841  0.125017  0.550693  1.013943\n",
       "max    1.842376  0.536617  1.293950  1.628000"
      ]
     },
     "execution_count": 19,
     "metadata": {},
     "output_type": "execute_result"
    }
   ],
   "source": [
    "df.describe()"
   ]
  },
  {
   "cell_type": "code",
   "execution_count": 20,
   "metadata": {
    "collapsed": false
   },
   "outputs": [
    {
     "data": {
      "text/html": [
       "<div>\n",
       "<table border=\"1\" class=\"dataframe\">\n",
       "  <thead>\n",
       "    <tr style=\"text-align: right;\">\n",
       "      <th></th>\n",
       "      <th>2018-02-26 00:00:00</th>\n",
       "      <th>2018-02-27 00:00:00</th>\n",
       "      <th>2018-02-28 00:00:00</th>\n",
       "      <th>2018-03-01 00:00:00</th>\n",
       "      <th>2018-03-02 00:00:00</th>\n",
       "      <th>2018-03-03 00:00:00</th>\n",
       "      <th>2018-03-04 00:00:00</th>\n",
       "    </tr>\n",
       "  </thead>\n",
       "  <tbody>\n",
       "    <tr>\n",
       "      <th>A</th>\n",
       "      <td>1.558543</td>\n",
       "      <td>-0.773950</td>\n",
       "      <td>1.842376</td>\n",
       "      <td>-0.596650</td>\n",
       "      <td>-1.417761</td>\n",
       "      <td>0.972924</td>\n",
       "      <td>0.979139</td>\n",
       "    </tr>\n",
       "    <tr>\n",
       "      <th>B</th>\n",
       "      <td>-2.596475</td>\n",
       "      <td>-0.756242</td>\n",
       "      <td>-0.564057</td>\n",
       "      <td>-0.058825</td>\n",
       "      <td>0.106304</td>\n",
       "      <td>0.143730</td>\n",
       "      <td>0.536617</td>\n",
       "    </tr>\n",
       "    <tr>\n",
       "      <th>C</th>\n",
       "      <td>-3.235967</td>\n",
       "      <td>0.645040</td>\n",
       "      <td>-1.815927</td>\n",
       "      <td>-0.530433</td>\n",
       "      <td>-0.310158</td>\n",
       "      <td>1.293950</td>\n",
       "      <td>0.456346</td>\n",
       "    </tr>\n",
       "    <tr>\n",
       "      <th>D</th>\n",
       "      <td>-0.535029</td>\n",
       "      <td>-0.292582</td>\n",
       "      <td>0.004784</td>\n",
       "      <td>0.982080</td>\n",
       "      <td>1.045805</td>\n",
       "      <td>0.074228</td>\n",
       "      <td>1.628000</td>\n",
       "    </tr>\n",
       "  </tbody>\n",
       "</table>\n",
       "</div>"
      ],
      "text/plain": [
       "   2018-02-26  2018-02-27  2018-02-28  2018-03-01  2018-03-02  2018-03-03  \\\n",
       "A    1.558543   -0.773950    1.842376   -0.596650   -1.417761    0.972924   \n",
       "B   -2.596475   -0.756242   -0.564057   -0.058825    0.106304    0.143730   \n",
       "C   -3.235967    0.645040   -1.815927   -0.530433   -0.310158    1.293950   \n",
       "D   -0.535029   -0.292582    0.004784    0.982080    1.045805    0.074228   \n",
       "\n",
       "   2018-03-04  \n",
       "A    0.979139  \n",
       "B    0.536617  \n",
       "C    0.456346  \n",
       "D    1.628000  "
      ]
     },
     "execution_count": 20,
     "metadata": {},
     "output_type": "execute_result"
    }
   ],
   "source": [
    "df.T"
   ]
  },
  {
   "cell_type": "markdown",
   "metadata": {},
   "source": [
    "按轴排序"
   ]
  },
  {
   "cell_type": "code",
   "execution_count": 25,
   "metadata": {
    "collapsed": false
   },
   "outputs": [
    {
     "data": {
      "text/html": [
       "<div>\n",
       "<table border=\"1\" class=\"dataframe\">\n",
       "  <thead>\n",
       "    <tr style=\"text-align: right;\">\n",
       "      <th></th>\n",
       "      <th>A</th>\n",
       "      <th>B</th>\n",
       "      <th>C</th>\n",
       "      <th>D</th>\n",
       "    </tr>\n",
       "  </thead>\n",
       "  <tbody>\n",
       "    <tr>\n",
       "      <th>2018-03-04</th>\n",
       "      <td>0.979139</td>\n",
       "      <td>0.536617</td>\n",
       "      <td>0.456346</td>\n",
       "      <td>1.628000</td>\n",
       "    </tr>\n",
       "    <tr>\n",
       "      <th>2018-03-03</th>\n",
       "      <td>0.972924</td>\n",
       "      <td>0.143730</td>\n",
       "      <td>1.293950</td>\n",
       "      <td>0.074228</td>\n",
       "    </tr>\n",
       "    <tr>\n",
       "      <th>2018-03-02</th>\n",
       "      <td>-1.417761</td>\n",
       "      <td>0.106304</td>\n",
       "      <td>-0.310158</td>\n",
       "      <td>1.045805</td>\n",
       "    </tr>\n",
       "    <tr>\n",
       "      <th>2018-03-01</th>\n",
       "      <td>-0.596650</td>\n",
       "      <td>-0.058825</td>\n",
       "      <td>-0.530433</td>\n",
       "      <td>0.982080</td>\n",
       "    </tr>\n",
       "    <tr>\n",
       "      <th>2018-02-28</th>\n",
       "      <td>1.842376</td>\n",
       "      <td>-0.564057</td>\n",
       "      <td>-1.815927</td>\n",
       "      <td>0.004784</td>\n",
       "    </tr>\n",
       "    <tr>\n",
       "      <th>2018-02-27</th>\n",
       "      <td>-0.773950</td>\n",
       "      <td>-0.756242</td>\n",
       "      <td>0.645040</td>\n",
       "      <td>-0.292582</td>\n",
       "    </tr>\n",
       "    <tr>\n",
       "      <th>2018-02-26</th>\n",
       "      <td>1.558543</td>\n",
       "      <td>-2.596475</td>\n",
       "      <td>-3.235967</td>\n",
       "      <td>-0.535029</td>\n",
       "    </tr>\n",
       "  </tbody>\n",
       "</table>\n",
       "</div>"
      ],
      "text/plain": [
       "                   A         B         C         D\n",
       "2018-03-04  0.979139  0.536617  0.456346  1.628000\n",
       "2018-03-03  0.972924  0.143730  1.293950  0.074228\n",
       "2018-03-02 -1.417761  0.106304 -0.310158  1.045805\n",
       "2018-03-01 -0.596650 -0.058825 -0.530433  0.982080\n",
       "2018-02-28  1.842376 -0.564057 -1.815927  0.004784\n",
       "2018-02-27 -0.773950 -0.756242  0.645040 -0.292582\n",
       "2018-02-26  1.558543 -2.596475 -3.235967 -0.535029"
      ]
     },
     "execution_count": 25,
     "metadata": {},
     "output_type": "execute_result"
    }
   ],
   "source": [
    "df.sort_index(axis=0,ascending=False)"
   ]
  },
  {
   "cell_type": "markdown",
   "metadata": {},
   "source": [
    "按值排序(有by参数指定列)"
   ]
  },
  {
   "cell_type": "code",
   "execution_count": 26,
   "metadata": {
    "collapsed": false
   },
   "outputs": [
    {
     "data": {
      "text/html": [
       "<div>\n",
       "<table border=\"1\" class=\"dataframe\">\n",
       "  <thead>\n",
       "    <tr style=\"text-align: right;\">\n",
       "      <th></th>\n",
       "      <th>A</th>\n",
       "      <th>B</th>\n",
       "      <th>C</th>\n",
       "      <th>D</th>\n",
       "    </tr>\n",
       "  </thead>\n",
       "  <tbody>\n",
       "    <tr>\n",
       "      <th>2018-02-26</th>\n",
       "      <td>1.558543</td>\n",
       "      <td>-2.596475</td>\n",
       "      <td>-3.235967</td>\n",
       "      <td>-0.535029</td>\n",
       "    </tr>\n",
       "    <tr>\n",
       "      <th>2018-02-27</th>\n",
       "      <td>-0.773950</td>\n",
       "      <td>-0.756242</td>\n",
       "      <td>0.645040</td>\n",
       "      <td>-0.292582</td>\n",
       "    </tr>\n",
       "    <tr>\n",
       "      <th>2018-02-28</th>\n",
       "      <td>1.842376</td>\n",
       "      <td>-0.564057</td>\n",
       "      <td>-1.815927</td>\n",
       "      <td>0.004784</td>\n",
       "    </tr>\n",
       "    <tr>\n",
       "      <th>2018-03-01</th>\n",
       "      <td>-0.596650</td>\n",
       "      <td>-0.058825</td>\n",
       "      <td>-0.530433</td>\n",
       "      <td>0.982080</td>\n",
       "    </tr>\n",
       "    <tr>\n",
       "      <th>2018-03-02</th>\n",
       "      <td>-1.417761</td>\n",
       "      <td>0.106304</td>\n",
       "      <td>-0.310158</td>\n",
       "      <td>1.045805</td>\n",
       "    </tr>\n",
       "    <tr>\n",
       "      <th>2018-03-03</th>\n",
       "      <td>0.972924</td>\n",
       "      <td>0.143730</td>\n",
       "      <td>1.293950</td>\n",
       "      <td>0.074228</td>\n",
       "    </tr>\n",
       "    <tr>\n",
       "      <th>2018-03-04</th>\n",
       "      <td>0.979139</td>\n",
       "      <td>0.536617</td>\n",
       "      <td>0.456346</td>\n",
       "      <td>1.628000</td>\n",
       "    </tr>\n",
       "  </tbody>\n",
       "</table>\n",
       "</div>"
      ],
      "text/plain": [
       "                   A         B         C         D\n",
       "2018-02-26  1.558543 -2.596475 -3.235967 -0.535029\n",
       "2018-02-27 -0.773950 -0.756242  0.645040 -0.292582\n",
       "2018-02-28  1.842376 -0.564057 -1.815927  0.004784\n",
       "2018-03-01 -0.596650 -0.058825 -0.530433  0.982080\n",
       "2018-03-02 -1.417761  0.106304 -0.310158  1.045805\n",
       "2018-03-03  0.972924  0.143730  1.293950  0.074228\n",
       "2018-03-04  0.979139  0.536617  0.456346  1.628000"
      ]
     },
     "execution_count": 26,
     "metadata": {},
     "output_type": "execute_result"
    }
   ],
   "source": [
    "df.sort_values(by='B',)"
   ]
  },
  {
   "cell_type": "code",
   "execution_count": 32,
   "metadata": {
    "collapsed": false
   },
   "outputs": [
    {
     "data": {
      "text/html": [
       "<div>\n",
       "<table border=\"1\" class=\"dataframe\">\n",
       "  <thead>\n",
       "    <tr style=\"text-align: right;\">\n",
       "      <th></th>\n",
       "      <th>A</th>\n",
       "      <th>B</th>\n",
       "    </tr>\n",
       "  </thead>\n",
       "  <tbody>\n",
       "    <tr>\n",
       "      <th>2018-02-26</th>\n",
       "      <td>1.558543</td>\n",
       "      <td>-2.596475</td>\n",
       "    </tr>\n",
       "    <tr>\n",
       "      <th>2018-02-27</th>\n",
       "      <td>-0.773950</td>\n",
       "      <td>-0.756242</td>\n",
       "    </tr>\n",
       "    <tr>\n",
       "      <th>2018-02-28</th>\n",
       "      <td>1.842376</td>\n",
       "      <td>-0.564057</td>\n",
       "    </tr>\n",
       "    <tr>\n",
       "      <th>2018-03-01</th>\n",
       "      <td>-0.596650</td>\n",
       "      <td>-0.058825</td>\n",
       "    </tr>\n",
       "    <tr>\n",
       "      <th>2018-03-02</th>\n",
       "      <td>-1.417761</td>\n",
       "      <td>0.106304</td>\n",
       "    </tr>\n",
       "    <tr>\n",
       "      <th>2018-03-03</th>\n",
       "      <td>0.972924</td>\n",
       "      <td>0.143730</td>\n",
       "    </tr>\n",
       "    <tr>\n",
       "      <th>2018-03-04</th>\n",
       "      <td>0.979139</td>\n",
       "      <td>0.536617</td>\n",
       "    </tr>\n",
       "  </tbody>\n",
       "</table>\n",
       "</div>"
      ],
      "text/plain": [
       "                   A         B\n",
       "2018-02-26  1.558543 -2.596475\n",
       "2018-02-27 -0.773950 -0.756242\n",
       "2018-02-28  1.842376 -0.564057\n",
       "2018-03-01 -0.596650 -0.058825\n",
       "2018-03-02 -1.417761  0.106304\n",
       "2018-03-03  0.972924  0.143730\n",
       "2018-03-04  0.979139  0.536617"
      ]
     },
     "execution_count": 32,
     "metadata": {},
     "output_type": "execute_result"
    }
   ],
   "source": [
    "df.loc[:,'A':'B']"
   ]
  },
  {
   "cell_type": "code",
   "execution_count": 33,
   "metadata": {
    "collapsed": false
   },
   "outputs": [
    {
     "data": {
      "text/html": [
       "<div>\n",
       "<table border=\"1\" class=\"dataframe\">\n",
       "  <thead>\n",
       "    <tr style=\"text-align: right;\">\n",
       "      <th></th>\n",
       "      <th>A</th>\n",
       "      <th>B</th>\n",
       "      <th>C</th>\n",
       "      <th>D</th>\n",
       "    </tr>\n",
       "  </thead>\n",
       "  <tbody>\n",
       "    <tr>\n",
       "      <th>2018-02-26</th>\n",
       "      <td>1.558543</td>\n",
       "      <td>NaN</td>\n",
       "      <td>NaN</td>\n",
       "      <td>NaN</td>\n",
       "    </tr>\n",
       "    <tr>\n",
       "      <th>2018-02-27</th>\n",
       "      <td>NaN</td>\n",
       "      <td>NaN</td>\n",
       "      <td>0.645040</td>\n",
       "      <td>NaN</td>\n",
       "    </tr>\n",
       "    <tr>\n",
       "      <th>2018-02-28</th>\n",
       "      <td>1.842376</td>\n",
       "      <td>NaN</td>\n",
       "      <td>NaN</td>\n",
       "      <td>0.004784</td>\n",
       "    </tr>\n",
       "    <tr>\n",
       "      <th>2018-03-01</th>\n",
       "      <td>NaN</td>\n",
       "      <td>NaN</td>\n",
       "      <td>NaN</td>\n",
       "      <td>0.982080</td>\n",
       "    </tr>\n",
       "    <tr>\n",
       "      <th>2018-03-02</th>\n",
       "      <td>NaN</td>\n",
       "      <td>0.106304</td>\n",
       "      <td>NaN</td>\n",
       "      <td>1.045805</td>\n",
       "    </tr>\n",
       "    <tr>\n",
       "      <th>2018-03-03</th>\n",
       "      <td>0.972924</td>\n",
       "      <td>0.143730</td>\n",
       "      <td>1.293950</td>\n",
       "      <td>0.074228</td>\n",
       "    </tr>\n",
       "    <tr>\n",
       "      <th>2018-03-04</th>\n",
       "      <td>0.979139</td>\n",
       "      <td>0.536617</td>\n",
       "      <td>0.456346</td>\n",
       "      <td>1.628000</td>\n",
       "    </tr>\n",
       "  </tbody>\n",
       "</table>\n",
       "</div>"
      ],
      "text/plain": [
       "                   A         B         C         D\n",
       "2018-02-26  1.558543       NaN       NaN       NaN\n",
       "2018-02-27       NaN       NaN  0.645040       NaN\n",
       "2018-02-28  1.842376       NaN       NaN  0.004784\n",
       "2018-03-01       NaN       NaN       NaN  0.982080\n",
       "2018-03-02       NaN  0.106304       NaN  1.045805\n",
       "2018-03-03  0.972924  0.143730  1.293950  0.074228\n",
       "2018-03-04  0.979139  0.536617  0.456346  1.628000"
      ]
     },
     "execution_count": 33,
     "metadata": {},
     "output_type": "execute_result"
    }
   ],
   "source": [
    "df[df>0]"
   ]
  },
  {
   "cell_type": "code",
   "execution_count": 34,
   "metadata": {
    "collapsed": false
   },
   "outputs": [
    {
     "data": {
      "text/html": [
       "<div>\n",
       "<table border=\"1\" class=\"dataframe\">\n",
       "  <thead>\n",
       "    <tr style=\"text-align: right;\">\n",
       "      <th></th>\n",
       "      <th>A</th>\n",
       "      <th>B</th>\n",
       "      <th>C</th>\n",
       "      <th>D</th>\n",
       "    </tr>\n",
       "  </thead>\n",
       "  <tbody>\n",
       "    <tr>\n",
       "      <th>2018-03-03</th>\n",
       "      <td>0.972924</td>\n",
       "      <td>0.143730</td>\n",
       "      <td>1.293950</td>\n",
       "      <td>0.074228</td>\n",
       "    </tr>\n",
       "    <tr>\n",
       "      <th>2018-03-04</th>\n",
       "      <td>0.979139</td>\n",
       "      <td>0.536617</td>\n",
       "      <td>0.456346</td>\n",
       "      <td>1.628000</td>\n",
       "    </tr>\n",
       "  </tbody>\n",
       "</table>\n",
       "</div>"
      ],
      "text/plain": [
       "                   A         B         C         D\n",
       "2018-03-03  0.972924  0.143730  1.293950  0.074228\n",
       "2018-03-04  0.979139  0.536617  0.456346  1.628000"
      ]
     },
     "execution_count": 34,
     "metadata": {},
     "output_type": "execute_result"
    }
   ],
   "source": [
    "df[df>0].dropna(how='any')"
   ]
  },
  {
   "cell_type": "code",
   "execution_count": 35,
   "metadata": {
    "collapsed": false
   },
   "outputs": [
    {
     "data": {
      "text/html": [
       "<div>\n",
       "<table border=\"1\" class=\"dataframe\">\n",
       "  <thead>\n",
       "    <tr style=\"text-align: right;\">\n",
       "      <th></th>\n",
       "      <th>A</th>\n",
       "      <th>B</th>\n",
       "      <th>C</th>\n",
       "      <th>D</th>\n",
       "    </tr>\n",
       "  </thead>\n",
       "  <tbody>\n",
       "    <tr>\n",
       "      <th>2018-02-26</th>\n",
       "      <td>1.558543</td>\n",
       "      <td>0.000000</td>\n",
       "      <td>0.000000</td>\n",
       "      <td>0.000000</td>\n",
       "    </tr>\n",
       "    <tr>\n",
       "      <th>2018-02-27</th>\n",
       "      <td>0.000000</td>\n",
       "      <td>0.000000</td>\n",
       "      <td>0.645040</td>\n",
       "      <td>0.000000</td>\n",
       "    </tr>\n",
       "    <tr>\n",
       "      <th>2018-02-28</th>\n",
       "      <td>1.842376</td>\n",
       "      <td>0.000000</td>\n",
       "      <td>0.000000</td>\n",
       "      <td>0.004784</td>\n",
       "    </tr>\n",
       "    <tr>\n",
       "      <th>2018-03-01</th>\n",
       "      <td>0.000000</td>\n",
       "      <td>0.000000</td>\n",
       "      <td>0.000000</td>\n",
       "      <td>0.982080</td>\n",
       "    </tr>\n",
       "    <tr>\n",
       "      <th>2018-03-02</th>\n",
       "      <td>0.000000</td>\n",
       "      <td>0.106304</td>\n",
       "      <td>0.000000</td>\n",
       "      <td>1.045805</td>\n",
       "    </tr>\n",
       "    <tr>\n",
       "      <th>2018-03-03</th>\n",
       "      <td>0.972924</td>\n",
       "      <td>0.143730</td>\n",
       "      <td>1.293950</td>\n",
       "      <td>0.074228</td>\n",
       "    </tr>\n",
       "    <tr>\n",
       "      <th>2018-03-04</th>\n",
       "      <td>0.979139</td>\n",
       "      <td>0.536617</td>\n",
       "      <td>0.456346</td>\n",
       "      <td>1.628000</td>\n",
       "    </tr>\n",
       "  </tbody>\n",
       "</table>\n",
       "</div>"
      ],
      "text/plain": [
       "                   A         B         C         D\n",
       "2018-02-26  1.558543  0.000000  0.000000  0.000000\n",
       "2018-02-27  0.000000  0.000000  0.645040  0.000000\n",
       "2018-02-28  1.842376  0.000000  0.000000  0.004784\n",
       "2018-03-01  0.000000  0.000000  0.000000  0.982080\n",
       "2018-03-02  0.000000  0.106304  0.000000  1.045805\n",
       "2018-03-03  0.972924  0.143730  1.293950  0.074228\n",
       "2018-03-04  0.979139  0.536617  0.456346  1.628000"
      ]
     },
     "execution_count": 35,
     "metadata": {},
     "output_type": "execute_result"
    }
   ],
   "source": [
    "df[df>0].fillna(value=0)"
   ]
  },
  {
   "cell_type": "code",
   "execution_count": 39,
   "metadata": {
    "collapsed": false
   },
   "outputs": [
    {
     "data": {
      "text/html": [
       "<div>\n",
       "<table border=\"1\" class=\"dataframe\">\n",
       "  <thead>\n",
       "    <tr style=\"text-align: right;\">\n",
       "      <th></th>\n",
       "      <th>A</th>\n",
       "      <th>B</th>\n",
       "      <th>C</th>\n",
       "      <th>D</th>\n",
       "    </tr>\n",
       "  </thead>\n",
       "  <tbody>\n",
       "    <tr>\n",
       "      <th>2018-02-26</th>\n",
       "      <td>True</td>\n",
       "      <td>False</td>\n",
       "      <td>False</td>\n",
       "      <td>False</td>\n",
       "    </tr>\n",
       "    <tr>\n",
       "      <th>2018-02-27</th>\n",
       "      <td>False</td>\n",
       "      <td>False</td>\n",
       "      <td>True</td>\n",
       "      <td>False</td>\n",
       "    </tr>\n",
       "    <tr>\n",
       "      <th>2018-02-28</th>\n",
       "      <td>True</td>\n",
       "      <td>False</td>\n",
       "      <td>False</td>\n",
       "      <td>True</td>\n",
       "    </tr>\n",
       "    <tr>\n",
       "      <th>2018-03-01</th>\n",
       "      <td>False</td>\n",
       "      <td>False</td>\n",
       "      <td>False</td>\n",
       "      <td>True</td>\n",
       "    </tr>\n",
       "    <tr>\n",
       "      <th>2018-03-02</th>\n",
       "      <td>False</td>\n",
       "      <td>True</td>\n",
       "      <td>False</td>\n",
       "      <td>True</td>\n",
       "    </tr>\n",
       "    <tr>\n",
       "      <th>2018-03-03</th>\n",
       "      <td>True</td>\n",
       "      <td>True</td>\n",
       "      <td>True</td>\n",
       "      <td>True</td>\n",
       "    </tr>\n",
       "    <tr>\n",
       "      <th>2018-03-04</th>\n",
       "      <td>True</td>\n",
       "      <td>True</td>\n",
       "      <td>True</td>\n",
       "      <td>True</td>\n",
       "    </tr>\n",
       "  </tbody>\n",
       "</table>\n",
       "</div>"
      ],
      "text/plain": [
       "                A      B      C      D\n",
       "2018-02-26   True  False  False  False\n",
       "2018-02-27  False  False   True  False\n",
       "2018-02-28   True  False  False   True\n",
       "2018-03-01  False  False  False   True\n",
       "2018-03-02  False   True  False   True\n",
       "2018-03-03   True   True   True   True\n",
       "2018-03-04   True   True   True   True"
      ]
     },
     "execution_count": 39,
     "metadata": {},
     "output_type": "execute_result"
    }
   ],
   "source": [
    "pd.notnull(df[df>0])"
   ]
  },
  {
   "cell_type": "code",
   "execution_count": 42,
   "metadata": {
    "collapsed": false
   },
   "outputs": [
    {
     "data": {
      "text/plain": [
       "2018-02-26    NaN\n",
       "2018-02-27    NaN\n",
       "2018-02-28    1.0\n",
       "2018-03-01    3.0\n",
       "2018-03-02    5.0\n",
       "2018-03-03    NaN\n",
       "2018-03-04    6.0\n",
       "Freq: D, dtype: float64"
      ]
     },
     "execution_count": 42,
     "metadata": {},
     "output_type": "execute_result"
    }
   ],
   "source": [
    "s = pd.Series([1,3,5,np.nan,6,8,9], index=dates).shift(2)\n",
    "s"
   ]
  },
  {
   "cell_type": "code",
   "execution_count": 44,
   "metadata": {
    "collapsed": false
   },
   "outputs": [
    {
     "ename": "NameError",
     "evalue": "name 'index' is not defined",
     "output_type": "error",
     "traceback": [
      "\u001b[0;31m---------------------------------------------------------------------------\u001b[0m",
      "\u001b[0;31mNameError\u001b[0m                                 Traceback (most recent call last)",
      "\u001b[0;32m<ipython-input-44-caf7e7bf96a7>\u001b[0m in \u001b[0;36m<module>\u001b[0;34m()\u001b[0m\n\u001b[0;32m----> 1\u001b[0;31m \u001b[0mindex\u001b[0m\u001b[1;33m\u001b[0m\u001b[0m\n\u001b[0m",
      "\u001b[0;31mNameError\u001b[0m: name 'index' is not defined"
     ]
    }
   ],
   "source": [
    "index"
   ]
  },
  {
   "cell_type": "code",
   "execution_count": 43,
   "metadata": {
    "collapsed": false
   },
   "outputs": [
    {
     "data": {
      "text/html": [
       "<div>\n",
       "<table border=\"1\" class=\"dataframe\">\n",
       "  <thead>\n",
       "    <tr style=\"text-align: right;\">\n",
       "      <th></th>\n",
       "      <th>A</th>\n",
       "      <th>B</th>\n",
       "      <th>C</th>\n",
       "      <th>D</th>\n",
       "    </tr>\n",
       "  </thead>\n",
       "  <tbody>\n",
       "    <tr>\n",
       "      <th>2018-02-26</th>\n",
       "      <td>NaN</td>\n",
       "      <td>NaN</td>\n",
       "      <td>NaN</td>\n",
       "      <td>NaN</td>\n",
       "    </tr>\n",
       "    <tr>\n",
       "      <th>2018-02-27</th>\n",
       "      <td>NaN</td>\n",
       "      <td>NaN</td>\n",
       "      <td>NaN</td>\n",
       "      <td>NaN</td>\n",
       "    </tr>\n",
       "    <tr>\n",
       "      <th>2018-02-28</th>\n",
       "      <td>0.842376</td>\n",
       "      <td>-1.564057</td>\n",
       "      <td>-2.815927</td>\n",
       "      <td>-0.995216</td>\n",
       "    </tr>\n",
       "    <tr>\n",
       "      <th>2018-03-01</th>\n",
       "      <td>-3.596650</td>\n",
       "      <td>-3.058825</td>\n",
       "      <td>-3.530433</td>\n",
       "      <td>-2.017920</td>\n",
       "    </tr>\n",
       "    <tr>\n",
       "      <th>2018-03-02</th>\n",
       "      <td>-6.417761</td>\n",
       "      <td>-4.893696</td>\n",
       "      <td>-5.310158</td>\n",
       "      <td>-3.954195</td>\n",
       "    </tr>\n",
       "    <tr>\n",
       "      <th>2018-03-03</th>\n",
       "      <td>NaN</td>\n",
       "      <td>NaN</td>\n",
       "      <td>NaN</td>\n",
       "      <td>NaN</td>\n",
       "    </tr>\n",
       "    <tr>\n",
       "      <th>2018-03-04</th>\n",
       "      <td>-5.020861</td>\n",
       "      <td>-5.463383</td>\n",
       "      <td>-5.543654</td>\n",
       "      <td>-4.372000</td>\n",
       "    </tr>\n",
       "  </tbody>\n",
       "</table>\n",
       "</div>"
      ],
      "text/plain": [
       "                   A         B         C         D\n",
       "2018-02-26       NaN       NaN       NaN       NaN\n",
       "2018-02-27       NaN       NaN       NaN       NaN\n",
       "2018-02-28  0.842376 -1.564057 -2.815927 -0.995216\n",
       "2018-03-01 -3.596650 -3.058825 -3.530433 -2.017920\n",
       "2018-03-02 -6.417761 -4.893696 -5.310158 -3.954195\n",
       "2018-03-03       NaN       NaN       NaN       NaN\n",
       "2018-03-04 -5.020861 -5.463383 -5.543654 -4.372000"
      ]
     },
     "execution_count": 43,
     "metadata": {},
     "output_type": "execute_result"
    }
   ],
   "source": [
    "df.sub(s, axis='index')"
   ]
  },
  {
   "cell_type": "code",
   "execution_count": 45,
   "metadata": {
    "collapsed": false
   },
   "outputs": [
    {
     "data": {
      "text/html": [
       "<div>\n",
       "<table border=\"1\" class=\"dataframe\">\n",
       "  <thead>\n",
       "    <tr style=\"text-align: right;\">\n",
       "      <th></th>\n",
       "      <th>A</th>\n",
       "      <th>B</th>\n",
       "      <th>C</th>\n",
       "      <th>D</th>\n",
       "    </tr>\n",
       "  </thead>\n",
       "  <tbody>\n",
       "    <tr>\n",
       "      <th>2018-02-26</th>\n",
       "      <td>1.558543</td>\n",
       "      <td>-2.596475</td>\n",
       "      <td>-3.235967</td>\n",
       "      <td>-0.535029</td>\n",
       "    </tr>\n",
       "    <tr>\n",
       "      <th>2018-02-27</th>\n",
       "      <td>-0.773950</td>\n",
       "      <td>-0.756242</td>\n",
       "      <td>0.645040</td>\n",
       "      <td>-0.292582</td>\n",
       "    </tr>\n",
       "    <tr>\n",
       "      <th>2018-02-28</th>\n",
       "      <td>1.842376</td>\n",
       "      <td>-0.564057</td>\n",
       "      <td>-1.815927</td>\n",
       "      <td>0.004784</td>\n",
       "    </tr>\n",
       "    <tr>\n",
       "      <th>2018-03-01</th>\n",
       "      <td>-0.596650</td>\n",
       "      <td>-0.058825</td>\n",
       "      <td>-0.530433</td>\n",
       "      <td>0.982080</td>\n",
       "    </tr>\n",
       "    <tr>\n",
       "      <th>2018-03-02</th>\n",
       "      <td>-1.417761</td>\n",
       "      <td>0.106304</td>\n",
       "      <td>-0.310158</td>\n",
       "      <td>1.045805</td>\n",
       "    </tr>\n",
       "    <tr>\n",
       "      <th>2018-03-03</th>\n",
       "      <td>0.972924</td>\n",
       "      <td>0.143730</td>\n",
       "      <td>1.293950</td>\n",
       "      <td>0.074228</td>\n",
       "    </tr>\n",
       "    <tr>\n",
       "      <th>2018-03-04</th>\n",
       "      <td>0.979139</td>\n",
       "      <td>0.536617</td>\n",
       "      <td>0.456346</td>\n",
       "      <td>1.628000</td>\n",
       "    </tr>\n",
       "  </tbody>\n",
       "</table>\n",
       "</div>"
      ],
      "text/plain": [
       "                   A         B         C         D\n",
       "2018-02-26  1.558543 -2.596475 -3.235967 -0.535029\n",
       "2018-02-27 -0.773950 -0.756242  0.645040 -0.292582\n",
       "2018-02-28  1.842376 -0.564057 -1.815927  0.004784\n",
       "2018-03-01 -0.596650 -0.058825 -0.530433  0.982080\n",
       "2018-03-02 -1.417761  0.106304 -0.310158  1.045805\n",
       "2018-03-03  0.972924  0.143730  1.293950  0.074228\n",
       "2018-03-04  0.979139  0.536617  0.456346  1.628000"
      ]
     },
     "execution_count": 45,
     "metadata": {},
     "output_type": "execute_result"
    }
   ],
   "source": [
    "df"
   ]
  },
  {
   "cell_type": "code",
   "execution_count": 46,
   "metadata": {
    "collapsed": false
   },
   "outputs": [
    {
     "data": {
      "text/html": [
       "<div>\n",
       "<table border=\"1\" class=\"dataframe\">\n",
       "  <thead>\n",
       "    <tr style=\"text-align: right;\">\n",
       "      <th></th>\n",
       "      <th>A</th>\n",
       "      <th>B</th>\n",
       "      <th>C</th>\n",
       "      <th>D</th>\n",
       "    </tr>\n",
       "  </thead>\n",
       "  <tbody>\n",
       "    <tr>\n",
       "      <th>2018-02-26</th>\n",
       "      <td>1.558543</td>\n",
       "      <td>-2.596475</td>\n",
       "      <td>-3.235967</td>\n",
       "      <td>-0.535029</td>\n",
       "    </tr>\n",
       "    <tr>\n",
       "      <th>2018-02-27</th>\n",
       "      <td>0.784593</td>\n",
       "      <td>-3.352717</td>\n",
       "      <td>-2.590927</td>\n",
       "      <td>-0.827611</td>\n",
       "    </tr>\n",
       "    <tr>\n",
       "      <th>2018-02-28</th>\n",
       "      <td>2.626969</td>\n",
       "      <td>-3.916774</td>\n",
       "      <td>-4.406855</td>\n",
       "      <td>-0.822827</td>\n",
       "    </tr>\n",
       "    <tr>\n",
       "      <th>2018-03-01</th>\n",
       "      <td>2.030319</td>\n",
       "      <td>-3.975600</td>\n",
       "      <td>-4.937288</td>\n",
       "      <td>0.159253</td>\n",
       "    </tr>\n",
       "    <tr>\n",
       "      <th>2018-03-02</th>\n",
       "      <td>0.612557</td>\n",
       "      <td>-3.869296</td>\n",
       "      <td>-5.247446</td>\n",
       "      <td>1.205058</td>\n",
       "    </tr>\n",
       "    <tr>\n",
       "      <th>2018-03-03</th>\n",
       "      <td>1.585482</td>\n",
       "      <td>-3.725566</td>\n",
       "      <td>-3.953495</td>\n",
       "      <td>1.279287</td>\n",
       "    </tr>\n",
       "    <tr>\n",
       "      <th>2018-03-04</th>\n",
       "      <td>2.564621</td>\n",
       "      <td>-3.188949</td>\n",
       "      <td>-3.497149</td>\n",
       "      <td>2.907287</td>\n",
       "    </tr>\n",
       "  </tbody>\n",
       "</table>\n",
       "</div>"
      ],
      "text/plain": [
       "                   A         B         C         D\n",
       "2018-02-26  1.558543 -2.596475 -3.235967 -0.535029\n",
       "2018-02-27  0.784593 -3.352717 -2.590927 -0.827611\n",
       "2018-02-28  2.626969 -3.916774 -4.406855 -0.822827\n",
       "2018-03-01  2.030319 -3.975600 -4.937288  0.159253\n",
       "2018-03-02  0.612557 -3.869296 -5.247446  1.205058\n",
       "2018-03-03  1.585482 -3.725566 -3.953495  1.279287\n",
       "2018-03-04  2.564621 -3.188949 -3.497149  2.907287"
      ]
     },
     "execution_count": 46,
     "metadata": {},
     "output_type": "execute_result"
    }
   ],
   "source": [
    "df.apply(np.cumsum)"
   ]
  },
  {
   "cell_type": "code",
   "execution_count": 48,
   "metadata": {
    "collapsed": false
   },
   "outputs": [
    {
     "data": {
      "text/html": [
       "<div>\n",
       "<table border=\"1\" class=\"dataframe\">\n",
       "  <thead>\n",
       "    <tr style=\"text-align: right;\">\n",
       "      <th></th>\n",
       "      <th>A</th>\n",
       "      <th>B</th>\n",
       "      <th>C</th>\n",
       "      <th>D</th>\n",
       "    </tr>\n",
       "  </thead>\n",
       "  <tbody>\n",
       "    <tr>\n",
       "      <th>2018-02-26</th>\n",
       "      <td>1.558543</td>\n",
       "      <td>-2.596475</td>\n",
       "      <td>-3.235967</td>\n",
       "      <td>-0.535029</td>\n",
       "    </tr>\n",
       "    <tr>\n",
       "      <th>2018-02-27</th>\n",
       "      <td>-0.773950</td>\n",
       "      <td>-0.756242</td>\n",
       "      <td>0.645040</td>\n",
       "      <td>-0.292582</td>\n",
       "    </tr>\n",
       "    <tr>\n",
       "      <th>2018-02-28</th>\n",
       "      <td>1.842376</td>\n",
       "      <td>-0.564057</td>\n",
       "      <td>-1.815927</td>\n",
       "      <td>0.004784</td>\n",
       "    </tr>\n",
       "    <tr>\n",
       "      <th>2018-03-01</th>\n",
       "      <td>-0.596650</td>\n",
       "      <td>-0.058825</td>\n",
       "      <td>-0.530433</td>\n",
       "      <td>0.982080</td>\n",
       "    </tr>\n",
       "    <tr>\n",
       "      <th>2018-03-02</th>\n",
       "      <td>-1.417761</td>\n",
       "      <td>0.106304</td>\n",
       "      <td>-0.310158</td>\n",
       "      <td>1.045805</td>\n",
       "    </tr>\n",
       "    <tr>\n",
       "      <th>2018-03-03</th>\n",
       "      <td>0.972924</td>\n",
       "      <td>0.143730</td>\n",
       "      <td>1.293950</td>\n",
       "      <td>0.074228</td>\n",
       "    </tr>\n",
       "    <tr>\n",
       "      <th>2018-03-04</th>\n",
       "      <td>0.979139</td>\n",
       "      <td>0.536617</td>\n",
       "      <td>0.456346</td>\n",
       "      <td>1.628000</td>\n",
       "    </tr>\n",
       "  </tbody>\n",
       "</table>\n",
       "</div>"
      ],
      "text/plain": [
       "                   A         B         C         D\n",
       "2018-02-26  1.558543 -2.596475 -3.235967 -0.535029\n",
       "2018-02-27 -0.773950 -0.756242  0.645040 -0.292582\n",
       "2018-02-28  1.842376 -0.564057 -1.815927  0.004784\n",
       "2018-03-01 -0.596650 -0.058825 -0.530433  0.982080\n",
       "2018-03-02 -1.417761  0.106304 -0.310158  1.045805\n",
       "2018-03-03  0.972924  0.143730  1.293950  0.074228\n",
       "2018-03-04  0.979139  0.536617  0.456346  1.628000"
      ]
     },
     "execution_count": 48,
     "metadata": {},
     "output_type": "execute_result"
    }
   ],
   "source": [
    "df.stack().unstack()"
   ]
  },
  {
   "cell_type": "markdown",
   "metadata": {},
   "source": [
    "重新索引"
   ]
  },
  {
   "cell_type": "code",
   "execution_count": 49,
   "metadata": {
    "collapsed": false
   },
   "outputs": [
    {
     "data": {
      "text/plain": [
       "A    1\n",
       "B    2\n",
       "C    3\n",
       "D    4\n",
       "dtype: int64"
      ]
     },
     "execution_count": 49,
     "metadata": {},
     "output_type": "execute_result"
    }
   ],
   "source": [
    "s = Series([1,2,3,4],index=list('ABCD'))\n",
    "s"
   ]
  },
  {
   "cell_type": "code",
   "execution_count": 56,
   "metadata": {
    "collapsed": false
   },
   "outputs": [
    {
     "data": {
      "text/plain": [
       "D    4.0\n",
       "B    2.0\n",
       "C    3.0\n",
       "A    1.0\n",
       "E    NaN\n",
       "dtype: float64"
      ]
     },
     "execution_count": 56,
     "metadata": {},
     "output_type": "execute_result"
    }
   ],
   "source": [
    "s = s.reindex(['D','B','C','A','E'])\n",
    "s"
   ]
  },
  {
   "cell_type": "code",
   "execution_count": 62,
   "metadata": {
    "collapsed": false
   },
   "outputs": [
    {
     "data": {
      "text/plain": [
       "0    A\n",
       "3    B\n",
       "5    C\n",
       "8    D\n",
       "dtype: object"
      ]
     },
     "execution_count": 62,
     "metadata": {},
     "output_type": "execute_result"
    }
   ],
   "source": [
    "s = Series(data=list('ABCD'),index=[0,3,5,8])\n",
    "s"
   ]
  },
  {
   "cell_type": "code",
   "execution_count": 63,
   "metadata": {
    "collapsed": false
   },
   "outputs": [
    {
     "data": {
      "text/plain": [
       "0      A\n",
       "1      B\n",
       "2      B\n",
       "3      B\n",
       "4      C\n",
       "5      C\n",
       "6      D\n",
       "7      D\n",
       "8      D\n",
       "9    NaN\n",
       "dtype: object"
      ]
     },
     "execution_count": 63,
     "metadata": {},
     "output_type": "execute_result"
    }
   ],
   "source": [
    "s = s.reindex(range(10),method='bfill')\n",
    "s"
   ]
  },
  {
   "cell_type": "code",
   "execution_count": 67,
   "metadata": {
    "collapsed": false
   },
   "outputs": [],
   "source": [
    "s1 = Series([1,2,5,7],index=list('ABCD'))\n",
    "\n",
    "s2 = Series([0,1,5,2,7],index=list('EADBF'))"
   ]
  },
  {
   "cell_type": "code",
   "execution_count": 68,
   "metadata": {
    "collapsed": true
   },
   "outputs": [],
   "source": [
    "s = s1 + s2"
   ]
  },
  {
   "cell_type": "code",
   "execution_count": 69,
   "metadata": {
    "collapsed": false
   },
   "outputs": [
    {
     "data": {
      "text/plain": [
       "A     2.0\n",
       "B     4.0\n",
       "C     NaN\n",
       "D    12.0\n",
       "E     NaN\n",
       "F     NaN\n",
       "dtype: float64"
      ]
     },
     "execution_count": 69,
     "metadata": {},
     "output_type": "execute_result"
    }
   ],
   "source": [
    "s"
   ]
  },
  {
   "cell_type": "code",
   "execution_count": null,
   "metadata": {
    "collapsed": true
   },
   "outputs": [],
   "source": []
  },
  {
   "cell_type": "code",
   "execution_count": 55,
   "metadata": {
    "collapsed": false
   },
   "outputs": [
    {
     "data": {
      "text/plain": [
       "Index(['D', 'B', 'C', 'A'], dtype='object')"
      ]
     },
     "execution_count": 55,
     "metadata": {},
     "output_type": "execute_result"
    }
   ],
   "source": [
    "s.index"
   ]
  }
 ],
 "metadata": {
  "kernelspec": {
   "display_name": "Python [default]",
   "language": "python",
   "name": "python3"
  },
  "language_info": {
   "codemirror_mode": {
    "name": "ipython",
    "version": 3
   },
   "file_extension": ".py",
   "mimetype": "text/x-python",
   "name": "python",
   "nbconvert_exporter": "python",
   "pygments_lexer": "ipython3",
   "version": "3.5.2"
  }
 },
 "nbformat": 4,
 "nbformat_minor": 1
}
