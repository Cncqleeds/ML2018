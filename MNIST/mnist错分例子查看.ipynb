{
 "cells": [
  {
   "cell_type": "code",
   "execution_count": 1,
   "metadata": {},
   "outputs": [
    {
     "name": "stderr",
     "output_type": "stream",
     "text": [
      "C:\\ProgramData\\Anaconda3\\lib\\site-packages\\h5py\\__init__.py:36: FutureWarning: Conversion of the second argument of issubdtype from `float` to `np.floating` is deprecated. In future, it will be treated as `np.float64 == np.dtype(float).type`.\n",
      "  from ._conv import register_converters as _register_converters\n"
     ]
    }
   ],
   "source": [
    "import tensorflow as tf"
   ]
  },
  {
   "cell_type": "code",
   "execution_count": 2,
   "metadata": {},
   "outputs": [
    {
     "name": "stdout",
     "output_type": "stream",
     "text": [
      "WARNING:tensorflow:From C:\\ProgramData\\Anaconda3\\lib\\site-packages\\tensorflow\\contrib\\learn\\python\\learn\\datasets\\base.py:198: retry (from tensorflow.contrib.learn.python.learn.datasets.base) is deprecated and will be removed in a future version.\n",
      "Instructions for updating:\n",
      "Use the retry module or similar alternatives.\n",
      "WARNING:tensorflow:From <ipython-input-2-355553a7df3e>:2: read_data_sets (from tensorflow.contrib.learn.python.learn.datasets.mnist) is deprecated and will be removed in a future version.\n",
      "Instructions for updating:\n",
      "Please use alternatives such as official/mnist/dataset.py from tensorflow/models.\n",
      "WARNING:tensorflow:From C:\\ProgramData\\Anaconda3\\lib\\site-packages\\tensorflow\\contrib\\learn\\python\\learn\\datasets\\mnist.py:260: maybe_download (from tensorflow.contrib.learn.python.learn.datasets.base) is deprecated and will be removed in a future version.\n",
      "Instructions for updating:\n",
      "Please write your own downloading logic.\n",
      "WARNING:tensorflow:From C:\\ProgramData\\Anaconda3\\lib\\site-packages\\tensorflow\\contrib\\learn\\python\\learn\\datasets\\mnist.py:262: extract_images (from tensorflow.contrib.learn.python.learn.datasets.mnist) is deprecated and will be removed in a future version.\n",
      "Instructions for updating:\n",
      "Please use tf.data to implement this functionality.\n",
      "Extracting E:\\home\\workspace\\datasets\\mnist\\train-images-idx3-ubyte.gz\n",
      "WARNING:tensorflow:From C:\\ProgramData\\Anaconda3\\lib\\site-packages\\tensorflow\\contrib\\learn\\python\\learn\\datasets\\mnist.py:267: extract_labels (from tensorflow.contrib.learn.python.learn.datasets.mnist) is deprecated and will be removed in a future version.\n",
      "Instructions for updating:\n",
      "Please use tf.data to implement this functionality.\n",
      "Extracting E:\\home\\workspace\\datasets\\mnist\\train-labels-idx1-ubyte.gz\n",
      "WARNING:tensorflow:From C:\\ProgramData\\Anaconda3\\lib\\site-packages\\tensorflow\\contrib\\learn\\python\\learn\\datasets\\mnist.py:110: dense_to_one_hot (from tensorflow.contrib.learn.python.learn.datasets.mnist) is deprecated and will be removed in a future version.\n",
      "Instructions for updating:\n",
      "Please use tf.one_hot on tensors.\n",
      "Extracting E:\\home\\workspace\\datasets\\mnist\\t10k-images-idx3-ubyte.gz\n",
      "Extracting E:\\home\\workspace\\datasets\\mnist\\t10k-labels-idx1-ubyte.gz\n",
      "WARNING:tensorflow:From C:\\ProgramData\\Anaconda3\\lib\\site-packages\\tensorflow\\contrib\\learn\\python\\learn\\datasets\\mnist.py:290: DataSet.__init__ (from tensorflow.contrib.learn.python.learn.datasets.mnist) is deprecated and will be removed in a future version.\n",
      "Instructions for updating:\n",
      "Please use alternatives such as official/mnist/dataset.py from tensorflow/models.\n"
     ]
    }
   ],
   "source": [
    "from tensorflow.examples.tutorials.mnist import input_data\n",
    "mnist = input_data.read_data_sets(\"E:\\\\home\\\\workspace\\\\datasets\\\\mnist\",reshape=False,one_hot=True)"
   ]
  },
  {
   "cell_type": "code",
   "execution_count": 3,
   "metadata": {},
   "outputs": [
    {
     "data": {
      "text/plain": [
       "(55000, 28, 28, 1)"
      ]
     },
     "execution_count": 3,
     "metadata": {},
     "output_type": "execute_result"
    }
   ],
   "source": [
    "mnist.train.images.shape"
   ]
  },
  {
   "cell_type": "code",
   "execution_count": 4,
   "metadata": {},
   "outputs": [],
   "source": [
    "x = tf.placeholder(tf.float32,(None,28,28,1))\n",
    "y = tf.placeholder(tf.float32,(None,10))\n",
    "# drop_prob = tf.placeholder(tf.float32)"
   ]
  },
  {
   "cell_type": "code",
   "execution_count": 5,
   "metadata": {},
   "outputs": [],
   "source": [
    "outputs = tf.layers.conv2d(x,filters=32,kernel_size=3,padding='same',activation=tf.nn.relu)\n",
    "# outputs = tf.layers.conv2d(outputs,filters=64,kernel_size=3,padding='same',activation=tf.nn.relu)\n",
    "# outputs = tf.layers.max_pooling2d(outputs,2,2,padding='same')\n",
    "\n",
    "# outputs = tf.layers.conv2d(outputs,filters=128,kernel_size=3,padding='same',activation=tf.nn.relu)\n",
    "# outputs = tf.layers.conv2d(outputs,filters=128,kernel_size=3,padding='same',activation=tf.nn.relu)\n",
    "# outputs = tf.layers.max_pooling2d(outputs,2,2,padding='same')\n",
    "\n",
    "outputs = tf.layers.flatten(outputs)\n",
    "outputs = tf.layers.dense(outputs,256,activation=tf.nn.relu)\n",
    "\n",
    "logits = tf.layers.dense(outputs,10)"
   ]
  },
  {
   "cell_type": "code",
   "execution_count": 6,
   "metadata": {},
   "outputs": [],
   "source": [
    "# logits = tf.layers.dense(tf.reshape(x,[-1,784]),10)"
   ]
  },
  {
   "cell_type": "code",
   "execution_count": 7,
   "metadata": {},
   "outputs": [],
   "source": [
    "loss = tf.reduce_mean(tf.nn.softmax_cross_entropy_with_logits_v2(labels=y,logits=logits))"
   ]
  },
  {
   "cell_type": "code",
   "execution_count": 8,
   "metadata": {},
   "outputs": [],
   "source": [
    "y_pred = tf.nn.softmax(logits)"
   ]
  },
  {
   "cell_type": "code",
   "execution_count": 9,
   "metadata": {},
   "outputs": [],
   "source": [
    "accuray = tf.reduce_mean(tf.cast(tf.equal(tf.argmax(y_pred,axis=1),tf.argmax(y,axis=1)),tf.float32))"
   ]
  },
  {
   "cell_type": "code",
   "execution_count": 10,
   "metadata": {},
   "outputs": [],
   "source": [
    "pred_index = tf.not_equal(tf.argmax(y_pred,axis=1),tf.argmax(y,axis=1))"
   ]
  },
  {
   "cell_type": "code",
   "execution_count": 11,
   "metadata": {},
   "outputs": [],
   "source": [
    "pred_label = tf.argmax(y_pred,axis=1)"
   ]
  },
  {
   "cell_type": "code",
   "execution_count": 12,
   "metadata": {},
   "outputs": [],
   "source": [
    "train_op = tf.train.AdamOptimizer().minimize(loss)"
   ]
  },
  {
   "cell_type": "code",
   "execution_count": 13,
   "metadata": {},
   "outputs": [
    {
     "data": {
      "text/plain": [
       "<tf.Tensor 'Mean:0' shape=() dtype=float32>"
      ]
     },
     "execution_count": 13,
     "metadata": {},
     "output_type": "execute_result"
    }
   ],
   "source": [
    "loss"
   ]
  },
  {
   "cell_type": "code",
   "execution_count": 14,
   "metadata": {},
   "outputs": [
    {
     "name": "stdout",
     "output_type": "stream",
     "text": [
      "Iters:     1  ---> Test Loss:  2.029, Test Accuracy: 0.2496\n",
      "Iters:     1  ---> Train Loss:  1.578, Train Accuracy: 0.4500\n",
      "--------------------------------------------------------------------------------\n",
      "Iters:   101  ---> Test Loss:  0.186, Test Accuracy: 0.9439\n",
      "Iters:   101  ---> Train Loss:  0.190, Train Accuracy: 0.9400\n",
      "--------------------------------------------------------------------------------\n",
      "Iters:   201  ---> Test Loss:  0.118, Test Accuracy: 0.9644\n",
      "Iters:   201  ---> Train Loss:  0.254, Train Accuracy: 0.9400\n",
      "--------------------------------------------------------------------------------\n",
      "Iters:   301  ---> Test Loss:  0.094, Test Accuracy: 0.9701\n",
      "Iters:   301  ---> Train Loss:  0.093, Train Accuracy: 0.9900\n",
      "--------------------------------------------------------------------------------\n",
      "Iters:   401  ---> Test Loss:  0.072, Test Accuracy: 0.9755\n",
      "Iters:   401  ---> Train Loss:  0.044, Train Accuracy: 0.9900\n",
      "--------------------------------------------------------------------------------\n",
      "Iters:   501  ---> Test Loss:  0.065, Test Accuracy: 0.9787\n",
      "Iters:   501  ---> Train Loss:  0.093, Train Accuracy: 0.9800\n",
      "--------------------------------------------------------------------------------\n",
      "Iters:   601  ---> Test Loss:  0.054, Test Accuracy: 0.9812\n",
      "Iters:   601  ---> Train Loss:  0.059, Train Accuracy: 0.9900\n",
      "--------------------------------------------------------------------------------\n",
      "Iters:   701  ---> Test Loss:  0.065, Test Accuracy: 0.9779\n",
      "Iters:   701  ---> Train Loss:  0.033, Train Accuracy: 0.9900\n",
      "--------------------------------------------------------------------------------\n",
      "Iters:   801  ---> Test Loss:  0.065, Test Accuracy: 0.9778\n",
      "Iters:   801  ---> Train Loss:  0.046, Train Accuracy: 0.9900\n",
      "--------------------------------------------------------------------------------\n",
      "Iters:   901  ---> Test Loss:  0.051, Test Accuracy: 0.9837\n",
      "Iters:   901  ---> Train Loss:  0.060, Train Accuracy: 0.9800\n",
      "--------------------------------------------------------------------------------\n",
      "Iters:  1001  ---> Test Loss:  0.052, Test Accuracy: 0.9818\n",
      "Iters:  1001  ---> Train Loss:  0.030, Train Accuracy: 0.9900\n",
      "--------------------------------------------------------------------------------\n"
     ]
    }
   ],
   "source": [
    "with tf.Session() as sess:\n",
    "    sess.run(tf.global_variables_initializer())\n",
    "    \n",
    "    for i in range(1001):\n",
    "        xs,ys = mnist.train.next_batch(100)\n",
    "        sess.run(train_op,{x:xs,y:ys})\n",
    "        if i % 100 == 0:\n",
    "            loss_value,accuray_value = sess.run([loss, accuray],{x:mnist.test.images,y:mnist.test.labels})\n",
    "            print(\"Iters: %5d  ---> Test Loss:  %.3f, Test Accuracy: %.4f\"%(i+1,loss_value,accuray_value))\n",
    "            \n",
    "            loss_value,accuray_value = sess.run([loss, accuray],{x:xs,y:ys})\n",
    "            print(\"Iters: %5d  ---> Train Loss:  %.3f, Train Accuracy: %.4f\"%(i+1,loss_value,accuray_value))\n",
    "            \n",
    "            print(\"-\"*80)\n",
    "            \n",
    "            \n",
    "    pred_index_value,pred_label_value,y_pred_value = sess.run([pred_index,pred_label,y_pred],{x:mnist.test.images,y:mnist.test.labels})\n",
    "    \n",
    "    "
   ]
  },
  {
   "cell_type": "code",
   "execution_count": 15,
   "metadata": {},
   "outputs": [],
   "source": [
    "import numpy as np"
   ]
  },
  {
   "cell_type": "code",
   "execution_count": 16,
   "metadata": {},
   "outputs": [],
   "source": [
    "threshold = 0.8"
   ]
  },
  {
   "cell_type": "code",
   "execution_count": 17,
   "metadata": {},
   "outputs": [],
   "source": [
    "error_images = mnist.test.images[pred_index_value,:].reshape(-1,28,28)\n",
    "\n",
    "error_labels = np.argmax(mnist.test.labels[pred_index_value,:],axis=1)\n",
    "pred_error_labels = pred_label_value[pred_index_value]\n",
    "prob_error_labels = np.max(y_pred_value[pred_index_value,:],axis=1)"
   ]
  },
  {
   "cell_type": "code",
   "execution_count": 18,
   "metadata": {},
   "outputs": [],
   "source": [
    "prob_error_labels_threshold = prob_error_labels[prob_error_labels>threshold]\n",
    "pred_error_labels_threshold = pred_error_labels[prob_error_labels>threshold]\n",
    "error_labels_threshold = error_labels[prob_error_labels>threshold]\n",
    "error_images_threshold = error_images[prob_error_labels>threshold,:,:]"
   ]
  },
  {
   "cell_type": "code",
   "execution_count": 19,
   "metadata": {},
   "outputs": [
    {
     "data": {
      "text/plain": [
       "(72,)"
      ]
     },
     "execution_count": 19,
     "metadata": {},
     "output_type": "execute_result"
    }
   ],
   "source": [
    "prob_error_labels_threshold.shape"
   ]
  },
  {
   "cell_type": "code",
   "execution_count": 20,
   "metadata": {},
   "outputs": [
    {
     "data": {
      "text/plain": [
       "(182,)"
      ]
     },
     "execution_count": 20,
     "metadata": {},
     "output_type": "execute_result"
    }
   ],
   "source": [
    "prob_error_labels.shape"
   ]
  },
  {
   "cell_type": "code",
   "execution_count": 21,
   "metadata": {},
   "outputs": [],
   "source": [
    "% matplotlib inline\n",
    "from matplotlib import pyplot as plt"
   ]
  },
  {
   "cell_type": "code",
   "execution_count": 22,
   "metadata": {},
   "outputs": [],
   "source": [
    "high = prob_error_labels_threshold.shape[0]"
   ]
  },
  {
   "cell_type": "code",
   "execution_count": 23,
   "metadata": {},
   "outputs": [
    {
     "name": "stdout",
     "output_type": "stream",
     "text": [
      "  60th exmaple --->  True label is 3 and Predict label is 8 with probability 0.890\n"
     ]
    },
    {
     "data": {
      "image/png": "[encoded data removed]",
      "text/plain": [
       "<matplotlib.figure.Figure at 0x11875d30>"
      ]
     },
     "metadata": {},
     "output_type": "display_data"
    },
    {
     "name": "stdout",
     "output_type": "stream",
     "text": [
      "   1th exmaple --->  True label is 6 and Predict label is 0 with probability 0.910\n"
     ]
    },
    {
     "data": {
      "image/png": "[encoded data removed]",
      "text/plain": [
       "<matplotlib.figure.Figure at 0x119c1898>"
      ]
     },
     "metadata": {},
     "output_type": "display_data"
    },
    {
     "name": "stdout",
     "output_type": "stream",
     "text": [
      "  66th exmaple --->  True label is 7 and Predict label is 2 with probability 0.961\n"
     ]
    },
    {
     "data": {
      "image/png": "[encoded data removed]",
      "text/plain": [
       "<matplotlib.figure.Figure at 0x11ac4048>"
      ]
     },
     "metadata": {},
     "output_type": "display_data"
    },
    {
     "name": "stdout",
     "output_type": "stream",
     "text": [
      "  25th exmaple --->  True label is 9 and Predict label is 3 with probability 0.886\n"
     ]
    },
    {
     "data": {
      "image/png": "[encoded data removed]",
      "text/plain": [
       "<matplotlib.figure.Figure at 0x11b1b3c8>"
      ]
     },
     "metadata": {},
     "output_type": "display_data"
    },
    {
     "name": "stdout",
     "output_type": "stream",
     "text": [
      "  15th exmaple --->  True label is 8 and Predict label is 0 with probability 0.872\n"
     ]
    },
    {
     "data": {
      "image/png": "[encoded data removed]",
      "text/plain": [
       "<matplotlib.figure.Figure at 0x11b76208>"
      ]
     },
     "metadata": {},
     "output_type": "display_data"
    },
    {
     "name": "stdout",
     "output_type": "stream",
     "text": [
      "   2th exmaple --->  True label is 5 and Predict label is 3 with probability 0.883\n"
     ]
    },
    {
     "data": {
      "image/png": "[encoded data removed]",
      "text/plain": [
       "<matplotlib.figure.Figure at 0x11bdb0f0>"
      ]
     },
     "metadata": {},
     "output_type": "display_data"
    },
    {
     "name": "stdout",
     "output_type": "stream",
     "text": [
      "  41th exmaple --->  True label is 7 and Predict label is 8 with probability 0.928\n"
     ]
    },
    {
     "data": {
      "image/png": "[encoded data removed]",
      "text/plain": [
       "<matplotlib.figure.Figure at 0x125424e0>"
      ]
     },
     "metadata": {},
     "output_type": "display_data"
    },
    {
     "name": "stdout",
     "output_type": "stream",
     "text": [
      "  27th exmaple --->  True label is 9 and Predict label is 4 with probability 0.844\n"
     ]
    },
    {
     "data": {
      "image/png": "[encoded data removed]",
      "text/plain": [
       "<matplotlib.figure.Figure at 0x125a3400>"
      ]
     },
     "metadata": {},
     "output_type": "display_data"
    },
    {
     "name": "stdout",
     "output_type": "stream",
     "text": [
      "  20th exmaple --->  True label is 9 and Predict label is 4 with probability 0.829\n"
     ]
    },
    {
     "data": {
      "image/png": "[encoded data removed]",
      "text/plain": [
       "<matplotlib.figure.Figure at 0x125b8630>"
      ]
     },
     "metadata": {},
     "output_type": "display_data"
    },
    {
     "name": "stdout",
     "output_type": "stream",
     "text": [
      "  29th exmaple --->  True label is 5 and Predict label is 3 with probability 0.919\n"
     ]
    },
    {
     "data": {
      "image/png": "[encoded data removed]",
      "text/plain": [
       "<matplotlib.figure.Figure at 0x11b895c0>"
      ]
     },
     "metadata": {},
     "output_type": "display_data"
    }
   ],
   "source": [
    "for _ in range(10):\n",
    "    i = np.random.randint(low=0,high=high)\n",
    "    plt.imshow(error_images_threshold[i],cmap='gray_r')\n",
    "    print(\"%4dth exmaple --->  True label is %d and Predict label is %d with probability %.3f\"%(i,error_labels_threshold[i],pred_error_labels_threshold[i],prob_error_labels_threshold[i]))\n",
    "    plt.show()"
   ]
  }
 ],
 "metadata": {
  "kernelspec": {
   "display_name": "Python 3",
   "language": "python",
   "name": "python3"
  },
  "language_info": {
   "codemirror_mode": {
    "name": "ipython",
    "version": 3
   },
   "file_extension": ".py",
   "mimetype": "text/x-python",
   "name": "python",
   "nbconvert_exporter": "python",
   "pygments_lexer": "ipython3",
   "version": "3.6.4"
  }
 },
 "nbformat": 4,
 "nbformat_minor": 2
}
