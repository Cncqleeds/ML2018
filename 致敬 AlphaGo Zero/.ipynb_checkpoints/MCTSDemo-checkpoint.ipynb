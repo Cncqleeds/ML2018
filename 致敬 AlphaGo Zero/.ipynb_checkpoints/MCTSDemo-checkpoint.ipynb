{
 "cells": [
  {
   "cell_type": "markdown",
   "metadata": {},
   "source": [
    "MCTS完成以下功能\n",
    "    >  pi = policy(net,state)\n",
    "    >  action = choice(pi)\n",
    "    >  tree = next_tree(state)"
   ]
  },
  {
   "cell_type": "code",
   "execution_count": 5,
   "metadata": {
    "collapsed": true
   },
   "outputs": [],
   "source": [
    "import datetime\n",
    "\n",
    "import numpy as np\n",
    "import tensorflow as tf"
   ]
  },
  {
   "cell_type": "code",
   "execution_count": null,
   "metadata": {
    "collapsed": true
   },
   "outputs": [],
   "source": [
    "class MCTS:\n",
    "    def __init__(self,net,simulator,init_data,c_puct=5,max_depth=20,num_sims=30):\n",
    "        self.net = net\n",
    "        self.simulator = simulator\n",
    "        self._root = TreeNode(None,1.0)\n",
    "        self.c_puct = c_puct\n",
    "        self.max_depth = max_depth\n",
    "        self.cur_depth = 0\n",
    "        self.cur_node = self._root\n",
    "        self.root_state = init_data\n",
    "        self.cur_state = init_data.copy()\n",
    "        \n",
    "    def policy(self,state,tao):\n",
    "        for it in range(num_sims):\n",
    "            self.rollout()\n",
    "            self.cur_node = self._root\n",
    "            self.cur_state = self.root_state\n",
    "            \n",
    "        pi = [x._n_visits for x in self._root._children]\n",
    "   \n",
    "        # 需考虑退火 温度系数，\n",
    "        pi = (np.power(pi,1/tao)/np.sum(np.power(pi,1/tao))).tolist()\n",
    "        return pi\n",
    "      \n",
    "    def next_search(self):\n",
    "        self._root = self._root.childern[self.action]\n",
    "        self._root._parent = None\n",
    "        \n",
    "        self.root_state = self.simulator.move(self.action)\n",
    "        self.cur_state = self.simulator.move(self.action)\n",
    "        \n",
    "        self.cur_depth = 0\n",
    "        self.cur_node = self._root\n",
    "\n",
    "        return self\n",
    "        \n",
    "    def choice(self,tao):\n",
    "        \n",
    "        pi = self.policy(self.cur_state,tao)\n",
    "        action = np.random.choice(range(len(pi)),p=pi)\n",
    "        self.action = action\n",
    "        return action\n",
    "        \n",
    "        \n",
    "    def rollout(self):\n",
    "        while self.cur_depth < self.max_depth:\n",
    "            if not self.cur_node.is_leaf():\n",
    "                action, self.cur_node = self.cur_node.select()\n",
    "                self.cur_state = self.simulator.get_state(self.cur_state,action)\n",
    "                self.cur_depth += 1\n",
    "            else:\n",
    "                action_priors = enumerate(self.net.get_var_value(self.net.p,{self.net.s:self.cur_state}).reshape(-1).tolist())\n",
    "                self.cur_node.expand(action_priors)\n",
    "                \n",
    "                leaf_value = self.net.get_var_value (self.net.v,{self.net.s:self.cur_state})[0,0]       \n",
    "                self.cur_node.backup(leaf_value,self.c_puct)\n",
    "                \n",
    "                \n",
    "        "
   ]
  },
  {
   "cell_type": "code",
   "execution_count": 19,
   "metadata": {
    "collapsed": true
   },
   "outputs": [],
   "source": [
    "class TreeNode:\n",
    "    def __init__(self,parent,prior_p):\n",
    "        self._parent = parent\n",
    "        self._children = dict()\n",
    "        self._n_visits = 0\n",
    "        \n",
    "        self._Q = 0\n",
    "        self._W = 0\n",
    "        self._u = prior_p\n",
    "        self._p = prior_p\n",
    "        \n",
    "    def expand(self, action_priors):\n",
    "        for action, prob in action_priors:\n",
    "            if action not in self._children:\n",
    "                self._children[action] = TreeNode(self,prob) #prob考虑加入噪声\n",
    "                \n",
    "    def select(self):\n",
    "        return max(self._children.items(), key=lambda act_node: act_node[1].get_value())\n",
    "    \n",
    "    def get_value(self):\n",
    "        return self._Q + self._u\n",
    "    \n",
    "    def update(self,leaf_value,c_puct):\n",
    "        self._n_visits += 1\n",
    "        self._W += leaf_value\n",
    "#         self._Q += (leaf_value - self._Q) / self._n_visits\n",
    "        self._Q = self._W / self._n_visits\n",
    "        if not self.is_root():\n",
    "            self._u = c_puct * self._p * np.sqrt(self._parent._n_visits) / (1+self._n_visits)\n",
    "            \n",
    "    def is_root(self):\n",
    "        return self._parent is None\n",
    "    \n",
    "    def is_leaf(self):\n",
    "        return self._children == dict()\n",
    "     \n",
    "    def backup(self,leaf_value,c_puct):\n",
    "        if self._parent:\n",
    "            self._parent.backup(leaf_value,c_puct)\n",
    "            \n",
    "        self.update(leaf_value,c_puct)"
   ]
  }
 ],
 "metadata": {
  "anaconda-cloud": {},
  "kernelspec": {
   "display_name": "Python [default]",
   "language": "python",
   "name": "python3"
  },
  "language_info": {
   "codemirror_mode": {
    "name": "ipython",
    "version": 3
   },
   "file_extension": ".py",
   "mimetype": "text/x-python",
   "name": "python",
   "nbconvert_exporter": "python",
   "pygments_lexer": "ipython3",
   "version": "3.5.2"
  }
 },
 "nbformat": 4,
 "nbformat_minor": 1
}
