{
 "cells": [
  {
   "cell_type": "code",
   "execution_count": 18,
   "metadata": {
    "collapsed": true
   },
   "outputs": [],
   "source": [
    "import random\n",
    "import time\n",
    "import pygame\n",
    "import numpy as np\n",
    "import sys"
   ]
  },
  {
   "cell_type": "code",
   "execution_count": 2,
   "metadata": {
    "collapsed": true
   },
   "outputs": [],
   "source": [
    "class Stone: # 棋子\n",
    "    def __init__(self,x,y,c):\n",
    "        self.x = x\n",
    "        self.y = y\n",
    "        self.c = c # 标识黑白子{'B','W'}\n",
    "        self.pos = (x,y)\n",
    "    def __call__(self,x,y,c):\n",
    "        self.x = x\n",
    "        self.y = y\n",
    "        self.c = c \n",
    "        self.pos = (x,y)\n",
    "        return self       \n",
    "    def __str__(self):\n",
    "        return str(self.c) + \"_\" + str(self.x) + \"_\" + str(self.y)"
   ]
  },
  {
   "cell_type": "code",
   "execution_count": 4,
   "metadata": {
    "collapsed": true
   },
   "outputs": [],
   "source": [
    "class Group: # 棋子整体串\n",
    "    def __init__(self):\n",
    "        self.reset()\n",
    "        \n",
    "    def reset(self):\n",
    "        self.stones = set() # 棋子集合\n",
    "        self.airs = set() # 气点集合\n",
    "        self.liberty = 0 # 气数\n",
    "        self.opponents = set() #棋子整体周围的对方棋子整体\n",
    "        \n",
    "    def __str__(self):\n",
    "        res = \"{\"\n",
    "        \n",
    "        for s in self.stones:\n",
    "            res += str(s)\n",
    "            res += \" \"\n",
    "            \n",
    "        res += \"} Lives:\"\n",
    "        res += str(self.liberty)\n",
    "        \n",
    "        res += \" Airs:\" + str(self.airs)\n",
    "        return res\n",
    "        \n",
    "    def add_stone(self,stone):\n",
    "        self.stones.add(stone)\n",
    "        \n",
    "    def del_stone(self,stone):\n",
    "        if stone in self.stones:\n",
    "            self.reset()\n",
    "            \n",
    "    def add_op(self,op):\n",
    "        self.opponents.add(op)\n",
    "        \n",
    "    def del_op(self,op):\n",
    "        if op in self.opponents:\n",
    "            self.opponents.remove(op)\n",
    "        \n",
    "    def add_air(self,air):\n",
    "        self.airs.add(air)\n",
    "        self.liberty = len(self.airs)\n",
    "        \n",
    "    def del_air(self,air):\n",
    "        if air in self.airs:\n",
    "            self.airs.remove(air)\n",
    "            self.liberty = len(self.airs)\n",
    "            \n",
    "    def merge(self,group):\n",
    "        self.stones = self.stones.union(group.stones)\n",
    "        self.airs = self.airs.union(group.airs)\n",
    "        self.liberty = len(self.airs)\n",
    "        \n",
    "        return self"
   ]
  },
  {
   "cell_type": "code",
   "execution_count": 130,
   "metadata": {
    "collapsed": true
   },
   "outputs": [],
   "source": [
    "class Go:\n",
    "    def __init__(self,size = 19):\n",
    "        self.size = size\n",
    "        self.ws = set() # 白子\n",
    "        self.bs = set() # 黑子\n",
    "        self.wg = set() # 白串\n",
    "        self.bg = set() # 黑串\n",
    "        \n",
    "        self.es = {(i,j) for i in range(size) for j in range(size)} # 无子\n",
    "        self.raw_board = np.zeros((size,size),np.int8)\n",
    "        \n",
    "        self.last_action = None # 上一步 动作\n",
    "        self.cur_action = None # 当前的动作\n",
    "        \n",
    "        self.hands = 0\n",
    "        self.player = 'B'\n",
    "        self.records = dict() # 棋谱\n",
    "        self.ko = None # 劫\n",
    "        \n",
    "        self.w_no = set() # 白棋禁入点\n",
    "        self.b_no = set() # 黑棋禁入点\n",
    "        \n",
    "        self.value = .52382 # player获胜的初始概率\n",
    "        \n",
    "        self.take_info = dict() # 发生提子的相关信息\n",
    "        self.take_history = list() # 提子的历史记录信息\n",
    "        \n",
    "    def update_es(self):\n",
    "        self.es = {(i,j) for i in range(self.size) for j in range(self.size)} # 无子\n",
    "        self.es = self.es - self.ws - self.bs\n",
    "        \n",
    "    def render(self): # OK\n",
    "        print(\">> Hand:%3d \"%self.hands,\"Win Prob: %.2f%%\"%(self.value*100))\n",
    "                \n",
    "        for i in range(self.size):\n",
    "            for j in range(self.size):\n",
    "                c = '.'\n",
    "                if (i,j) in self.ws:\n",
    "                    c = 'O'\n",
    "                elif (i,j) in self.bs:\n",
    "                    c = 'X'\n",
    "                print(c,end=' ')\n",
    "        \n",
    "            print(\"%-2d\"%(self.size-i))\n",
    "            \n",
    "        for k in range(self.size):\n",
    "            print(chr(k+65),end = ' ')\n",
    "        print(\"\")    \n",
    "\n",
    "    def who_win(self):\n",
    "        \"\"\"\n",
    "        如果一方投降（落子到（-2，-2）表示投降）,则另一方获胜\n",
    "        如果一方落子到非法点（已落有白子、黑子，或对应的禁入点），则另一方获胜\n",
    "        如果双方均PASS（落子到（-1，-1）表示PASS），则计算各方的地盘大小\n",
    "        例如：黑方的地盘大小为：b_market = len(bs) + len(w_no) + len(es) / 2\n",
    "        \n",
    "        依据围棋一条规则：就是黑棋要让白3又1/4子\n",
    "        \n",
    "        如果 b_market - w_market > 3.25 则 黑胜，否则白胜。\n",
    "        \"\"\"\n",
    "        \n",
    "        if self.cur_action == (-2,-2):\n",
    "            print(self.player,\" lose\")\n",
    "            return 1 if self.player == 'B' else -1\n",
    "        elif not self._is_legal(self.cur_action):\n",
    "#             print(self.cur_action)\n",
    "#             print(\"非法\")\n",
    "            print(self.player,\" lose\")\n",
    "            return 1 if self.player == 'B' else -1\n",
    "        elif self.cur_action == (-1,-1) and self.last_action == (-1,-1):\n",
    "            b_market = len(self.bs) + len(self.w_no) + len(self.es) / 2\n",
    "            w_market = len(self.ws) + len(self.b_no) + len(self.es) / 2\n",
    "            \n",
    "            print(b_marke, w_marke)\n",
    "            return 1 if (b_market - w_market) > 3.25  else -1\n",
    "        else:\n",
    "            return -2\n",
    "    \n",
    "#         return 1 # 表示黑棋获胜\n",
    "#         return 0 # 表示无胜负\n",
    "#         return -1 # 表示白棋获胜\n",
    "#         return -2  # 表示暂时不能断定胜负\n",
    "    \n",
    "    def _is_legal(self,pos): # OK\n",
    "        if pos is None:\n",
    "            return True\n",
    "        x = pos[0]\n",
    "        y = pos[1]\n",
    "        \n",
    "        # Pass or Resign\n",
    "        if pos == (-1,-1) or pos == (-2,-2):\n",
    "            return True\n",
    "        \n",
    "        if x<0 or y<0 or x>=self.size or y>=self.size:\n",
    "            return False\n",
    "            \n",
    "        if pos in self.ws:\n",
    "            return False\n",
    "        if pos in self.bs:\n",
    "            return False\n",
    "        if pos == self.ko:\n",
    "            return False\n",
    "            \n",
    "        ####\n",
    "        ## 判断是否在禁入点上\n",
    "        if self.player == 'B':\n",
    "            if pos in self.b_no:\n",
    "                return False\n",
    "            else:\n",
    "                return True\n",
    "                \n",
    "        else:\n",
    "            if pos in self.w_no:\n",
    "                return False\n",
    "            else:\n",
    "                return True\n",
    "        ####   \n",
    "        return True     \n",
    "        \n",
    "    def _is_take(self,pos): # OK 判断是否需要提子\n",
    "        # 需要逻辑判断\n",
    "        # 例如，当前棋手黑'B',则判断self.wg 中是否有某个串g的airs属性中只含有1个点且该点为pos\n",
    "        # 如果是，则需要提子，返回True，如果不是，返回False\n",
    "        \n",
    "        if self.player == 'B':\n",
    "            for g in self.wg:\n",
    "                if g.liberty == 1:\n",
    "                    if pos in g.airs:\n",
    "                        return True\n",
    "        else:\n",
    "            for g in self.bg:\n",
    "                if g.liberty == 1:\n",
    "                    if pos in g.airs:\n",
    "                        return True\n",
    "                        \n",
    "        return False\n",
    "        \n",
    "    def _take(self,pos): #  提子\n",
    "        # 需要更改ws 或 bs中的信息  \n",
    "        # 需要记录提走了哪些子\n",
    "        self.take_info['hands'] = self.hands\n",
    "        self.take_info['player'] = self.player\n",
    "        self.take_info['pos'] = pos\n",
    "        self.take_info['stones'] = list()\n",
    "        if self.player == 'B':\n",
    "            for g in self.wg:\n",
    "                if g.liberty == 1:\n",
    "                    if pos in g.airs:\n",
    "                        for stone in g.stones:\n",
    "                            self.ws.remove(stone.pos)\n",
    "                            self.take_info['stones'].append(stone.pos)\n",
    "                            \n",
    "                            \n",
    "        else:\n",
    "            for g in self.bg:\n",
    "                if g.liberty == 1:\n",
    "                    if pos in g.airs:\n",
    "                        for stone in g.stones:\n",
    "                            self.bs.remove(stone.pos)\n",
    "                            self.take_info['stones'].append(stone.pos)\n",
    "                            \n",
    "        self.take_history.append(self.take_info) # 把本次提子信息加入提子历史记录中\n",
    "        \n",
    "    def display(self):\n",
    "        print(\"当前的白串:\")\n",
    "        for g in self.wg:\n",
    "            print(g,'\\n')\n",
    "            \n",
    "        print(\"当前的黑串:\")\n",
    "        for g in self.bg:\n",
    "            print(g,'\\n')\n",
    "                 \n",
    "        print(\"当前的白棋\")\n",
    "        print(self.ws,'\\n')\n",
    "        \n",
    "        print(\"当前的黑棋\")\n",
    "        print(self.bs,'\\n')\n",
    "        \n",
    "        print(\"当前的死子\")\n",
    "        print(self.take_history,'\\n')\n",
    "        \n",
    "        print(\"当前的劫\")\n",
    "        print(self.ko,'\\n')\n",
    "        \n",
    "        print(\"当前的白禁入点\")\n",
    "        print(self.w_no,'\\n')\n",
    "        \n",
    "        print(\"当前的黑禁入点\")\n",
    "        print(self.b_no,'\\n')\n",
    "        \n",
    "        print(\"当前的棋谱\")\n",
    "        print(self.records)\n",
    "        \n",
    "        print(\"当前的棋手:\",self.player)\n",
    "        \n",
    "        print(\"当前的黑子数：\",len(self.bs),\"白子数\",len(self.ws),\"黑禁入点数：\",len(self.b_no),\\\n",
    "              \"白禁入点数：\",len(self.w_no),\"总数：\",len(self.bs)+len(self.ws)+len(self.b_no)+len(self.w_no))\n",
    "\n",
    "    \n",
    "    \"\"\"\n",
    "    update方法是围棋的核心方法，根据当前局面更新相关信息(wg,bg,ko,w_no,b_no)\n",
    "    \n",
    "    递归扫描每个点，并对扫描过的点做标记，直到递归结束，生成一个group\n",
    "    如果该点已经做过标记，则跳过，如果没有标记，则再递归生成一个group。这样就完成了 wg 和 bg的更新\n",
    "    \n",
    "    \n",
    "    对于劫ko的计算\n",
    "    如果take_info 中有内容，则发生了提子，根据take_info计算ko点\n",
    "    提了对方一子，如果对方在死子的位置落子,也能提走本方的落子，且本方落子的所在的组的长度为1，则该点为ko点\n",
    "    \n",
    "    \n",
    "    对于禁入点的计算\n",
    "    比如 计算 黑禁入点 b_no\n",
    "    扫描每个非落子点，如果该点的四周都有子，则考虑四周各串的liberty == 1的情况\n",
    "    如果该group为黑串，且四周的白串的liberty都>1,则该点为黑禁入点\n",
    "    \n",
    "    同样的思路 考虑该非落子点是否为白禁入点 w_no\n",
    "    \n",
    "    \"\"\"\n",
    "    def update(self):\n",
    "        self.wg = set()\n",
    "        self.bg = set()\n",
    "        self.ko = None\n",
    "        self.b_no = set()\n",
    "        self.w_no = set()\n",
    "        \n",
    "        # 生成标记\n",
    "        labels = dict()\n",
    "        for i in range(self.size):\n",
    "            for j in range(self.size):\n",
    "                    labels[(i,j)] = 0  # 初始化为未扫描标记0\n",
    "                    \n",
    "        \"\"\"\n",
    "        递归扫描每个点，并对扫描过的点做标记，直到递归结束，生成一个group\n",
    "        如果该点已经做过标记，则跳过，如果没有标记，则再递归生成一个group。这样就完成了 wg 和 bg的更新\n",
    "        \"\"\"                   \n",
    "        for i in range(self.size):\n",
    "            for j in range(self.size):\n",
    "                point = (i,j) #扫描这个点\n",
    "                if labels[point] == 0: # 没有扫描\n",
    "                    labels[point] = 1 # 标识为已扫描\n",
    "                    stone = None\n",
    "                    color = None\n",
    "                    if point in self.ws:\n",
    "                        stone = Stone(point[0], point[1],'W')\n",
    "                        color = 'W'\n",
    "                    elif point in self.bs:\n",
    "                        stone = Stone(point[0], point[1],'B')\n",
    "                        color = 'B'\n",
    "                    if stone:\n",
    "                        group = Group()\n",
    "                        group.add_stone(stone)\n",
    "                        \n",
    "                        w_group_set,b_group_set,airs_set = self.get_sets(point)\n",
    "                        \n",
    "                        for air in airs_set: # 加入气点\n",
    "                            group.add_air(air)\n",
    "                        \n",
    "                        if color == 'B':\n",
    "                            for g in b_group_set:\n",
    "                                \n",
    "                                group.merge(g)\n",
    "#                                print(\"TBT\",group)\n",
    "                                self.bg.remove(g)\n",
    "                                \n",
    "                                for s in g.stones:\n",
    "                                    labels[s.pos] = 1\n",
    "                                self.bg.add(group)\n",
    "\n",
    "                            self.bg.add(group)\n",
    "\n",
    "                                \n",
    "                        elif color == 'W':\n",
    "                            for g in w_group_set:\n",
    "#                                print(\"TWT\",g)\n",
    "                                group.merge(g)\n",
    "                                self.wg.remove(g)\n",
    "                            \n",
    "                                for s in g.stones:\n",
    "                                    labels[s.pos] = 1\n",
    "\n",
    "                                self.wg.add(group)\n",
    "        \n",
    "                            self.wg.add(group)\n",
    "                         \n",
    "                        \n",
    "        \"\"\"                    \n",
    "        对于劫ko的计算\n",
    "        如果take_info 中有内容，则发生了提子，根据take_info计算ko点\n",
    "        提了对方一子，如果对方在死子的位置落子,也能提走本方的落子，且本方落子的所在的组的长度为1，则该点为ko点\n",
    "        \"\"\"\n",
    "        if self.take_info:\n",
    "            if len(self.take_info['stones']) == 1:\n",
    "#                print(\"提了一个\")\n",
    "                for stone in self.take_info['stones']:\n",
    "                    take_point = stone\n",
    "                pos = self.take_info['pos']\n",
    "                group,_ = self.query_group(pos)\n",
    "#                print(group)\n",
    "                if len(group.stones) == 1:\n",
    "                    if group.liberty == 1:\n",
    "                        self.ko = take_point\n",
    "                        \n",
    "                        \n",
    "        \"\"\"\n",
    "        对于禁入点的计算\n",
    "        比如 计算 黑禁入点 b_no\n",
    "        扫描每个非落子点，如果该点的四周都有子，则考虑四周各串的liberty == 1的情况\n",
    "        如果该group为黑串，且四周的白串的liberty都>1,且四周的黑串的liberty都=1,则该点为黑禁入点\n",
    "        \"\"\"\n",
    "        for i in range(self.size):\n",
    "            for j in range(self.size):\n",
    "                point = (i,j)\n",
    "                if point not in self.ws and point not in self.bs:\n",
    "                    cur_player = self.player\n",
    "                    if self.player == 'W':\n",
    "                        self.player = 'B'\n",
    "                        \n",
    "                    take_flag = self._is_take(point)\n",
    "                    if take_flag:\n",
    "                        # 如何可以提子，则此点肯定不是黑禁入点\n",
    "                        pass\n",
    "                    else:\n",
    "                        # 如果不能提子，且该点周围的黑串的气都为1，则该点为黑禁入点\n",
    "                        w_group_set,b_group_set,airs_set = self.get_sets(point)\n",
    "                        b_flag = True\n",
    "                        for bg in b_group_set:\n",
    "                            if bg.liberty > 1:\n",
    "                                b_flag = False\n",
    "                                \n",
    "                        if b_flag and not airs_set:\n",
    "                            self.b_no.add(point)\n",
    "                           \n",
    "                ###############\n",
    "                           \n",
    "                    if self.player == 'B':\n",
    "                        self.player = 'W'\n",
    "                    take_flag = self._is_take(point)\n",
    "                    if take_flag:\n",
    "                        # 如何可以提子，则此点肯定不是白禁入点\n",
    "                        pass\n",
    "                    else:\n",
    "                        # 如果不能提子，且该点周围的白串的气都为1，则该点为白禁入点\n",
    "                        w_group_set,b_group_set,airs_set = self.get_sets(point)\n",
    "                        w_flag = True\n",
    "                        for wg in w_group_set:\n",
    "                            if wg.liberty >1:\n",
    "                                w_flag = False\n",
    "    \n",
    "                        if w_flag and  not airs_set:\n",
    "                           self.w_no.add(point)   \n",
    "                           \n",
    "                         \n",
    "                    self.player = cur_player\n",
    "        \n",
    "    def update_raw_board(self):\n",
    "        self.raw_board = np.zeros((self.size,self.size),np.int8)\n",
    "        for s in self.bs:\n",
    "            self.raw_board[s] = -1\n",
    "        for s in self.ws:\n",
    "            self.raw_board[s] = 1\n",
    "            \n",
    "        \n",
    "            \n",
    "           \n",
    "     \n",
    "    \"\"\"\n",
    "    围棋的核心方法，根据当前局面更新相关信息(wg,bg,ko,w_no,b_no)\n",
    "    \"\"\"\n",
    "    \n",
    "     \n",
    "    def get_neighbors(self,pos): # 得到pos周围的坐标\n",
    "        x = pos[0]\n",
    "        y = pos[1]\n",
    "        if x<0 or y<0 or x>=self.size or y>=self.size:\n",
    "            return list()\n",
    "        xs = [x-1,x+1]\n",
    "        ys = [y-1,y+1]\n",
    "        \n",
    "        if x-1 <0:\n",
    "            xs.remove(x-1)\n",
    "        if x+1>self.size-1:\n",
    "            xs.remove(x+1)\n",
    "            \n",
    "        if y-1 <0:\n",
    "            ys.remove(y-1)\n",
    "        if y+1>self.size-1:\n",
    "            ys.remove(y+1)\n",
    "            \n",
    "        results = []\n",
    "\n",
    "        for r in xs:\n",
    "            results.append((r,y))\n",
    "        for c in ys:\n",
    "            results.append((x,c))\n",
    "             \n",
    "        return results\n",
    "        \n",
    "    def query_pos(self,pos): # 查询某个位置属于黑棋 白棋，空地\n",
    "        if pos in self.ws:\n",
    "            return 1 # 白子\n",
    "        elif pos in self.bs:\n",
    "            return 0 # 黑子\n",
    "        else:\n",
    "            return -1 #空地\n",
    "            \n",
    "    def query_group(self, pos): #  查询某个位置属于哪个group\n",
    "        for g in self.bg:\n",
    "            for s in g.stones:\n",
    "                if pos[0] == s.x and pos[1] == s.y:\n",
    "                    return g,'B'\n",
    "        for g in self.wg:\n",
    "            for s in g.stones:\n",
    "                if pos[0] == s.x and pos[1] == s.y:\n",
    "                    return g,'W'\n",
    "                    \n",
    "        return None,'E'\n",
    "    \n",
    "        \n",
    "    def get_sets(self,pos): # 得到该pos四周的组\n",
    "        neighbors = self.get_neighbors(pos)\n",
    "        w_group_set = set()\n",
    "        b_group_set = set()\n",
    "        airs_set = set()\n",
    "        if neighbors:\n",
    "            for neighbor in neighbors:\n",
    "                if self.query_pos(neighbor) == -1:\n",
    "                    airs_set.add(neighbor)\n",
    "                else:\n",
    "                    g,c = self.query_group(neighbor)\n",
    "                    if c == 'B':\n",
    "                        b_group_set.add(g)\n",
    "                    elif c == 'W':\n",
    "                        w_group_set.add(g)\n",
    "                    \n",
    "        return w_group_set,b_group_set,airs_set\n",
    "    \n",
    "    \"\"\"\n",
    "    落子方法\n",
    "    \"\"\"    \n",
    "    def move(self,pos):\n",
    "        \n",
    "        \n",
    "        \n",
    "        #0 手数加1\n",
    "        self.hands += 1 \n",
    "        #1 判断是否合法\n",
    "        if not self._is_legal(pos):\n",
    "            cur_pos = 'PASS'\n",
    "#            print('PASS',pos)\n",
    "        else:\n",
    "            cur_pos = str(pos)\n",
    "\n",
    "            #2 判断是否提子\n",
    "            if self._is_take(pos):\n",
    "                self._take(pos)\n",
    "#                print(\"TAKE\",pos)\n",
    "                # 是，提走棋子\n",
    "            else:\n",
    "                self.take_info = dict()\n",
    "            \n",
    "            \n",
    "            # 3.1 添加当前棋子到黑子集合或白子集合\n",
    "            if self.player == 'B':\n",
    "                self.bs.add(pos)\n",
    "            else:\n",
    "                self.ws.add(pos)\n",
    "                \n",
    "            # 3.2 根据当前局面 更新相关信息, ***** 核心 *****\n",
    "        self.update()\n",
    "        self.update_raw_board()\n",
    "        self.update_es()\n",
    "            \n",
    "        #4 更新记录棋谱\n",
    "        self.records[self.hands] = cur_pos\n",
    "        #5 切换棋手\n",
    "        self.player = 'W' if self.player == 'B' else 'B'\n",
    "\n",
    "    "
   ]
  },
  {
   "cell_type": "code",
   "execution_count": 153,
   "metadata": {
    "collapsed": false
   },
   "outputs": [],
   "source": [
    "go = Go()"
   ]
  },
  {
   "cell_type": "code",
   "execution_count": 154,
   "metadata": {
    "collapsed": false,
    "scrolled": true
   },
   "outputs": [
    {
     "name": "stdout",
     "output_type": "stream",
     "text": [
      "(15, 2)\n",
      "非法\n",
      "B  lose\n",
      ">> Hand:  8  Win Prob: 52.38%\n",
      ". . . . . . . . . . . . . . . . . . . 19\n",
      ". . . . . . . . . . . . . . . . O . . 18\n",
      ". . . . . . . . . . . . . . . . . . . 17\n",
      ". O . . . . . . . . . . . . . . . . . 16\n",
      ". . . . . . . . . . . . . . . . . . . 15\n",
      ". . . . . . . . . . . . . . . . . . . 14\n",
      ". . . . . . . . . . . . . . . . X . . 13\n",
      ". . . . . . . . . . . . . . . . . . . 12\n",
      ". . . . . . . . . . . . . . . . . . . 11\n",
      ". . . . . . . . . . . . . . . . . X . 10\n",
      ". . . O . . . . . . . . . . . . . X . 9 \n",
      ". . . . . . . . . . . . . . . . O . . 8 \n",
      ". . . . . . . . . . . . . . . . . . . 7 \n",
      ". . . . . . . . . . . . . . . . . . . 6 \n",
      ". . . . . . . . . . . . . . . . . . . 5 \n",
      ". . X . . . . . . . . . . . . . . . . 4 \n",
      ". . . . . . . . . . . . . . . . . . . 3 \n",
      ". . . . . . . . . . . . . . . . . . . 2 \n",
      ". . . . . . . . . . . . . . . . . . . 1 \n",
      "A B C D E F G H I J K L M N O P Q R S \n",
      "0.04300260543823242\n"
     ]
    }
   ],
   "source": [
    "start = time.time()\n",
    "for k in range(1000):\n",
    "    i = random.randint(0,go.size)\n",
    "    j = random.randint(0,go.size)\n",
    "    action = (i,j)\n",
    "    go.cur_action = action\n",
    "    print(go.cur_action)\n",
    "    \n",
    "    if go.who_win() == -2:\n",
    "        go.move(go.cur_action) \n",
    "        go.last_action = go.cur_action\n",
    "        \n",
    "    else:\n",
    "        break\n",
    "    \n",
    "    \n",
    "    \n",
    "go.render()\n",
    "# print(go.raw_board)\n",
    "duration = (time.time() - start)\n",
    "print(duration)"
   ]
  },
  {
   "cell_type": "code",
   "execution_count": 125,
   "metadata": {
    "collapsed": false
   },
   "outputs": [
    {
     "name": "stdout",
     "output_type": "stream",
     "text": [
      "(8, 14)\n"
     ]
    }
   ],
   "source": [
    "print(go.cur_action)"
   ]
  },
  {
   "cell_type": "code",
   "execution_count": 126,
   "metadata": {
    "collapsed": false
   },
   "outputs": [
    {
     "name": "stdout",
     "output_type": "stream",
     "text": [
      "None\n"
     ]
    }
   ],
   "source": [
    "print(go.last_action)"
   ]
  },
  {
   "cell_type": "code",
   "execution_count": 116,
   "metadata": {
    "collapsed": false
   },
   "outputs": [
    {
     "name": "stdout",
     "output_type": "stream",
     "text": [
      "W  lose\n"
     ]
    },
    {
     "data": {
      "text/plain": [
       "-1"
      ]
     },
     "execution_count": 116,
     "metadata": {},
     "output_type": "execute_result"
    }
   ],
   "source": [
    "go.who_win()"
   ]
  },
  {
   "cell_type": "code",
   "execution_count": 84,
   "metadata": {
    "collapsed": false
   },
   "outputs": [
    {
     "data": {
      "text/plain": [
       "361"
      ]
     },
     "execution_count": 84,
     "metadata": {},
     "output_type": "execute_result"
    }
   ],
   "source": [
    "len(go.ws) + len(go.bs) + len(go.es)"
   ]
  },
  {
   "cell_type": "code",
   "execution_count": 85,
   "metadata": {
    "collapsed": false
   },
   "outputs": [
    {
     "data": {
      "text/plain": [
       "136"
      ]
     },
     "execution_count": 85,
     "metadata": {},
     "output_type": "execute_result"
    }
   ],
   "source": [
    "len(go.ws)"
   ]
  },
  {
   "cell_type": "code",
   "execution_count": 86,
   "metadata": {
    "collapsed": false
   },
   "outputs": [
    {
     "data": {
      "text/plain": [
       "168"
      ]
     },
     "execution_count": 86,
     "metadata": {},
     "output_type": "execute_result"
    }
   ],
   "source": [
    "len(go.bs)"
   ]
  },
  {
   "cell_type": "code",
   "execution_count": 87,
   "metadata": {
    "collapsed": false
   },
   "outputs": [
    {
     "data": {
      "text/plain": [
       "57"
      ]
     },
     "execution_count": 87,
     "metadata": {},
     "output_type": "execute_result"
    }
   ],
   "source": [
    "len(go.es)"
   ]
  },
  {
   "cell_type": "code",
   "execution_count": 88,
   "metadata": {
    "collapsed": false
   },
   "outputs": [
    {
     "data": {
      "text/plain": [
       "7"
      ]
     },
     "execution_count": 88,
     "metadata": {},
     "output_type": "execute_result"
    }
   ],
   "source": [
    "len(go.b_no)"
   ]
  },
  {
   "cell_type": "code",
   "execution_count": 89,
   "metadata": {
    "collapsed": false
   },
   "outputs": [
    {
     "data": {
      "text/plain": [
       "15"
      ]
     },
     "execution_count": 89,
     "metadata": {},
     "output_type": "execute_result"
    }
   ],
   "source": [
    "len(go.w_no)"
   ]
  }
 ],
 "metadata": {
  "kernelspec": {
   "display_name": "Python [default]",
   "language": "python",
   "name": "python3"
  },
  "language_info": {
   "codemirror_mode": {
    "name": "ipython",
    "version": 3
   },
   "file_extension": ".py",
   "mimetype": "text/x-python",
   "name": "python",
   "nbconvert_exporter": "python",
   "pygments_lexer": "ipython3",
   "version": "3.5.2"
  }
 },
 "nbformat": 4,
 "nbformat_minor": 1
}
