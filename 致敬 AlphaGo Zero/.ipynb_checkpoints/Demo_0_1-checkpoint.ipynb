{
 "cells": [
  {
   "cell_type": "markdown",
   "metadata": {},
   "source": [
    "### 数据表示\n",
    "* 状态 state: 例如 state = np.zeros((3,3),dtype=np.float32)\n",
    "* 网络策略 p: 例如 p = np.array([0.1,0.2,0.05,0.1,0.4,0.15],dtype=np.float32)\n",
    "* MCTS策略 pi: 同p格式一致\n",
    "* 网络值 v: 为float型标量 例如 v = 0.75\n",
    "* 模拟器结果 z: 为float型标量 例如 v = -1.0\n",
    "* 动作 action: 为int型标量 例如 action = 2"
   ]
  },
  {
   "cell_type": "markdown",
   "metadata": {},
   "source": [
    "### 超参数\n",
    "\n",
    "* 问题规模 size: 例如 size = 19\n",
    "* 输入历史表示规模 history: 例如 history = 8\n",
    "* 每层卷积层核的个数 filters: 例如 filters = 256\n",
    "* 残差模块的个数 n_modules: n_modules = 19\n",
    "* 正则化参数 lambda_c: lambda_c = .0001\n",
    "* 动作空间的大小 n_actions: n_actions = 9\n",
    "* 探索与利用的平衡参数 c_puct: c_puct = 5\n",
    "* 探索与利用的惯性因子 epsilon: epsilon = .25\n",
    "* 探索与利用的Dirchlet分布参数 eta: eta = .03\n",
    "* 退火算法参数 tau: tau = .7\n",
    "* 搜索次数 n_search: n_search = 1600\n",
    "* 搜索最大深度 max_search_depth: max_search_depth = 20\n",
    "* 执行最大步数 max_play_steps: max_play_steps = 500\n",
    "* 估值阈值 v_resign: v_resign = -.95\n",
    "* 网络损失函数的迭代次数 n_iters: n_iters = 50"
   ]
  },
  {
   "cell_type": "markdown",
   "metadata": {},
   "source": [
    "### 数学公式\n",
    "\n",
    "1. annealing(arr,tau) # 退火公式，arr为计数值\n",
    "2. sampling_from_dirchlet(alpha,size) # 从狄利克雷分布中采样,alpha为噪声参数，size为采样大小\n",
    "3. add_noise_to_p(p,epsilon,eta) # 为策略p加入噪声eta\n",
    "4. ucb(p,n_visits,c_puct) # 上置信界计算，p为策略，n_visits为访问数\n",
    "5. cross_entropy(p,q) # p与q的交叉熵"
   ]
  },
  {
   "cell_type": "markdown",
   "metadata": {},
   "source": [
    "### 内部函数及参数命名规范"
   ]
  },
  {
   "cell_type": "markdown",
   "metadata": {},
   "source": [
    "#### Net类\n",
    "\n",
    "1. p_op,v_op = inference(state)\n",
    "2. p = get_var_value(p_op,feed_dict) \n",
    "3. v = get_var_value(v_op,feed_dict)\n",
    "4. l_op = loss_op(z,v_op,pi,p_op,lambda_c) # 单个的状态的loss\n",
    "5. optimizer = minimize(l_op)\n",
    "6. l = get_var_value(l_op,feed_dict)\n",
    "7. update() # 将 T个state，T-1个pi，1个z ,迭代次数n_iters传入，更新网络参数\n",
    "8. 初始化state_placeholder, z_placeholder,pi_placeholder为placeholder类型\n",
    "9. save_params()\n",
    "10. restore_params()"
   ]
  },
  {
   "cell_type": "markdown",
   "metadata": {},
   "source": [
    "#### TreeNode类\n",
    "1. action, sub_node = select()\n",
    "2. expand(action_priors)\n",
    "3. update(leaf_value,c_puct)\n",
    "4. backup(leaf_value,c_puct)"
   ]
  },
  {
   "cell_type": "markdown",
   "metadata": {},
   "source": [
    "#### MCTS类\n",
    "1. search() # 单次搜索\n",
    "2. pi = policy(state,tao) # 多次搜索后返回pi\n",
    "3. action = choice(tao) # 在当前state下给出action，是外界调用的接口\n",
    "4. next_prepare() # 为下次搜索做准备，在choice中调用"
   ]
  },
  {
   "cell_type": "markdown",
   "metadata": {},
   "source": [
    "#### Simulator类\n",
    "1. move(action)\n",
    "2. get_state(state,action)\n",
    "3. render()\n",
    "4. is_done() # 判断是否结束\n",
    "5. who_win() # 1 代表赢， -1 代表输， 0 代表未结束 "
   ]
  },
  {
   "cell_type": "markdown",
   "metadata": {},
   "source": [
    "## 流程"
   ]
  },
  {
   "cell_type": "markdown",
   "metadata": {},
   "source": [
    "0. 初始化\n",
    "1. 模拟一局\n",
    "2. 显示过程和结果并保存记录\n",
    "3. 训练网络\n",
    "4. 更新网络\n",
    "5. 跳转 1.\n",
    "6. 效果评估"
   ]
  },
  {
   "cell_type": "code",
   "execution_count": 117,
   "metadata": {
    "collapsed": true
   },
   "outputs": [],
   "source": [
    "p = np.array([0.1,0.5,0.05,.2,.15])\n",
    "q = np.array([.2,.3,.005,.095,.4])"
   ]
  },
  {
   "cell_type": "code",
   "execution_count": 119,
   "metadata": {
    "collapsed": true
   },
   "outputs": [],
   "source": [
    "p = [0.1,0.5,0.05,.2,.15]\n",
    "q = [.2,.3,.005,.095,.4]"
   ]
  },
  {
   "cell_type": "code",
   "execution_count": 120,
   "metadata": {
    "collapsed": false
   },
   "outputs": [
    {
     "data": {
      "text/plain": [
       "-1.6360653489912225"
      ]
     },
     "execution_count": 120,
     "metadata": {},
     "output_type": "execute_result"
    }
   ],
   "source": [
    "cross_entropy(p,q)"
   ]
  },
  {
   "cell_type": "code",
   "execution_count": 16,
   "metadata": {
    "collapsed": true
   },
   "outputs": [],
   "source": [
    "def annealing(arr,tau):\n",
    "    return np.power(arr,1.0/tau) / np.sum(np.power(arr,1.0/tau))"
   ]
  },
  {
   "cell_type": "code",
   "execution_count": 70,
   "metadata": {
    "collapsed": true
   },
   "outputs": [],
   "source": [
    "def sampling_from_dirchlet(alpha,size):\n",
    "    eta = np.random.dirichlet([alpha]*size)\n",
    "    return eta"
   ]
  },
  {
   "cell_type": "code",
   "execution_count": 92,
   "metadata": {
    "collapsed": true
   },
   "outputs": [],
   "source": [
    "def add_noise_to_p(p,epsilon=.25,eta=0.03):\n",
    "    return (1-epsilon) * p + epsilon * sampling_from_dirchlet(eta,p.size)\n",
    "    "
   ]
  },
  {
   "cell_type": "code",
   "execution_count": 97,
   "metadata": {
    "collapsed": true
   },
   "outputs": [],
   "source": [
    "def ucb(p,n_visits,c_puct):\n",
    "    return c_puct * p * np.sqrt(np.sum(n_visits)) / (1+np.array(n_visits))"
   ]
  },
  {
   "cell_type": "code",
   "execution_count": 112,
   "metadata": {
    "collapsed": true
   },
   "outputs": [],
   "source": [
    "def cross_entropy(p,q): \n",
    "    return np.dot(np.array(p),np.log(np.array(q)))"
   ]
  },
  {
   "cell_type": "code",
   "execution_count": 7,
   "metadata": {
    "collapsed": false
   },
   "outputs": [],
   "source": [
    "import numpy as np"
   ]
  },
  {
   "cell_type": "code",
   "execution_count": 89,
   "metadata": {
    "collapsed": false
   },
   "outputs": [
    {
     "data": {
      "text/plain": [
       "array([4.65918461e-21, 1.31356672e-01, 8.68416201e-01, 2.24254998e-04,\n",
       "       2.87167695e-06])"
      ]
     },
     "execution_count": 89,
     "metadata": {},
     "output_type": "execute_result"
    }
   ],
   "source": [
    "sampling_from_dirchlet(0.03, 5)"
   ]
  },
  {
   "cell_type": "code",
   "execution_count": 5,
   "metadata": {
    "collapsed": false
   },
   "outputs": [
    {
     "data": {
      "text/plain": [
       "array([0.1 , 0.2 , 0.05, 0.1 , 0.4 , 0.15], dtype=float32)"
      ]
     },
     "execution_count": 5,
     "metadata": {},
     "output_type": "execute_result"
    }
   ],
   "source": [
    "np.array([0.1,0.2,0.05,0.1,0.4,0.15],dtype=np.float32)"
   ]
  },
  {
   "cell_type": "code",
   "execution_count": null,
   "metadata": {
    "collapsed": true
   },
   "outputs": [],
   "source": [
    "import datetime\n",
    "import numpy as np\n",
    "import tensorflow as tf"
   ]
  },
  {
   "cell_type": "code",
   "execution_count": null,
   "metadata": {
    "collapsed": true
   },
   "outputs": [],
   "source": [
    "class Net:\n",
    "    def __init__(self, size = 3, model_path=\"./Model_save/model_net_demo.ckpt\"):\n",
    "        self.s = tf.placeholder(dtype=tf.float32,shape=(size,size))\n",
    "        self.shape= self.s.shape\n",
    "        self.n_actions = size*size ## +1?\n",
    "        self.model_path = model_path\n",
    "        self.p, self.v = self.inference(self.s)\n",
    "        self.train_vars = tf.trainable_variables()\n",
    "        self.saver = tf.train.Saver(self.train_vars)\n",
    "        self.sess = tf.Session()\n",
    "        self.sess.run(tf.global_variables_initializer())\n",
    "   \n",
    "    def save(self):\n",
    "        self.saver.save(self.sess,save_path=self.model_path)\n",
    "        print(str(datetime.datetime.now())+\\\n",
    "              \": latest model and params saved to path:\",self.model_path)\n",
    "        \n",
    "    def restore(self):\n",
    "        self.saver.restore(self.sess,save_path=self.model_path)\n",
    "        print(str(datetime.datetime.now())+\\\n",
    "              \": last model and params restored from path\",self.model_path)\n",
    "        \n",
    "    def inference(self,inputs,filters=4,fc_units_v=32,num_res_module=4):\n",
    "        fc_units_p = self.n_actions\n",
    "        \n",
    "        inputs = self.input_module(inputs,filters) # 输入模块\n",
    "        \n",
    "        mid_values = inputs\n",
    "        for i_module in range(num_res_module):\n",
    "            mid_values = self.residual_module(mid_values,filters)\n",
    "            \n",
    "        outputs_p, outputs_v = self.output_module(mid_values,fc_units_v,fc_units_p)\n",
    "        \n",
    "        \n",
    "        return outputs_p, outputs_v\n",
    "\n",
    "    def update(self,v_op_list,p_op_list,z_value,pi_value_list,c=0.01,num_iters=20):\n",
    "        loss = tf.Variable(0.,trainable=False,dtype=tf.float32)\n",
    "        for v in v_op_list:\n",
    "            loss = tf.add(loss,tf.square(v-z_value)) \n",
    "\n",
    "        for p,pi in zip(p_op_list,pi_value_list):\n",
    "            loss = tf.add(loss,-tf.matmul(tf.log(p),tf.transpose(pi))) \n",
    "\n",
    "        var = tf.trainable_variables()\n",
    "        regularizer = tf.contrib.layers.l2_regularizer(scale=c)\n",
    "        l2_var = tf.contrib.layers.apply_regularization(regularizer,var)\n",
    "        \n",
    "        loss = tf.add(loss, l2_var)\n",
    "        \n",
    "        self.loss = loss\n",
    "        self.optimizer = tf.train.AdamOptimizer().minimize(self.loss)\n",
    "        \n",
    "        self.sess.run(tf.global_variables_initializer())\n",
    "        try:\n",
    "            self.restore()\n",
    "        except Exception as e:\n",
    "            print(e.message)\n",
    "            \n",
    "        finally:\n",
    "            for it in range(num_iters):\n",
    "                self.sess.run(self.optimizer)\n",
    "                \n",
    "            self.save()\n",
    "        \n",
    "        \n",
    "    def get_var_value(self,var,feed_dict):\n",
    "#         print(\"get var value:\",var)\n",
    "        return self.sess.run(var,feed_dict)\n",
    "    \n",
    "    def input_module(self,inputs,filters=256):\n",
    "        outputs = tf.reshape(inputs,[1,self.shape[0],self.shape[1],-1]) # 后续改进\n",
    "        outputs = tf.layers.conv2d(outputs,filters=filters,kernel_size=3,padding='same')\n",
    "        outputs = tf.layers.batch_normalization(outputs)\n",
    "        outputs = tf.nn.relu(outputs)\n",
    "        return outputs\n",
    "    \n",
    "    def residual_module(self,inputs,filters=256):\n",
    "        outputs = tf.layers.conv2d(inputs,filters=filters,kernel_size=3,padding='same')\n",
    "        outputs = tf.layers.batch_normalization(outputs)\n",
    "        outputs = tf.nn.relu(outputs)\n",
    "\n",
    "        outputs = tf.layers.conv2d(outputs,filters=filters,kernel_size=3,padding='same')\n",
    "        outputs = tf.layers.batch_normalization(outputs)\n",
    "\n",
    "        outputs += inputs\n",
    "        outputs = tf.nn.relu(outputs)  \n",
    "        return outputs\n",
    "    \n",
    "    def output_module(self,inputs,fc_units_v=256,fc_units_p=19*19+1):\n",
    "        outputs_v = tf.layers.conv2d(inputs,filters=1,kernel_size=1,padding='same')\n",
    "        outputs_v = tf.layers.batch_normalization(outputs_v)\n",
    "        outputs_v = tf.nn.relu(outputs_v)\n",
    "\n",
    "        outputs_v = tf.layers.flatten(outputs_v)\n",
    "\n",
    "        outputs_v = tf.layers.dense(outputs_v,fc_units_v,activation=tf.nn.relu)\n",
    "\n",
    "        outputs_v = tf.layers.dense(outputs_v,1,activation=tf.nn.tanh)\n",
    "        \n",
    "        outputs_p = tf.layers.conv2d(inputs,filters=2,kernel_size=1,padding='same')\n",
    "        outputs_p = tf.layers.batch_normalization(outputs_p)\n",
    "        outputs_p = tf.nn.relu(outputs_p)\n",
    "        \n",
    "        outputs_p = tf.layers.flatten(outputs_p)\n",
    "        \n",
    "        outputs_p = tf.layers.dense(outputs_p,fc_units_p,activation=tf.nn.softmax)\n",
    "        return outputs_p, outputs_v\n",
    "   "
   ]
  },
  {
   "cell_type": "code",
   "execution_count": null,
   "metadata": {
    "collapsed": true
   },
   "outputs": [],
   "source": [
    "class MCTS:\n",
    "    def __init__(self,net,simulator,c_puct=5,max_depth=20,num_sims=30):\n",
    "        self.net = net\n",
    "        self.simulator = simulator\n",
    "        self._root = TreeNode(None,1.0)\n",
    "        self.c_puct = c_puct\n",
    "        self.max_depth = max_depth\n",
    "        self.num_sims = num_sims\n",
    "        self.cur_depth = 0\n",
    "        self.cur_node = self._root\n",
    "        self.root_state = simulator.cur_state\n",
    "        self.cur_state = self.root_state.copy()\n",
    "        \n",
    "    def policy(self,state,tao):\n",
    "        for it in range(self.num_sims):\n",
    "            print(\"第%d次搜索\"%(it+1))\n",
    "            self.rollout()\n",
    "            self.cur_node = self._root\n",
    "            self.cur_state = self.root_state\n",
    "            self.cur_depth = 0\n",
    "            \n",
    "        pi = [x._n_visits for _,x in self._root._children.items()]\n",
    "        print(pi)\n",
    "   \n",
    "        # 需考虑退火 温度系数，\n",
    "        pi = (np.power(pi,1/tao)/np.sum(np.power(pi,1/tao))).tolist()\n",
    "        return pi\n",
    "      \n",
    "    def next_search(self):\n",
    "        self._root = self._root.childern[self.action]\n",
    "        self._root._parent = None\n",
    "        \n",
    "        self.root_state = self.simulator.move(self.action)\n",
    "        self.cur_state = self.simulator.move(self.action)\n",
    "        \n",
    "        self.cur_depth = 0\n",
    "        self.cur_node = self._root\n",
    "\n",
    "        return self\n",
    "        \n",
    "    def choice(self,tao):\n",
    "        \n",
    "        pi = self.policy(self.cur_state,tao)\n",
    "#         print(pi)\n",
    "        action = np.random.choice(range(len(pi)),p=pi)\n",
    "        self.action = action\n",
    "        return action\n",
    "        \n",
    "        \n",
    "    def rollout(self):\n",
    "        while self.cur_depth < self.max_depth:\n",
    "            if not self.cur_node.is_leaf():\n",
    "#                 print(\"No leaf\")\n",
    "                \n",
    "                action, self.cur_node = self.cur_node.select()\n",
    "                \n",
    "                self.cur_state = self.simulator.get_state(self.cur_state,action)\n",
    "#                 print(self.cur_state)\n",
    "                self.cur_depth += 1\n",
    "            else:\n",
    "#                 print(\"yes leaf\")\n",
    "                action_priors = enumerate(self.net.get_var_value(self.net.p,{self.net.s:self.cur_state}).reshape(-1).tolist())\n",
    "                self.cur_node.expand(action_priors)\n",
    "                \n",
    "                leaf_value = self.net.get_var_value (self.net.v,{self.net.s:self.cur_state})[0,0]       \n",
    "                self.cur_node.backup(leaf_value,self.c_puct)"
   ]
  },
  {
   "cell_type": "code",
   "execution_count": null,
   "metadata": {
    "collapsed": true
   },
   "outputs": [],
   "source": [
    "class TreeNode:\n",
    "    def __init__(self,parent,prior_p):\n",
    "        self._parent = parent\n",
    "        self._children = dict()\n",
    "        self._n_visits = 0\n",
    "        \n",
    "        self._Q = 0\n",
    "        self._W = 0\n",
    "        self._u = prior_p\n",
    "        self._p = prior_p\n",
    "        \n",
    "    def expand(self, action_priors):\n",
    "        for action, prob in action_priors:\n",
    "#             print(prob)\n",
    "            if action not in self._children:\n",
    "                self._children[action] = TreeNode(self,prob)\n",
    "                \n",
    "    def select(self):\n",
    "        return max(self._children.items(), key=lambda act_node: act_node[1].get_value())\n",
    "    \n",
    "    def get_value(self):\n",
    "        print(self._u,self._Q,self._p)\n",
    "        return self._Q + self._u\n",
    "    \n",
    "    def update(self,leaf_value,c_puct):\n",
    "        self._n_visits += 1\n",
    "        self._W += leaf_value\n",
    "#         self._Q = (leaf_value - self._Q) / self._n_visits\n",
    "        self._Q = self._W / self._n_visits\n",
    "        if not self.is_root():\n",
    "            self._u = c_puct * self._p * np.sqrt(self._parent._n_visits) / (1+self._n_visits)\n",
    "            \n",
    "    def is_root(self):\n",
    "        return self._parent is None\n",
    "    \n",
    "    def is_leaf(self):\n",
    "        return self._children == dict()\n",
    "     \n",
    "    def backup(self,leaf_value,c_puct):\n",
    "        self.update(leaf_value,c_puct)\n",
    "        if self._parent:\n",
    "            self._parent.backup(leaf_value,c_puct)\n",
    "            \n",
    "        "
   ]
  },
  {
   "cell_type": "code",
   "execution_count": null,
   "metadata": {
    "collapsed": true
   },
   "outputs": [],
   "source": [
    "class Simulator:\n",
    "    def __init__(self,size=3):\n",
    "        self.size = size\n",
    "        self.cur_state = np.zeros((size,size),dtype=np.float32)\n",
    "        self.records = [self.cur_state]\n",
    "        self.action_records = []\n",
    "        self.cur_hands = 0\n",
    "        self.n_actions = size**2\n",
    "        \n",
    "    def transform(self,state):\n",
    "        pass\n",
    "    \n",
    "    def move(self,action):\n",
    "        self.cur_hands += 1\n",
    "        state = self.cur_state\n",
    "        \n",
    "        if action>self.n_actions or action<0:\n",
    "            print(\"pass\")\n",
    "        elif action == self.n_actions:\n",
    "            print(\"pass\")\n",
    "        else:\n",
    "            i = action//self.size\n",
    "            j = action % self.size\n",
    "            state[i,j] += 1\n",
    "        self.cur_state = state\n",
    "        self.records.append(state.copy())\n",
    "        self.action_records.append(action)\n",
    "        \n",
    "    def get_state(self,state,action):\n",
    "        if  not (action>self.n_actions or action<0):\n",
    "            i = action//self.size\n",
    "            j = action % self.size\n",
    "            state[i,j] += 1\n",
    "            \n",
    "        return state\n",
    "\n",
    "    def is_done(self,state):\n",
    "        if abs(np.linalg.det(state)) >= 1:\n",
    "            return True\n",
    "        else:\n",
    "            return False\n",
    "        \n",
    "    def is_win(self,state):\n",
    "        if np.linalg.det(state) == 1:\n",
    "            return True\n",
    "        else:\n",
    "            return False\n",
    "        \n",
    "    def render(self):\n",
    "        print(\"hands:\",self.cur_hands)\n",
    "        print(\"state: \\n\")\n",
    "        print(self.cur_state)\n",
    "        \n",
    "    def save_records(self):\n",
    "        pass\n",
    "    \n",
    "    def reload_record():\n",
    "        pass"
   ]
  },
  {
   "cell_type": "code",
   "execution_count": null,
   "metadata": {
    "collapsed": false
   },
   "outputs": [],
   "source": [
    "net = Net()\n",
    "simulator = Simulator()\n"
   ]
  },
  {
   "cell_type": "code",
   "execution_count": null,
   "metadata": {
    "collapsed": true
   },
   "outputs": [],
   "source": [
    "mcts_tree = MCTS(net,simulator,c_puct=5,max_depth=20,num_sims=30)"
   ]
  },
  {
   "cell_type": "code",
   "execution_count": null,
   "metadata": {
    "collapsed": false
   },
   "outputs": [],
   "source": [
    "max_steps = 10\n",
    "\n",
    "for i in range(max_steps):\n",
    "    if simulator.is_win(simulator.cur_state):\n",
    "        print(\"Win, steps is %d\"%(i+1))\n",
    "        break\n",
    "        \n",
    "    else:\n",
    "        action = mcts_tree.choice(1.)\n",
    "        simulator.move(action)\n",
    "        if i == max_steps -1 :\n",
    "            print(\"Lose, steps is %d\"%(i+1))\n",
    "            \n",
    "print(\"Records:\\n\",simulator.records)\n",
    "            "
   ]
  },
  {
   "cell_type": "code",
   "execution_count": null,
   "metadata": {
    "collapsed": false
   },
   "outputs": [],
   "source": [
    "simulator.render()\n",
    "action = mcts_tree.choice(1.)\n",
    "simulator.move(action)\n",
    "simulator.render()\n",
    "\n",
    "simulator.cur_state\n"
   ]
  },
  {
   "cell_type": "code",
   "execution_count": null,
   "metadata": {
    "collapsed": false
   },
   "outputs": [],
   "source": [
    "mcts_tree.cur_depth"
   ]
  }
 ],
 "metadata": {
  "anaconda-cloud": {},
  "kernelspec": {
   "display_name": "Python [default]",
   "language": "python",
   "name": "python3"
  },
  "language_info": {
   "codemirror_mode": {
    "name": "ipython",
    "version": 3
   },
   "file_extension": ".py",
   "mimetype": "text/x-python",
   "name": "python",
   "nbconvert_exporter": "python",
   "pygments_lexer": "ipython3",
   "version": "3.5.2"
  }
 },
 "nbformat": 4,
 "nbformat_minor": 1
}
