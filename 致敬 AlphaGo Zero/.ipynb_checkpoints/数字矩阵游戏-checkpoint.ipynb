{
 "cells": [
  {
   "cell_type": "code",
   "execution_count": 1,
   "metadata": {
    "collapsed": true
   },
   "outputs": [],
   "source": [
    "import numpy as np"
   ]
  },
  {
   "cell_type": "markdown",
   "metadata": {},
   "source": [
    "给定一个随机矩阵（元素值在[-5, 5]范围内），一次调整一个元素值（加1），使得其行列式为目标值则胜利，行列式的绝对值超过阈值则失败。"
   ]
  },
  {
   "cell_type": "markdown",
   "metadata": {},
   "source": [
    "如果随机矩阵的行列式刚好为目标值，则保存这个随机矩阵，并重新生成一个随机矩阵。"
   ]
  },
  {
   "cell_type": "code",
   "execution_count": 109,
   "metadata": {
    "collapsed": false
   },
   "outputs": [
    {
     "name": "stdout",
     "output_type": "stream",
     "text": [
      "[[ 1 -3  3]\n",
      " [-2 -1 -4]\n",
      " [ 4  4  4]]\n",
      "23\n",
      "375\n"
     ]
    }
   ],
   "source": [
    "n_dims = 3\n",
    "max_num = 5\n",
    "target = 24\n",
    "threshold = n_dims * max_num ** n_dims\n",
    "data = np.random.randint(-max_num,max_num,size=(n_dims,n_dims))\n",
    "print(data)\n",
    "print(int(np.linalg.det(data)))\n",
    "print(threshold)"
   ]
  },
  {
   "cell_type": "code",
   "execution_count": 93,
   "metadata": {
    "collapsed": false
   },
   "outputs": [
    {
     "data": {
      "text/plain": [
       "0"
      ]
     },
     "execution_count": 93,
     "metadata": {},
     "output_type": "execute_result"
    }
   ],
   "source": [
    "class Net:\n",
    "    def get_value(self,data):\n",
    "        return 0.\n",
    "    \n",
    "    def get_prior_prop(self,data,action):\n",
    "        return 0.\n",
    "\n",
    "    pass\n",
    "\n",
    "class MCTS:\n",
    "    def __init__(self):\n",
    "        self.net = Net()\n",
    "        # 节点信息\n",
    "        self.data = np.random.randint(-max_num,max_num,size=(n_dims,n_dims)) # 实体的数据表示\n",
    "        self.num_layer = 0 # 层数\n",
    "        self.status = 0 # 0 表示叶子节点，1 表示未完全展开节点， 2表示完全展开节点\n",
    "        self.label = self.is_done() # 是否为最终节点（可以判断胜负的节点）\n",
    "        self.value = self.net.get_value(self.data) # （p, v） = f_theta(data) 公式中的v，当前玩家的胜率\n",
    "        \n",
    "        # 边信息\n",
    "        self.action = None\n",
    "        self.prior_prop = self.net.get_prior_prop(self.data,self.action)\n",
    "        self.num_visited = 0\n",
    "        self.cum_value = 0\n",
    "        self.average_value = 0\n",
    "        \n",
    "        # 树信息\n",
    "        self.parent = None\n",
    "        self.children = []\n",
    "     \n",
    "    def is_done(self):\n",
    "        return False\n",
    "    \n",
    "    def select(self):\n",
    "        pass\n",
    "    \n",
    "    def expand(self):\n",
    "        pass\n",
    "    \n",
    "    def evaluate(self):\n",
    "        pass\n",
    "    \n",
    "    def backup(self):\n",
    "        pass\n",
    "    \n",
    "    def play(self):\n",
    "        pass\n",
    "        \n",
    "tree = MCTS()\n",
    "tree.cum_value"
   ]
  },
  {
   "cell_type": "code",
   "execution_count": null,
   "metadata": {
    "collapsed": true
   },
   "outputs": [],
   "source": [
    "tree."
   ]
  }
 ],
 "metadata": {
  "anaconda-cloud": {},
  "kernelspec": {
   "display_name": "Python [default]",
   "language": "python",
   "name": "python3"
  },
  "language_info": {
   "codemirror_mode": {
    "name": "ipython",
    "version": 3
   },
   "file_extension": ".py",
   "mimetype": "text/x-python",
   "name": "python",
   "nbconvert_exporter": "python",
   "pygments_lexer": "ipython3",
   "version": "3.5.2"
  }
 },
 "nbformat": 4,
 "nbformat_minor": 1
}
