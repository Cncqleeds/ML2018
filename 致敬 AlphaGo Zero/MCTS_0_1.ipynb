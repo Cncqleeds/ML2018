{
 "cells": [
  {
   "cell_type": "code",
   "execution_count": null,
   "metadata": {
    "collapsed": true
   },
   "outputs": [],
   "source": [
    "import numpy as np\n",
    "import tensorflow as tf"
   ]
  },
  {
   "cell_type": "code",
   "execution_count": null,
   "metadata": {
    "collapsed": false
   },
   "outputs": [],
   "source": [
    "class Net:\n",
    "    def __init__(self,data,model_path=\"./Model_save/model_mtcs.ckpt\"):\n",
    "        self.s = tf.constant(data,dtype=tf.float32)\n",
    "        self.model_path = model_path\n",
    "        self.shape = data.shape\n",
    "        self.p, self.v = self.inference(self.s)\n",
    "    \n",
    "    def __call__(self,data):\n",
    "        self.reset(data)\n",
    "        return self\n",
    "        \n",
    "    def reset(self,data):\n",
    "        self.s = tf.constant(data,dtype=tf.float32)\n",
    "        self.shape = data.shape\n",
    "#         self.p, self.v = self.inference(self.s)\n",
    "        \n",
    "    def input_module(self,inputs,filters=256):\n",
    "        outputs = tf.reshape(inputs,[1,self.shape[0],self.shape[1],-1]) # 后续改进\n",
    "        outputs = tf.layers.conv2d(outputs,filters=filters,kernel_size=3,padding='same')\n",
    "        outputs = tf.layers.batch_normalization(outputs)\n",
    "        outputs = tf.nn.relu(outputs)\n",
    "        return outputs\n",
    "    \n",
    "    def residual_module(self,inputs,filters=256):\n",
    "        outputs = tf.layers.conv2d(inputs,filters=filters,kernel_size=3,padding='same')\n",
    "        outputs = tf.layers.batch_normalization(outputs)\n",
    "        outputs = tf.nn.relu(outputs)\n",
    "\n",
    "        outputs = tf.layers.conv2d(outputs,filters=filters,kernel_size=3,padding='same')\n",
    "        outputs = tf.layers.batch_normalization(outputs)\n",
    "\n",
    "        outputs += inputs\n",
    "        outputs = tf.nn.relu(outputs)  \n",
    "        return outputs\n",
    "    \n",
    "    def output_module(self,inputs,fc_units_v=256,fc_units_p=19*19+1):\n",
    "        outputs_v = tf.layers.conv2d(inputs,filters=1,kernel_size=1,padding='same')\n",
    "        outputs_v = tf.layers.batch_normalization(outputs_v)\n",
    "        outputs_v = tf.nn.relu(outputs_v)\n",
    "\n",
    "        outputs_v = tf.layers.flatten(outputs_v)\n",
    "\n",
    "        outputs_v = tf.layers.dense(outputs_v,fc_units_v,activation=tf.nn.relu)\n",
    "\n",
    "        outputs_v = tf.layers.dense(outputs_v,1,activation=tf.nn.tanh)\n",
    "        \n",
    "        outputs_p = tf.layers.conv2d(inputs,filters=2,kernel_size=1,padding='same')\n",
    "        outputs_p = tf.layers.batch_normalization(outputs_p)\n",
    "        outputs_p = tf.nn.relu(outputs_p)\n",
    "        \n",
    "        outputs_p = tf.layers.flatten(outputs_p)\n",
    "        \n",
    "        outputs_p = tf.layers.dense(outputs_p,fc_units_p,activation=tf.nn.softmax)\n",
    "        return outputs_p, outputs_v\n",
    "    \n",
    "    def inference(self,inputs,filters=4,fc_units_v=32,fc_units_p=4,num_res_module=4):\n",
    "        inputs = self.input_module(inputs,filters)\n",
    "        \n",
    "        mid_values = inputs\n",
    "        \n",
    "        for i_module in range(num_res_module):\n",
    "            mid_values = self.residual_module(mid_values,filters)\n",
    "            \n",
    "        outputs_p, outputs_v = self.output_module(mid_values,fc_units_v,fc_units_p)\n",
    "        \n",
    "        self.train_vars = tf.trainable_variables()\n",
    "        self.saver = tf.train.Saver(self.train_vars)\n",
    "\n",
    "        return outputs_p, outputs_v\n",
    "    \n",
    "#     def policy(self,state):\n",
    "#         action_probs = dict()\n",
    "#         value = None\n",
    "        \n",
    "#         p, v = self.inference(state)\n",
    "#         with tf.Session() as sess:\n",
    "#             sess.run(tf.global_variables_initializer())\n",
    "#             p_, value = sess.run([p,v])\n",
    "#             print(p_)\n",
    "            \n",
    "    def pre_train(self,v_list,p_list,z,mcts_list,c=0.0001):\n",
    "        loss = tf.Variable(0.,trainable=False,dtype=tf.float32)\n",
    "        for v in v_list:\n",
    "            loss = tf.add(loss,tf.square(v-z)) \n",
    "\n",
    "        for p,m in zip(p_list,mcts_list):\n",
    "            loss = tf.add(loss,-tf.matmul(tf.log(p),m)) \n",
    "\n",
    "        var = tf.trainable_variables()\n",
    "#         print(len(var))\n",
    "        regularizer = tf.contrib.layers.l2_regularizer(scale=c)\n",
    "        l2_var = tf.contrib.layers.apply_regularization(regularizer,var)\n",
    "        \n",
    "        loss = tf.add(loss, l2_var)\n",
    "\n",
    "        self.loss = loss\n",
    "        self.optimizer = tf.train.AdamOptimizer().minimize(self.loss)\n"
   ]
  },
  {
   "cell_type": "code",
   "execution_count": null,
   "metadata": {
    "collapsed": true
   },
   "outputs": [],
   "source": [
    "net = Net(np.zeros((2,2),dtype=np.float32))  "
   ]
  },
  {
   "cell_type": "code",
   "execution_count": null,
   "metadata": {
    "collapsed": false
   },
   "outputs": [],
   "source": [
    "net.policy(np.zeros((2,2),dtype=np.float32))"
   ]
  },
  {
   "cell_type": "code",
   "execution_count": null,
   "metadata": {
    "collapsed": false
   },
   "outputs": [],
   "source": [
    "net = net(2*np.random.randn(2,2))"
   ]
  },
  {
   "cell_type": "code",
   "execution_count": null,
   "metadata": {
    "collapsed": true
   },
   "outputs": [],
   "source": [
    "v_list = [net.v,net.v,net.v,net.v]\n",
    "p_list = [net.p,net.p,net.p]\n",
    "z = tf.constant(1.0,dtype=tf.float32) \n",
    "const_p = tf.constant([0.2,0.1,0.6,0.1],dtype=tf.float32)\n",
    "const_p = tf.reshape(const_p,shape=[-1,1])\n",
    "mcts_list = [const_p,const_p,const_p]"
   ]
  },
  {
   "cell_type": "code",
   "execution_count": null,
   "metadata": {
    "collapsed": false
   },
   "outputs": [],
   "source": [
    "net.pre_train(v_list,p_list,z,mcts_list,c=0.0001)"
   ]
  },
  {
   "cell_type": "code",
   "execution_count": null,
   "metadata": {
    "collapsed": false
   },
   "outputs": [],
   "source": [
    "with tf.Session() as sess:\n",
    "    sess.run(tf.global_variables_initializer())\n",
    "    try:\n",
    "        net.saver.restore(sess,save_path=net.model_path)\n",
    "        print(\"last model and params restore path\",net.model_path)\n",
    "    except Exception as e:\n",
    "        print(e.message)\n",
    "        print(\"not found restore path!\")\n",
    "    finally:\n",
    "#         for it in range(2):\n",
    "#             sess.run(net.optimizer)\n",
    "            \n",
    "        net.saver.save(sess,save_path=net.model_path)\n",
    "        print(\"latest model and prams save path:\",net.model_path)\n",
    "        \n",
    "        print(sess.run(net.loss))\n",
    "        print(sess.run(net.p))\n",
    "        print(sess.run(net.v))\n",
    "              "
   ]
  },
  {
   "cell_type": "code",
   "execution_count": null,
   "metadata": {
    "collapsed": true
   },
   "outputs": [],
   "source": [
    "class TreeNode:\n",
    "    def __init__(self,parent,prior_p):\n",
    "        self._parent = parent\n",
    "        self._children = dict()\n",
    "        self._n_visits = 0\n",
    "        \n",
    "        self._Q = 0\n",
    "        self._W = 0\n",
    "        self._u = prior_p\n",
    "        self._p = prior_p\n",
    "        \n",
    "    def expand(self, action_priors):\n",
    "        for action, prob in action_priors:\n",
    "            if action not in self._children:\n",
    "                self._children[action] = TreeNode(self,prob)\n",
    "                \n",
    "    def select(self):\n",
    "        return max(self._children.items(), key=lambda act_node: act_node[1].get_value())\n",
    "    \n",
    "    def get_value(self):\n",
    "        return self._Q + self._u\n",
    "    \n",
    "    def update(self,leaf_value,c_puct):\n",
    "        self._n_visits += 1\n",
    "        self._W += leaf_value\n",
    "#         self._Q = (leaf_value - self._Q) / self._n_visits\n",
    "        self._Q = self._W / self._n_visits\n",
    "        if not self.is_root():\n",
    "            self._u = c_puct * self._p * np.sqrt(self._parent._n_visits) / (1+self._n_visits)\n",
    "            \n",
    "    def is_root(self):\n",
    "        return self._parent is None\n",
    "    \n",
    "    def is_leaf(self):\n",
    "        return self._children == dict()\n",
    "     \n",
    "    def backup(self,leaf_value,c_puct):\n",
    "        if self._parent:\n",
    "            self._parent.backup(leaf_value,c_puct)\n",
    "            \n",
    "        self.update(leaf_value,c_puct)"
   ]
  },
  {
   "cell_type": "code",
   "execution_count": null,
   "metadata": {
    "collapsed": true
   },
   "outputs": [],
   "source": [
    "root = TreeNode(None,1.0)"
   ]
  },
  {
   "cell_type": "code",
   "execution_count": null,
   "metadata": {
    "collapsed": true
   },
   "outputs": [],
   "source": [
    "class MCTS:\n",
    "    def __init__(self,net,init_data,c_puct=5,max_depth=20):\n",
    "        self._root = TreeNode(None,1.0)\n",
    "        self._policy, self._value = net(init_data).inference(net.s)\n",
    "        self.c_puct = c_puct\n",
    "        self.max_depth = max_depth\n",
    "        \n",
    "    def play(self,state,leaf_depth):\n",
    "        node = self._root\n",
    "        \n",
    "        for i in range(leaf_depth):\n",
    "            if node.is_leaf():\n",
    "                action_probs = self._policy(state)\n",
    "                node.expand(action_probs)\n",
    "            \n",
    "            action, node = node.select()\n",
    "            state.do_move(action)\n",
    "        v = self._value(state)\n",
    "        "
   ]
  },
  {
   "cell_type": "code",
   "execution_count": null,
   "metadata": {
    "collapsed": false
   },
   "outputs": [],
   "source": [
    "root.is_leaf()"
   ]
  },
  {
   "cell_type": "code",
   "execution_count": null,
   "metadata": {
    "collapsed": true
   },
   "outputs": [],
   "source": [
    "class MCTS:\n",
    "    root_data = np.zeros((2,2),np.float32)\n",
    "    net = Net(root_data)\n",
    "    actions = np.arange(0,4)\n",
    "    \n",
    "    def __init__(self,data):\n",
    "        # 节点信息\n",
    "        self.data = data # 实体的数据表示\n",
    "        self.det = np.linalg.det(self.data)\n",
    "        self.num_layer = 0 # 层数\n",
    "        self.status = 0 # 0 表示叶子节点，1 表示未完全展开节点， 2表示完全展开节点\n",
    "        self.label = self.is_done() # 是否为最终节点（可以判断胜负的节点）\n",
    "        \n",
    "        self.net.reset()\n",
    "#         self.value = self.net.get_value(self.data) # （p, v） = f_theta(data) 公式中的v，当前玩家的胜率\n",
    "        \n",
    "        # 边信息\n",
    "        self.num_visited = 0\n",
    "        self.cum_value = 0\n",
    "        self.average_value = 0\n",
    "        \n",
    "        # 树信息\n",
    "        self.parent = None\n",
    "        self.children = []\n",
    "        \n",
    "    def is_done(self):\n",
    "        if abs(self.det) >= 1:\n",
    "            return True\n",
    "        else:\n",
    "            return False\n",
    "    \n",
    "    def select(self,c_puct,epsilon):\n",
    "        if self.children:\n",
    "            a_list = []\n",
    "            p_list = self.net.p\n",
    "            \n",
    "            for child in self.childern:\n",
    "                p\n",
    "            \n",
    "    def expand(self):\n",
    "        pass\n",
    "    def evaluate(self):\n",
    "        pass\n",
    "    def backup(self):\n",
    "        pass\n",
    "    def play(self):\n",
    "        pass\n",
    "    \n",
    "    \n"
   ]
  },
  {
   "cell_type": "code",
   "execution_count": null,
   "metadata": {
    "collapsed": false
   },
   "outputs": [],
   "source": [
    "class T:\n",
    "    a = 1\n",
    "    def __init__(self):\n",
    "        self.a += 10\n",
    "     \n",
    "t = T()\n",
    "print(T.a)\n",
    "print(t.a)\n",
    "print(T.a)\n",
    "T.a = 2\n",
    "t = T()\n",
    "print(T.a)\n",
    "print(t.a)\n",
    "print(T.a)"
   ]
  },
  {
   "cell_type": "code",
   "execution_count": null,
   "metadata": {
    "collapsed": true
   },
   "outputs": [],
   "source": [
    "tree = MCTS(np.zeros((2,2)))"
   ]
  },
  {
   "cell_type": "code",
   "execution_count": null,
   "metadata": {
    "collapsed": false
   },
   "outputs": [],
   "source": [
    "tree.actions"
   ]
  },
  {
   "cell_type": "code",
   "execution_count": null,
   "metadata": {
    "collapsed": false
   },
   "outputs": [],
   "source": [
    "tree.net.v"
   ]
  }
 ],
 "metadata": {
  "anaconda-cloud": {},
  "kernelspec": {
   "display_name": "Python [default]",
   "language": "python",
   "name": "python3"
  },
  "language_info": {
   "codemirror_mode": {
    "name": "ipython",
    "version": 3
   },
   "file_extension": ".py",
   "mimetype": "text/x-python",
   "name": "python",
   "nbconvert_exporter": "python",
   "pygments_lexer": "ipython3",
   "version": "3.5.2"
  }
 },
 "nbformat": 4,
 "nbformat_minor": 1
}
