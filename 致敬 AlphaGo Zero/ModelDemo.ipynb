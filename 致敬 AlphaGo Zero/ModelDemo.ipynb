{
 "cells": [
  {
   "cell_type": "markdown",
   "metadata": {},
   "source": [
    "Model 完成以下功能\n",
    "    >  start()\n",
    "    >  auto_play()\n",
    "    >  emergency_help()\n",
    "    >  end()"
   ]
  },
  {
   "cell_type": "code",
   "execution_count": 3,
   "metadata": {
    "collapsed": true
   },
   "outputs": [],
   "source": [
    "class Model:\n",
    "    def __init__(self):\n",
    "        pass\n",
    "    def start(self):\n",
    "        pass\n",
    "    def auto_play(self):\n",
    "        pass\n",
    "    def emergency_help(self):\n",
    "        pass\n",
    "    def end(self):\n",
    "        pass"
   ]
  },
  {
   "cell_type": "code",
   "execution_count": 4,
   "metadata": {
    "collapsed": false
   },
   "outputs": [
    {
     "name": "stdout",
     "output_type": "stream",
     "text": [
      "初始化模型\n",
      "自我学习中...\n",
      "收尾工作\n"
     ]
    }
   ],
   "source": [
    "if __name__ == \"__main__\":\n",
    "    model = Model()\n",
    "    print(\"初始化模型\")\n",
    "    model.start()\n",
    "    \n",
    "    print(\"自我学习中...\")\n",
    "    model.auto_play()\n",
    "    \n",
    "    print(\"收尾工作\")\n",
    "    model.end()"
   ]
  }
 ],
 "metadata": {
  "anaconda-cloud": {},
  "kernelspec": {
   "display_name": "Python [default]",
   "language": "python",
   "name": "python3"
  },
  "language_info": {
   "codemirror_mode": {
    "name": "ipython",
    "version": 3
   },
   "file_extension": ".py",
   "mimetype": "text/x-python",
   "name": "python",
   "nbconvert_exporter": "python",
   "pygments_lexer": "ipython3",
   "version": "3.5.2"
  }
 },
 "nbformat": 4,
 "nbformat_minor": 1
}
