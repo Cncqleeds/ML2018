{
 "cells": [
  {
   "cell_type": "markdown",
   "metadata": {},
   "source": [
    "Simulator完成以下功能\n",
    "    >  ndarray_inputs = transform(state)\n",
    "    >  next_state = move(state,action)\n",
    "    >  is_done_bool = is_done(state)\n",
    "    >  result = is_win(state)\n",
    "    >  render()\n",
    "    >  save_record()\n",
    "    >  reload_record()"
   ]
  },
  {
   "cell_type": "code",
   "execution_count": 7,
   "metadata": {
    "collapsed": true
   },
   "outputs": [],
   "source": [
    "import numpy as np"
   ]
  },
  {
   "cell_type": "code",
   "execution_count": 44,
   "metadata": {
    "collapsed": false
   },
   "outputs": [],
   "source": [
    "class Simulator:\n",
    "    def __init__(self,size=3):\n",
    "        self.size = size\n",
    "        self.cur_state = np.zeros((size,size),dtype=np.float32)\n",
    "        self.records = {}\n",
    "        self.action_records = []\n",
    "        self.cur_hands = 0\n",
    "        self.n_actions = size**2\n",
    "        \n",
    "    def transform(self,state):\n",
    "        pass\n",
    "    \n",
    "    def move(self,action):\n",
    "        self.cur_hands += 1\n",
    "                \n",
    "        if action>self.n_actions or action<0:\n",
    "            print(\"pass\")\n",
    "        elif action == self.n_actions:\n",
    "            print(\"pass\")\n",
    "        else:\n",
    "            i = action//self.size\n",
    "            j = action % self.size\n",
    "            self.cur_state[i,j] += 1\n",
    "        \n",
    "#         print(self.cur_state)\n",
    "        self.records[self.cur_hands] = self.cur_state.copy().astype(np.int32)\n",
    "        self.action_records.append(action)\n",
    "        \n",
    "    def get_state(self,state,action):\n",
    "        if  not (action>self.n_actions or action<0):\n",
    "            i = action//self.size\n",
    "            j = action % self.size\n",
    "            state[i,j] += 1\n",
    "            \n",
    "        return state\n",
    "\n",
    "    def is_done(self,state):\n",
    "        if abs(np.linalg.det(state)) >= 1:\n",
    "            return True\n",
    "        else:\n",
    "            return False\n",
    "        \n",
    "    def is_win(self,state):\n",
    "        if np.linalg.det(state) == 1:\n",
    "            return True\n",
    "        else:\n",
    "            return False\n",
    "        \n",
    "    def render(self):\n",
    "        print(\"hands:\",self.cur_hands)\n",
    "        print(\"state: \\n\")\n",
    "        print(self.cur_state)\n",
    "        \n",
    "    def save_records(self):\n",
    "        pass\n",
    "    \n",
    "    def reload_record():\n",
    "        pass"
   ]
  },
  {
   "cell_type": "code",
   "execution_count": 45,
   "metadata": {
    "collapsed": false
   },
   "outputs": [],
   "source": [
    "sims = Simulator()"
   ]
  },
  {
   "cell_type": "code",
   "execution_count": 10,
   "metadata": {
    "collapsed": false
   },
   "outputs": [
    {
     "data": {
      "text/plain": [
       "array([[1., 1., 1.],\n",
       "       [1., 1., 2.],\n",
       "       [1., 1., 1.]], dtype=float32)"
      ]
     },
     "execution_count": 10,
     "metadata": {},
     "output_type": "execute_result"
    }
   ],
   "source": [
    "sims.get_state(np.ones((3,3),dtype=np.float32),5)"
   ]
  },
  {
   "cell_type": "code",
   "execution_count": 11,
   "metadata": {
    "collapsed": false
   },
   "outputs": [
    {
     "data": {
      "text/plain": [
       "array([[0., 0., 0.],\n",
       "       [0., 0., 0.],\n",
       "       [0., 0., 0.]], dtype=float32)"
      ]
     },
     "execution_count": 11,
     "metadata": {},
     "output_type": "execute_result"
    }
   ],
   "source": [
    "sims.cur_state"
   ]
  },
  {
   "cell_type": "code",
   "execution_count": 46,
   "metadata": {
    "collapsed": false
   },
   "outputs": [
    {
     "name": "stdout",
     "output_type": "stream",
     "text": [
      "pass\n"
     ]
    }
   ],
   "source": [
    "for _ in range(5):\n",
    "    action = np.random.randint(0,11)\n",
    "    sims.move(action)\n",
    "#     sims.render()"
   ]
  },
  {
   "cell_type": "code",
   "execution_count": 47,
   "metadata": {
    "collapsed": false
   },
   "outputs": [
    {
     "data": {
      "text/plain": [
       "{1: array([[0, 0, 0],\n",
       "        [0, 0, 0],\n",
       "        [0, 0, 0]]), 2: array([[0, 0, 0],\n",
       "        [1, 0, 0],\n",
       "        [0, 0, 0]]), 3: array([[0, 0, 0],\n",
       "        [1, 0, 0],\n",
       "        [0, 1, 0]]), 4: array([[0, 0, 0],\n",
       "        [1, 0, 0],\n",
       "        [0, 1, 1]]), 5: array([[0, 1, 0],\n",
       "        [1, 0, 0],\n",
       "        [0, 1, 1]])}"
      ]
     },
     "execution_count": 47,
     "metadata": {},
     "output_type": "execute_result"
    }
   ],
   "source": [
    "sims.records"
   ]
  },
  {
   "cell_type": "code",
   "execution_count": 40,
   "metadata": {
    "collapsed": false
   },
   "outputs": [
    {
     "data": {
      "text/plain": [
       "[9, 2, 7, 6, 5]"
      ]
     },
     "execution_count": 40,
     "metadata": {},
     "output_type": "execute_result"
    }
   ],
   "source": [
    "sims.action_records"
   ]
  }
 ],
 "metadata": {
  "anaconda-cloud": {},
  "kernelspec": {
   "display_name": "Python [default]",
   "language": "python",
   "name": "python3"
  },
  "language_info": {
   "codemirror_mode": {
    "name": "ipython",
    "version": 3
   },
   "file_extension": ".py",
   "mimetype": "text/x-python",
   "name": "python",
   "nbconvert_exporter": "python",
   "pygments_lexer": "ipython3",
   "version": "3.5.2"
  }
 },
 "nbformat": 4,
 "nbformat_minor": 1
}
