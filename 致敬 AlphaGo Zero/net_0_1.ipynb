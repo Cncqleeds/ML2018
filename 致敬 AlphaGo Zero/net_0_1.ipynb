{
 "cells": [
  {
   "cell_type": "markdown",
   "metadata": {},
   "source": [
    "GoDemo\n",
    "    >  Net 深度神经网络\n",
    "    >  MCTS 蒙特卡洛树搜索\n",
    "    >  Simulator 环境模拟器\n",
    "    >  Model 自动化的、流水线的、能自检修复的深度强化学习的模型"
   ]
  },
  {
   "cell_type": "markdown",
   "metadata": {},
   "source": [
    "Net完成以下功能\n",
    "    >  p, v = f_theta(state), p and v 为操作\n",
    "    >  var_value = g_theta(var_op, feed_state) 得到 var_op 的值\n",
    "    >  loss, optimizer = train(*params) \n",
    "    >  update()  更新Net中的theta参数\n",
    "    >  save() 保存模型参数\n",
    "    >  restore() 恢复模型参数"
   ]
  },
  {
   "cell_type": "markdown",
   "metadata": {},
   "source": [
    "MCTS完成以下功能\n",
    "    >  pi = policy(net,state)\n",
    "    >  action = choice(pi)\n",
    "    >  tree = rollout(state)"
   ]
  },
  {
   "cell_type": "markdown",
   "metadata": {},
   "source": [
    "Simulator完成以下功能\n",
    "    >  ndarray_inputs = transform(state)\n",
    "    >  next_state = move(state,action)\n",
    "    >  is_done_bool = is_done(state)\n",
    "    >  result = is_win(state)\n",
    "    >  render()\n",
    "    >  save_record()\n",
    "    >  reload_record()"
   ]
  },
  {
   "cell_type": "markdown",
   "metadata": {},
   "source": [
    "Model 完成以下功能\n",
    "    >  start()\n",
    "    >  auto_play()\n",
    "    >  emergency_help()\n",
    "    >  end()"
   ]
  },
  {
   "cell_type": "code",
   "execution_count": 1,
   "metadata": {
    "collapsed": true
   },
   "outputs": [],
   "source": [
    "import numpy as np\n",
    "import tensorflow as tf"
   ]
  },
  {
   "cell_type": "code",
   "execution_count": 11,
   "metadata": {
    "collapsed": true
   },
   "outputs": [],
   "source": [
    "class Net:\n",
    "    def __init__(self,size=2,model_path=\"./Model_save/model_net.ckpt\"):\n",
    "        self.s = tf.placeholder(dtype=tf.float32,shape=(size,size))\n",
    "        self.shape=(size,size)\n",
    "        self.model_path = model_path\n",
    "        self.p, self.v = self.inference(self.s)\n",
    "        self.sess = tf.Session()\n",
    "        self.sess.run(tf.global_variables_initializer())\n",
    "        \n",
    "    def get_var_value(self,var,feed_state):\n",
    "        return self.sess.run(var,{self.s:feed_state})\n",
    "    \n",
    "#     def __call__(self,data):\n",
    "#         self.reset(data)\n",
    "#         return self\n",
    "        \n",
    "#     def reset(self,data):\n",
    "#         self.s = tf.constant(data,dtype=tf.float32)\n",
    "#         self.shape = data.shape\n",
    "#         self.p, self.v = self.inference(self.s)\n",
    "        \n",
    "    def input_module(self,inputs,filters=256):\n",
    "        outputs = tf.reshape(inputs,[1,self.shape[0],self.shape[1],-1]) # 后续改进\n",
    "        outputs = tf.layers.conv2d(outputs,filters=filters,kernel_size=3,padding='same')\n",
    "        outputs = tf.layers.batch_normalization(outputs)\n",
    "        outputs = tf.nn.relu(outputs)\n",
    "        return outputs\n",
    "    \n",
    "    def residual_module(self,inputs,filters=256):\n",
    "        outputs = tf.layers.conv2d(inputs,filters=filters,kernel_size=3,padding='same')\n",
    "        outputs = tf.layers.batch_normalization(outputs)\n",
    "        outputs = tf.nn.relu(outputs)\n",
    "\n",
    "        outputs = tf.layers.conv2d(outputs,filters=filters,kernel_size=3,padding='same')\n",
    "        outputs = tf.layers.batch_normalization(outputs)\n",
    "\n",
    "        outputs += inputs\n",
    "        outputs = tf.nn.relu(outputs)  \n",
    "        return outputs\n",
    "    \n",
    "    def output_module(self,inputs,fc_units_v=256,fc_units_p=19*19+1):\n",
    "        outputs_v = tf.layers.conv2d(inputs,filters=1,kernel_size=1,padding='same')\n",
    "        outputs_v = tf.layers.batch_normalization(outputs_v)\n",
    "        outputs_v = tf.nn.relu(outputs_v)\n",
    "\n",
    "        outputs_v = tf.layers.flatten(outputs_v)\n",
    "\n",
    "        outputs_v = tf.layers.dense(outputs_v,fc_units_v,activation=tf.nn.relu)\n",
    "\n",
    "        outputs_v = tf.layers.dense(outputs_v,1,activation=tf.nn.tanh)\n",
    "        \n",
    "        outputs_p = tf.layers.conv2d(inputs,filters=2,kernel_size=1,padding='same')\n",
    "        outputs_p = tf.layers.batch_normalization(outputs_p)\n",
    "        outputs_p = tf.nn.relu(outputs_p)\n",
    "        \n",
    "        outputs_p = tf.layers.flatten(outputs_p)\n",
    "        \n",
    "        outputs_p = tf.layers.dense(outputs_p,fc_units_p,activation=tf.nn.softmax)\n",
    "        return outputs_p, outputs_v\n",
    "    \n",
    "    def inference(self,inputs,filters=4,fc_units_v=32,fc_units_p=4,num_res_module=4):\n",
    "        inputs = self.input_module(inputs,filters)\n",
    "        \n",
    "        mid_values = inputs\n",
    "        \n",
    "        for i_module in range(num_res_module):\n",
    "            mid_values = self.residual_module(mid_values,filters)\n",
    "            \n",
    "        outputs_p, outputs_v = self.output_module(mid_values,fc_units_v,fc_units_p)\n",
    "        \n",
    "        self.train_vars = tf.trainable_variables()\n",
    "        self.saver = tf.train.Saver(self.train_vars)\n",
    "\n",
    "        return outputs_p, outputs_v\n",
    "    \n",
    "#     def policy(self,state):\n",
    "#         action_probs = dict()\n",
    "#         value = None\n",
    "        \n",
    "#         p, v = self.inference(state)\n",
    "#         with tf.Session() as sess:\n",
    "#             sess.run(tf.global_variables_initializer())\n",
    "#             p_, value = sess.run([p,v])\n",
    "#             print(p_)\n",
    "            \n",
    "    def pre_train(self,v_list,p_list,z,mcts_list,c=0.0001):\n",
    "        loss = tf.Variable(0.,trainable=False,dtype=tf.float32)\n",
    "        print(\"1\",loss)\n",
    "        for v in v_list:\n",
    "            loss = tf.add(loss,tf.square(v-z)) \n",
    "\n",
    "        for p,m in zip(p_list,mcts_list):\n",
    "            loss = tf.add(loss,-tf.matmul(tf.log(p),m)) \n",
    "\n",
    "        var = tf.trainable_variables()\n",
    "#         print(len(var))\n",
    "        regularizer = tf.contrib.layers.l2_regularizer(scale=c)\n",
    "        l2_var = tf.contrib.layers.apply_regularization(regularizer,var)\n",
    "        \n",
    "        loss = tf.add(loss, l2_var)\n",
    "        \n",
    "        print(\"2\",loss)\n",
    "        \n",
    "\n",
    "        self.loss = loss\n",
    "        self.optimizer = tf.train.AdamOptimizer().minimize(self.loss)\n"
   ]
  },
  {
   "cell_type": "code",
   "execution_count": 12,
   "metadata": {
    "collapsed": true
   },
   "outputs": [],
   "source": [
    "net = Net()"
   ]
  },
  {
   "cell_type": "code",
   "execution_count": 13,
   "metadata": {
    "collapsed": true
   },
   "outputs": [],
   "source": [
    "v_list = [net.v,net.v,net.v,net.v]\n",
    "p_list = [net.p,net.p,net.p]\n",
    "z = tf.constant(1.0,dtype=tf.float32) \n",
    "const_p = tf.constant([0.2,0.1,0.6,0.1],dtype=tf.float32)\n",
    "const_p = tf.reshape(const_p,shape=[-1,1])\n",
    "mcts_list = [const_p,const_p,const_p]"
   ]
  },
  {
   "cell_type": "code",
   "execution_count": 14,
   "metadata": {
    "collapsed": false
   },
   "outputs": [
    {
     "name": "stdout",
     "output_type": "stream",
     "text": [
      "1 <tf.Variable 'Variable:0' shape=() dtype=float32_ref>\n",
      "2 Tensor(\"Add_7:0\", shape=(1, 1), dtype=float32)\n"
     ]
    }
   ],
   "source": [
    "net.pre_train(v_list,p_list,z,mcts_list,c=0.0001)"
   ]
  },
  {
   "cell_type": "code",
   "execution_count": 8,
   "metadata": {
    "collapsed": false
   },
   "outputs": [
    {
     "data": {
      "text/plain": [
       "array([[0.25, 0.25, 0.25, 0.25]], dtype=float32)"
      ]
     },
     "execution_count": 8,
     "metadata": {},
     "output_type": "execute_result"
    }
   ],
   "source": [
    "net.get_var_value(net.p,np.zeros((2,2),dtype=np.float32))"
   ]
  }
 ],
 "metadata": {
  "anaconda-cloud": {},
  "kernelspec": {
   "display_name": "Python [default]",
   "language": "python",
   "name": "python3"
  },
  "language_info": {
   "codemirror_mode": {
    "name": "ipython",
    "version": 3
   },
   "file_extension": ".py",
   "mimetype": "text/x-python",
   "name": "python",
   "nbconvert_exporter": "python",
   "pygments_lexer": "ipython3",
   "version": "3.5.2"
  }
 },
 "nbformat": 4,
 "nbformat_minor": 1
}
