{
 "cells": [
  {
   "cell_type": "code",
   "execution_count": 1,
   "metadata": {
    "collapsed": true
   },
   "outputs": [],
   "source": [
    "import numpy as np"
   ]
  },
  {
   "cell_type": "markdown",
   "metadata": {},
   "source": [
    "给定一个随机矩阵（元素值在[-5, 5]范围内），一次调整一个元素值（加1），使得其行列式为目标值则胜利，行列式的绝对值超过阈值则失败。"
   ]
  },
  {
   "cell_type": "markdown",
   "metadata": {},
   "source": [
    "如果随机矩阵的行列式刚好为目标值，则保存这个随机矩阵，并重新生成一个随机矩阵。"
   ]
  },
  {
   "cell_type": "markdown",
   "metadata": {},
   "source": [
    "给定一个nxn的0矩阵，一次调整一个元素值（加1），使得其行列式为1则胜利，行列式的绝对值大于1则失败"
   ]
  },
  {
   "cell_type": "code",
   "execution_count": 9,
   "metadata": {
    "collapsed": false
   },
   "outputs": [
    {
     "name": "stdout",
     "output_type": "stream",
     "text": [
      "[[0 0]\n",
      " [0 0]]\n",
      "0.0\n"
     ]
    }
   ],
   "source": [
    "n_dims = 2\n",
    "target = 1\n",
    "\n",
    "data = np.zeros((n_dims,n_dims))\n",
    "\n",
    "det_data = np.linalg.det(data)\n",
    "\n",
    "print(data)\n",
    "print(det_data)"
   ]
  },
  {
   "cell_type": "code",
   "execution_count": null,
   "metadata": {
    "collapsed": true
   },
   "outputs": [],
   "source": []
  },
  {
   "cell_type": "code",
   "execution_count": 3,
   "metadata": {
    "collapsed": false
   },
   "outputs": [],
   "source": [
    "# n_dims = 2\n",
    "# max_num = 5\n",
    "# target = 1\n",
    "# threshold = 1 #n_dims * max_num ** n_dims\n",
    "# data = np.random.randint(-max_num,max_num,size=(n_dims,n_dims))\n",
    "# print(data)\n",
    "# print(int(np.linalg.det(data)))\n",
    "# print(threshold)"
   ]
  },
  {
   "cell_type": "code",
   "execution_count": 93,
   "metadata": {
    "collapsed": false
   },
   "outputs": [
    {
     "data": {
      "text/plain": [
       "0"
      ]
     },
     "execution_count": 93,
     "metadata": {},
     "output_type": "execute_result"
    }
   ],
   "source": [
    "class Net:\n",
    "    def get_value(self,data):\n",
    "        return 0.\n",
    "    \n",
    "    def get_prior_prop(self,data,action):\n",
    "        return 0.\n",
    "\n",
    "    pass\n",
    "\n",
    "class MCTS:\n",
    "    def __init__(self,data):\n",
    "        self.net = Net()\n",
    "        # 节点信息\n",
    "        self.data = data # 实体的数据表示\n",
    "        self.shape = data.shape\n",
    "        self.num_layer = 0 # 层数\n",
    "        self.status = 0 # 0 表示叶子节点，1 表示未完全展开节点， 2表示完全展开节点\n",
    "        self.label = self.is_done() # 是否为最终节点（可以判断胜负的节点）\n",
    "        self.value = self.net.get_value(self.data) # （p, v） = f_theta(data) 公式中的v，当前玩家的胜率\n",
    "        \n",
    "        # 边信息\n",
    "        self.action = None\n",
    "        self.prior_prop = self.net.get_prior_prop(self.data,self.action)\n",
    "        self.num_visited = 0\n",
    "        self.cum_value = 0\n",
    "        self.average_value = 0\n",
    "        \n",
    "        # 树信息\n",
    "        self.parent = None\n",
    "        self.children = []\n",
    "     \n",
    "    def is_done(self):\n",
    "        return False\n",
    "    \n",
    "    def select(self):\n",
    "        pass\n",
    "    \n",
    "    def expand(self):\n",
    "        ex_node_data = []\n",
    "        for i in range(self.shape[0]):\n",
    "            for j in range(self.shape[1]):\n",
    "                node_data = self.data.copy()\n",
    "                node_data[i,j] += 1\n",
    "                ex_node_data.append(node_data)\n",
    "                \n",
    "        \n",
    "        \n",
    "    \n",
    "    def evaluate(self):\n",
    "        pass\n",
    "    \n",
    "    def backup(self):\n",
    "        pass\n",
    "    \n",
    "    def play(self):\n",
    "        pass\n",
    "        \n",
    "tree = MCTS()\n",
    "tree.cum_value"
   ]
  },
  {
   "cell_type": "code",
   "execution_count": 4,
   "metadata": {
    "collapsed": true
   },
   "outputs": [],
   "source": [
    "a = np. zeros((2,2))"
   ]
  },
  {
   "cell_type": "code",
   "execution_count": 5,
   "metadata": {
    "collapsed": true
   },
   "outputs": [],
   "source": [
    "b = a.copy()"
   ]
  },
  {
   "cell_type": "code",
   "execution_count": 6,
   "metadata": {
    "collapsed": true
   },
   "outputs": [],
   "source": [
    "b[1,1] = 2"
   ]
  },
  {
   "cell_type": "code",
   "execution_count": 7,
   "metadata": {
    "collapsed": false
   },
   "outputs": [
    {
     "data": {
      "text/plain": [
       "array([[0., 0.],\n",
       "       [0., 0.]])"
      ]
     },
     "execution_count": 7,
     "metadata": {},
     "output_type": "execute_result"
    }
   ],
   "source": [
    "a"
   ]
  },
  {
   "cell_type": "code",
   "execution_count": 8,
   "metadata": {
    "collapsed": false
   },
   "outputs": [
    {
     "data": {
      "text/plain": [
       "array([[0., 0.],\n",
       "       [0., 2.]])"
      ]
     },
     "execution_count": 8,
     "metadata": {},
     "output_type": "execute_result"
    }
   ],
   "source": [
    "b"
   ]
  },
  {
   "cell_type": "code",
   "execution_count": null,
   "metadata": {
    "collapsed": true
   },
   "outputs": [],
   "source": []
  },
  {
   "cell_type": "code",
   "execution_count": null,
   "metadata": {
    "collapsed": true
   },
   "outputs": [],
   "source": []
  },
  {
   "cell_type": "code",
   "execution_count": null,
   "metadata": {
    "collapsed": true
   },
   "outputs": [],
   "source": [
    "tree."
   ]
  }
 ],
 "metadata": {
  "anaconda-cloud": {},
  "kernelspec": {
   "display_name": "Python [default]",
   "language": "python",
   "name": "python3"
  },
  "language_info": {
   "codemirror_mode": {
    "name": "ipython",
    "version": 3
   },
   "file_extension": ".py",
   "mimetype": "text/x-python",
   "name": "python",
   "nbconvert_exporter": "python",
   "pygments_lexer": "ipython3",
   "version": "3.5.2"
  }
 },
 "nbformat": 4,
 "nbformat_minor": 1
}
