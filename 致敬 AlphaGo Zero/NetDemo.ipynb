{
 "cells": [
  {
   "cell_type": "markdown",
   "metadata": {},
   "source": [
    "Net完成以下功能\n",
    "    >  p, v = f_theta(state), p and v 为操作\n",
    "    >  var_value = g_theta(var_op, feed_state) 得到 var_op 的值\n",
    "    >  \n",
    "    >  update()  更新Net中的theta参数 \n",
    "        >  loss, optimizer = train(*params) \n",
    "    >  save() 保存模型参数\n",
    "    >  restore() 恢复模型参数"
   ]
  },
  {
   "cell_type": "code",
   "execution_count": 2,
   "metadata": {
    "collapsed": true
   },
   "outputs": [],
   "source": [
    "import datetime\n",
    "\n",
    "import numpy as np\n",
    "import tensorflow as tf"
   ]
  },
  {
   "cell_type": "code",
   "execution_count": 3,
   "metadata": {
    "collapsed": false
   },
   "outputs": [],
   "source": [
    "class Net:\n",
    "    def __init__(self, size = 3, model_path=\"./Model_save/model_net_demo.ckpt\"):\n",
    "        self.s = tf.placeholder(dtype=tf.float32,shape=(size,size))\n",
    "        self.shape= self.s.shape\n",
    "        self.n_actions = size*size ## +1?\n",
    "        self.model_path = model_path\n",
    "        self.p, self.v = self.inference(self.s)\n",
    "        self.train_vars = tf.trainable_variables()\n",
    "        self.saver = tf.train.Saver(self.train_vars)\n",
    "        self.sess = tf.Session()\n",
    "        self.sess.run(tf.global_variables_initializer())\n",
    "   \n",
    "    def save(self):\n",
    "        self.saver.save(self.sess,save_path=self.model_path)\n",
    "        print(str(datetime.datetime.now())+\\\n",
    "              \": latest model and params saved to path:\",self.model_path)\n",
    "        \n",
    "    def restore(self):\n",
    "        self.saver.restore(self.sess,save_path=self.model_path)\n",
    "        print(str(datetime.datetime.now())+\\\n",
    "              \": last model and params restored from path\",self.model_path)\n",
    "        \n",
    "    def inference(self,inputs,filters=4,fc_units_v=32,num_res_module=4):\n",
    "        fc_units_p = self.n_actions\n",
    "        \n",
    "        inputs = self.input_module(inputs,filters) # 输入模块\n",
    "        \n",
    "        mid_values = inputs\n",
    "        for i_module in range(num_res_module):\n",
    "            mid_values = self.residual_module(mid_values,filters)\n",
    "            \n",
    "        outputs_p, outputs_v = self.output_module(mid_values,fc_units_v,fc_units_p)\n",
    "        \n",
    "        \n",
    "        return outputs_p, outputs_v\n",
    "\n",
    "    def update(self,v_op_list,p_op_list,z_value,pi_value_list,c=0.01,num_iters=20):\n",
    "        loss = tf.Variable(0.,trainable=False,dtype=tf.float32)\n",
    "        for v in v_op_list:\n",
    "            loss = tf.add(loss,tf.square(v-z_value)) \n",
    "\n",
    "        for p,pi in zip(p_op_list,pi_value_list):\n",
    "            loss = tf.add(loss,-tf.matmul(tf.log(p),tf.transpose(pi))) \n",
    "\n",
    "        var = tf.trainable_variables()\n",
    "        regularizer = tf.contrib.layers.l2_regularizer(scale=c)\n",
    "        l2_var = tf.contrib.layers.apply_regularization(regularizer,var)\n",
    "        \n",
    "        loss = tf.add(loss, l2_var)\n",
    "        \n",
    "        self.loss = loss\n",
    "        self.optimizer = tf.train.AdamOptimizer().minimize(self.loss)\n",
    "        \n",
    "        self.sess.run(tf.global_variables_initializer())\n",
    "        try:\n",
    "            self.restore()\n",
    "        except Exception as e:\n",
    "            print(e.message)\n",
    "            \n",
    "        finally:\n",
    "            for it in range(num_iters):\n",
    "                self.sess.run(self.optimizer)\n",
    "                \n",
    "            self.save()\n",
    "        \n",
    "        \n",
    "    def get_var_value(self,var,feed_dict):\n",
    "        return self.sess.run(var,feed_dict)\n",
    "    \n",
    "    def input_module(self,inputs,filters=256):\n",
    "        outputs = tf.reshape(inputs,[1,self.shape[0],self.shape[1],-1]) # 后续改进\n",
    "        outputs = tf.layers.conv2d(outputs,filters=filters,kernel_size=3,padding='same')\n",
    "        outputs = tf.layers.batch_normalization(outputs)\n",
    "        outputs = tf.nn.relu(outputs)\n",
    "        return outputs\n",
    "    \n",
    "    def residual_module(self,inputs,filters=256):\n",
    "        outputs = tf.layers.conv2d(inputs,filters=filters,kernel_size=3,padding='same')\n",
    "        outputs = tf.layers.batch_normalization(outputs)\n",
    "        outputs = tf.nn.relu(outputs)\n",
    "\n",
    "        outputs = tf.layers.conv2d(outputs,filters=filters,kernel_size=3,padding='same')\n",
    "        outputs = tf.layers.batch_normalization(outputs)\n",
    "\n",
    "        outputs += inputs\n",
    "        outputs = tf.nn.relu(outputs)  \n",
    "        return outputs\n",
    "    \n",
    "    def output_module(self,inputs,fc_units_v=256,fc_units_p=19*19+1):\n",
    "        outputs_v = tf.layers.conv2d(inputs,filters=1,kernel_size=1,padding='same')\n",
    "        outputs_v = tf.layers.batch_normalization(outputs_v)\n",
    "        outputs_v = tf.nn.relu(outputs_v)\n",
    "\n",
    "        outputs_v = tf.layers.flatten(outputs_v)\n",
    "\n",
    "        outputs_v = tf.layers.dense(outputs_v,fc_units_v,activation=tf.nn.relu)\n",
    "\n",
    "        outputs_v = tf.layers.dense(outputs_v,1,activation=tf.nn.tanh)\n",
    "        \n",
    "        outputs_p = tf.layers.conv2d(inputs,filters=2,kernel_size=1,padding='same')\n",
    "        outputs_p = tf.layers.batch_normalization(outputs_p)\n",
    "        outputs_p = tf.nn.relu(outputs_p)\n",
    "        \n",
    "        outputs_p = tf.layers.flatten(outputs_p)\n",
    "        \n",
    "        outputs_p = tf.layers.dense(outputs_p,fc_units_p,activation=tf.nn.softmax)\n",
    "        return outputs_p, outputs_v\n",
    "    \n",
    "    "
   ]
  },
  {
   "cell_type": "code",
   "execution_count": 8,
   "metadata": {
    "collapsed": true
   },
   "outputs": [],
   "source": [
    "net = Net()"
   ]
  },
  {
   "cell_type": "code",
   "execution_count": 9,
   "metadata": {
    "collapsed": false
   },
   "outputs": [
    {
     "data": {
      "text/plain": [
       "array([[0.13194595, 0.12891872, 0.08943845, 0.1054638 , 0.10735194,\n",
       "        0.08488117, 0.12324006, 0.0879622 , 0.14079775]], dtype=float32)"
      ]
     },
     "execution_count": 9,
     "metadata": {},
     "output_type": "execute_result"
    }
   ],
   "source": [
    "net.get_var_value(net.p,{net.s:2*np.ones((3,3),dtype=np.float32)})"
   ]
  },
  {
   "cell_type": "code",
   "execution_count": null,
   "metadata": {
    "collapsed": false
   },
   "outputs": [],
   "source": [
    "p1,v1 = net.inference(np.zeros((3,3),dtype=np.float32))\n",
    "v1_value = net.get_var_value(net.v,{net.s:np.zeros((3,3),dtype=np.float32)})\n",
    "p1_value = net.get_var_value(net.p,{net.s:np.zeros((3,3),dtype=np.float32)})\n",
    "\n",
    "p2,v2 = net.inference(np.ones((3,3),dtype=np.float32))\n",
    "v2_value = net.get_var_value(net.v,{net.s:np.ones((3,3),dtype=np.float32)})\n",
    "p2_value = net.get_var_value(net.p,{net.s:np.ones((3,3),dtype=np.float32)})\n",
    "\n",
    "p3,v3 = net.inference(2*np.ones((3,3),dtype=np.float32))\n",
    "v3_value = net.get_var_value(net.v,{net.s:2*np.ones((3,3),dtype=np.float32)})\n",
    "p3_value = net.get_var_value(net.p,{net.s:2*np.ones((3,3),dtype=np.float32)})\n",
    "\n",
    "z_value = -1.\n",
    "\n",
    "v_op_list = [v1,v2,v3]\n",
    "p_op_list = [p1,p2,p3]\n",
    "\n",
    "pi_value_list = [p1_value,p2_value,p3_value]"
   ]
  },
  {
   "cell_type": "code",
   "execution_count": null,
   "metadata": {
    "collapsed": false
   },
   "outputs": [],
   "source": [
    "p2"
   ]
  },
  {
   "cell_type": "code",
   "execution_count": null,
   "metadata": {
    "collapsed": false
   },
   "outputs": [],
   "source": [
    "net.update(v_op_list,p_op_list,z_value,pi_value_list)"
   ]
  },
  {
   "cell_type": "code",
   "execution_count": null,
   "metadata": {
    "collapsed": false
   },
   "outputs": [],
   "source": [
    "net.get_var_value(net.loss,None)"
   ]
  },
  {
   "cell_type": "code",
   "execution_count": null,
   "metadata": {
    "collapsed": true
   },
   "outputs": [],
   "source": []
  },
  {
   "cell_type": "code",
   "execution_count": null,
   "metadata": {
    "collapsed": true
   },
   "outputs": [],
   "source": []
  },
  {
   "cell_type": "code",
   "execution_count": null,
   "metadata": {
    "collapsed": true
   },
   "outputs": [],
   "source": []
  },
  {
   "cell_type": "code",
   "execution_count": null,
   "metadata": {
    "collapsed": true
   },
   "outputs": [],
   "source": []
  },
  {
   "cell_type": "code",
   "execution_count": null,
   "metadata": {
    "collapsed": true
   },
   "outputs": [],
   "source": []
  },
  {
   "cell_type": "code",
   "execution_count": null,
   "metadata": {
    "collapsed": true
   },
   "outputs": [],
   "source": []
  },
  {
   "cell_type": "code",
   "execution_count": null,
   "metadata": {
    "collapsed": true
   },
   "outputs": [],
   "source": []
  },
  {
   "cell_type": "code",
   "execution_count": null,
   "metadata": {
    "collapsed": true
   },
   "outputs": [],
   "source": []
  },
  {
   "cell_type": "code",
   "execution_count": null,
   "metadata": {
    "collapsed": true
   },
   "outputs": [],
   "source": []
  },
  {
   "cell_type": "code",
   "execution_count": null,
   "metadata": {
    "collapsed": true
   },
   "outputs": [],
   "source": []
  },
  {
   "cell_type": "code",
   "execution_count": null,
   "metadata": {
    "collapsed": true
   },
   "outputs": [],
   "source": []
  },
  {
   "cell_type": "code",
   "execution_count": null,
   "metadata": {
    "collapsed": true
   },
   "outputs": [],
   "source": []
  }
 ],
 "metadata": {
  "anaconda-cloud": {},
  "kernelspec": {
   "display_name": "Python [default]",
   "language": "python",
   "name": "python3"
  },
  "language_info": {
   "codemirror_mode": {
    "name": "ipython",
    "version": 3
   },
   "file_extension": ".py",
   "mimetype": "text/x-python",
   "name": "python",
   "nbconvert_exporter": "python",
   "pygments_lexer": "ipython3",
   "version": "3.5.2"
  }
 },
 "nbformat": 4,
 "nbformat_minor": 1
}
