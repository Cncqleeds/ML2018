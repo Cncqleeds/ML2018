{
 "cells": [
  {
   "cell_type": "code",
   "execution_count": 77,
   "metadata": {
    "collapsed": false
   },
   "outputs": [],
   "source": [
    "import numpy as np\n",
    "import copy\n",
    "import sys\n",
    "\n",
    "class State:\n",
    "    def __init__(self,size=19, history=8,cur_player=1,dtype=np.int8):\n",
    "        self.size = size\n",
    "        self.history = history # 本方最近history步内的棋面和对方最近history步内的棋面,即history个回合\n",
    "        self.cur_player = cur_player  # 当前棋手，0为执黑棋手，1 为执白棋手\n",
    "        self.dtype = dtype\n",
    "        # 其他状态的原始表示方法。-1表示黑子,0表示没子，1表示白子。\n",
    "        self.raw_board = np.zeros((size,size),dtype)\n",
    "        # 0 -- history*2+2 个channal。第history*2个channal表示执黑行棋，第history*2+1个channal表示执白行棋\n",
    "        self.state = np.zeros((size,size,history*2+2),dtype)\n",
    "        # 0 -- 2*history 个原始状态\n",
    "        self.history_board = np.zeros((2*history,size,size),dtype)\n",
    "        \n",
    "    \n",
    "    def move(self,action):\n",
    "        \"\"\"\n",
    "        在raw_borad下，计算cur_player 执行action后的新状态next_raw_board\n",
    "        事实上，这步比较核心，效率是很关键\n",
    "        \"\"\"\n",
    "        next_raw_board = self.raw_board.copy() # 由于参数是引用，所以需要拷贝一份\n",
    "        next_raw_board[action] = 1 if self.cur_player == 1 else -1\n",
    "        return next_raw_board\n",
    "    \n",
    "    def next_player(self):\n",
    "        \"\"\"\n",
    "        切换棋手\n",
    "        \"\"\"\n",
    "        return 0 if self.cur_player == 1 else 1\n",
    "    \n",
    "    def gen_2d_state(self,raw_board):\n",
    "        \"\"\"\n",
    "        \"\"\"\n",
    "        state_2d = np.zeros((self.size,self.size,2),self.dtype)\n",
    "        black_state = np.zeros((self.size,self.size),self.dtype)\n",
    "        white_state = np.zeros((self.size,self.size),self.dtype)\n",
    "        black_state[raw_board == -1] = 1\n",
    "        white_state[raw_board == 1] = 1\n",
    "\n",
    "        state_2d[:,:,0] = black_state\n",
    "        state_2d[:,:,1] = white_state\n",
    "\n",
    "        return state_2d\n",
    "    \n",
    "#     def gen_state_from_history(self):\n",
    "#         state = np.zeros((self.size,self.size,self.history*2+2),self.dtype)\n",
    "#         state[:,:,self.history*2 + self.cur_player] = 1\n",
    "\n",
    "#         for i in range(self.history):\n",
    "#             state_2d = self.gen_2d_state(self.history_board[i,:,:])\n",
    "#             state[:,:,i*2:i*2+2] = state_2d\n",
    "\n",
    "#         return state  \n",
    "    \n",
    "    def update_history_board(self):\n",
    "        self.history_board = np.roll(self.history_board,shift=1,axis=0)\n",
    "        self.history_board[0,:,:] = self.raw_board\n",
    "        \n",
    "#         return self.history_board\n",
    "    \n",
    "    def upadate_state(self):\n",
    "        state_minus_2 = self.state[:,:,:-2].copy()\n",
    "        state_minus_2 = np.roll(state_minus_2,shift=1,axis=2)\n",
    "        state_minus_2[:,:,0] = self.gen_2d_state(self.raw_board)[:,:,self.cur_player]\n",
    "\n",
    "        self.state[:,:,self.history*2 + self.cur_player] = 1\n",
    "        self.state[:,:,self.history*2 + 1 - self.cur_player] = 0\n",
    "        self.state[:,:,:-2] = state_minus_2\n",
    "        \n",
    "#         return self.state\n",
    "    \n",
    "    def is_legal_action(self,action):\n",
    "        if action[0] in range(self.size) and action[1] in range(self.size):\n",
    "            return True\n",
    "        elif action == (-1,-1):\n",
    "            return True\n",
    "        else:\n",
    "            return False\n",
    "        \n",
    "    def update_after_action(self,action):\n",
    "        if self.is_legal_action(action):\n",
    "            self.cur_player = self.next_player()\n",
    "            if action != (-1,-1):\n",
    "                self.raw_board = self.move(action)\n",
    "                self.update_history_board()\n",
    "                self.upadate_state()\n",
    "                \n",
    "    def num2action(self,num):\n",
    "        if 0<=num<=self.size*self.size-1:\n",
    "            i = num // self.size\n",
    "            j = num % self.size\n",
    "            return (i,j)\n",
    "        elif num == self.size * self.size:\n",
    "            return (-1,-1)\n",
    "        else:\n",
    "            return (-2,-2)\n",
    "        \n",
    "    def action2num(self,action):\n",
    "        if self.is_legal_action(action):\n",
    "            return action[0]*self.size + action[1]\n",
    "        else:\n",
    "            return -1\n",
    "    \n",
    "    def rot45(self):\n",
    "        \"\"\"\n",
    "        对棋面旋转n×45◦，n∈{0，1，···，7}\n",
    "        \"\"\"\n",
    "        raw_board_list = []\n",
    "        state_list = []\n",
    "        history_board_list = []\n",
    "        \n",
    "        raw_board_list.append(self.raw_board)\n",
    "        raw_board_list.append(np.rot90(self.raw_board,1))\n",
    "        raw_board_list.append(np.rot90(self.raw_board,2))\n",
    "        raw_board_list.append(np.rot90(self.raw_board,3))\n",
    "        \n",
    "        temp = np.transpose(self.raw_board)\n",
    "        raw_board_list.append(temp)\n",
    "        raw_board_list.append(np.rot90(temp,1))\n",
    "        raw_board_list.append(np.rot90(temp,2))\n",
    "        raw_board_list.append(np.rot90(temp,3))\n",
    "        \n",
    "        state_list.append(self.state)\n",
    "        state_list.append(np.rot90(self.state,1,axes=(0,1)))\n",
    "        state_list.append(np.rot90(self.state,2,axes=(0,1)))\n",
    "        state_list.append(np.rot90(self.state,3,axes=(0,1)))\n",
    "        \n",
    "        temp = np.transpose(self.state,axes=(1,0,2))\n",
    "        state_list.append(temp)\n",
    "        state_list.append(np.rot90(temp,1,axes=(0,1)))\n",
    "        state_list.append(np.rot90(temp,2,axes=(0,1)))\n",
    "        state_list.append(np.rot90(temp,3,axes=(0,1)))\n",
    "        \n",
    "        history_board_list.append(self.history_board)\n",
    "        history_board_list.append(np.rot90(self.history_board,1,axes=(1,2)))\n",
    "        history_board_list.append(np.rot90(self.history_board,2,axes=(1,2)))\n",
    "        history_board_list.append(np.rot90(self.history_board,3,axes=(1,2)))\n",
    "        \n",
    "        temp = np.transpose(self.history_board,axes=(0,2,1))\n",
    "        history_board_list.append(temp)\n",
    "        history_board_list.append(np.rot90(temp,1,axes=(1,2)))\n",
    "        history_board_list.append(np.rot90(temp,2,axes=(1,2)))\n",
    "        history_board_list.append(np.rot90(temp,3,axes=(1,2)))\n",
    "        \n",
    "        return raw_board_list, state_list, history_board_list     "
   ]
  },
  {
   "cell_type": "code",
   "execution_count": 78,
   "metadata": {
    "collapsed": true
   },
   "outputs": [],
   "source": [
    "board = State(size=9,history=4)"
   ]
  },
  {
   "cell_type": "code",
   "execution_count": 79,
   "metadata": {
    "collapsed": true
   },
   "outputs": [],
   "source": [
    "action = (1,1)"
   ]
  },
  {
   "cell_type": "code",
   "execution_count": 80,
   "metadata": {
    "collapsed": false
   },
   "outputs": [
    {
     "data": {
      "text/plain": [
       "1"
      ]
     },
     "execution_count": 80,
     "metadata": {},
     "output_type": "execute_result"
    }
   ],
   "source": [
    "board.cur_player"
   ]
  },
  {
   "cell_type": "code",
   "execution_count": 81,
   "metadata": {
    "collapsed": false
   },
   "outputs": [
    {
     "data": {
      "text/plain": [
       "56"
      ]
     },
     "execution_count": 81,
     "metadata": {},
     "output_type": "execute_result"
    }
   ],
   "source": [
    "sys.getsizeof(board)"
   ]
  },
  {
   "cell_type": "code",
   "execution_count": null,
   "metadata": {
    "collapsed": true
   },
   "outputs": [],
   "source": []
  },
  {
   "cell_type": "code",
   "execution_count": 82,
   "metadata": {
    "collapsed": true
   },
   "outputs": [],
   "source": [
    "board.update_after_action(action)"
   ]
  },
  {
   "cell_type": "code",
   "execution_count": 83,
   "metadata": {
    "collapsed": false
   },
   "outputs": [
    {
     "data": {
      "text/plain": [
       "56"
      ]
     },
     "execution_count": 83,
     "metadata": {},
     "output_type": "execute_result"
    }
   ],
   "source": [
    "sys.getsizeof(board)"
   ]
  },
  {
   "cell_type": "code",
   "execution_count": 84,
   "metadata": {
    "collapsed": false
   },
   "outputs": [
    {
     "data": {
      "text/plain": [
       "938"
      ]
     },
     "execution_count": 84,
     "metadata": {},
     "output_type": "execute_result"
    }
   ],
   "source": [
    "sys.getsizeof(board.state)"
   ]
  },
  {
   "cell_type": "code",
   "execution_count": 85,
   "metadata": {
    "collapsed": false
   },
   "outputs": [
    {
     "data": {
      "text/plain": [
       "24"
      ]
     },
     "execution_count": 85,
     "metadata": {},
     "output_type": "execute_result"
    }
   ],
   "source": [
    "sys.getsizeof(board.cur_player)"
   ]
  },
  {
   "cell_type": "code",
   "execution_count": 86,
   "metadata": {
    "collapsed": false
   },
   "outputs": [
    {
     "data": {
      "text/plain": [
       "776"
      ]
     },
     "execution_count": 86,
     "metadata": {},
     "output_type": "execute_result"
    }
   ],
   "source": [
    "sys.getsizeof(board.history_board)"
   ]
  },
  {
   "cell_type": "code",
   "execution_count": 76,
   "metadata": {
    "collapsed": false
   },
   "outputs": [
    {
     "data": {
      "text/plain": [
       "0"
      ]
     },
     "execution_count": 76,
     "metadata": {},
     "output_type": "execute_result"
    }
   ],
   "source": [
    "board.cur_player"
   ]
  },
  {
   "cell_type": "code",
   "execution_count": 61,
   "metadata": {
    "collapsed": true
   },
   "outputs": [],
   "source": [
    "actions = [(5,5),(3,2),(4,2),(0,1),(3,0),(6,1),(2,1),(7,0),(2,5)]"
   ]
  },
  {
   "cell_type": "code",
   "execution_count": 87,
   "metadata": {
    "collapsed": false
   },
   "outputs": [],
   "source": [
    "for action in actions:\n",
    "    board.update_after_action(action)\n",
    "    \n",
    "raws, states, history_boards = board.rot45()"
   ]
  },
  {
   "cell_type": "code",
   "execution_count": 90,
   "metadata": {
    "collapsed": false
   },
   "outputs": [
    {
     "data": {
      "text/plain": [
       "938"
      ]
     },
     "execution_count": 90,
     "metadata": {},
     "output_type": "execute_result"
    }
   ],
   "source": [
    "sys.getsizeof(states[0])"
   ]
  },
  {
   "cell_type": "code",
   "execution_count": 63,
   "metadata": {
    "collapsed": false
   },
   "outputs": [
    {
     "data": {
      "text/plain": [
       "array([[0, 0, 0, 0, 0, 0, 0, 0, 0],\n",
       "       [0, 0, 0, 0, 0, 0, 0, 0, 0],\n",
       "       [0, 1, 0, 0, 0, 1, 0, 0, 0],\n",
       "       [1, 0, 0, 0, 0, 0, 0, 0, 0],\n",
       "       [0, 0, 1, 0, 0, 0, 0, 0, 0],\n",
       "       [0, 0, 0, 0, 0, 1, 0, 0, 0],\n",
       "       [0, 0, 0, 0, 0, 0, 0, 0, 0],\n",
       "       [0, 0, 0, 0, 0, 0, 0, 0, 0],\n",
       "       [0, 0, 0, 0, 0, 0, 0, 0, 0]], dtype=int8)"
      ]
     },
     "execution_count": 63,
     "metadata": {},
     "output_type": "execute_result"
    }
   ],
   "source": [
    "board.state[:,:,0]"
   ]
  },
  {
   "cell_type": "code",
   "execution_count": 64,
   "metadata": {
    "collapsed": false
   },
   "outputs": [
    {
     "data": {
      "text/plain": [
       "array([[0, 1, 0, 0, 0, 0, 0, 0, 0],\n",
       "       [0, 0, 0, 0, 0, 0, 0, 0, 0],\n",
       "       [0, 0, 0, 0, 0, 0, 0, 0, 0],\n",
       "       [0, 0, 1, 0, 0, 0, 0, 0, 0],\n",
       "       [0, 0, 0, 0, 0, 0, 0, 0, 0],\n",
       "       [0, 0, 0, 0, 0, 0, 0, 0, 0],\n",
       "       [0, 1, 0, 0, 0, 0, 0, 0, 0],\n",
       "       [1, 0, 0, 0, 0, 0, 0, 0, 0],\n",
       "       [0, 0, 0, 0, 0, 0, 0, 0, 0]], dtype=int8)"
      ]
     },
     "execution_count": 64,
     "metadata": {},
     "output_type": "execute_result"
    }
   ],
   "source": [
    "board.state[:,:,1]"
   ]
  },
  {
   "cell_type": "code",
   "execution_count": 53,
   "metadata": {
    "collapsed": false
   },
   "outputs": [
    {
     "data": {
      "text/plain": [
       "array([[0, 0, 0, 0, 0, 0, 0, 0, 0],\n",
       "       [0, 0, 0, 0, 0, 0, 0, 0, 0],\n",
       "       [0, 1, 0, 0, 0, 0, 0, 0, 0],\n",
       "       [1, 0, 0, 0, 0, 0, 0, 0, 0],\n",
       "       [0, 0, 1, 0, 0, 0, 0, 0, 0],\n",
       "       [0, 0, 0, 0, 0, 1, 0, 0, 0],\n",
       "       [0, 0, 0, 0, 0, 0, 0, 0, 0],\n",
       "       [0, 0, 0, 0, 0, 0, 0, 0, 0],\n",
       "       [0, 0, 0, 0, 0, 0, 0, 0, 0]], dtype=int8)"
      ]
     },
     "execution_count": 53,
     "metadata": {},
     "output_type": "execute_result"
    }
   ],
   "source": [
    "board.state[:,:,2]"
   ]
  },
  {
   "cell_type": "code",
   "execution_count": 65,
   "metadata": {
    "collapsed": false
   },
   "outputs": [
    {
     "data": {
      "text/plain": [
       "array([[0, 1, 0, 0, 0, 0, 0, 0, 0],\n",
       "       [0, 0, 0, 0, 0, 0, 0, 0, 0],\n",
       "       [0, 0, 0, 0, 0, 0, 0, 0, 0],\n",
       "       [0, 0, 1, 0, 0, 0, 0, 0, 0],\n",
       "       [0, 0, 0, 0, 0, 0, 0, 0, 0],\n",
       "       [0, 0, 0, 0, 0, 0, 0, 0, 0],\n",
       "       [0, 1, 0, 0, 0, 0, 0, 0, 0],\n",
       "       [0, 0, 0, 0, 0, 0, 0, 0, 0],\n",
       "       [0, 0, 0, 0, 0, 0, 0, 0, 0]], dtype=int8)"
      ]
     },
     "execution_count": 65,
     "metadata": {},
     "output_type": "execute_result"
    }
   ],
   "source": [
    "board.state[:,:,3]"
   ]
  },
  {
   "cell_type": "code",
   "execution_count": 71,
   "metadata": {
    "collapsed": false
   },
   "outputs": [
    {
     "data": {
      "text/plain": [
       "array([[0, 0, 0, 0, 0, 0, 0, 0, 0],\n",
       "       [0, 0, 0, 0, 0, 0, 0, 0, 0],\n",
       "       [0, 0, 0, 0, 0, 0, 0, 0, 0],\n",
       "       [0, 0, 0, 0, 0, 0, 0, 0, 0],\n",
       "       [0, 0, 0, 0, 0, 0, 0, 0, 0],\n",
       "       [0, 0, 0, 0, 0, 0, 0, 0, 0],\n",
       "       [0, 0, 0, 0, 0, 0, 0, 0, 0],\n",
       "       [0, 0, 0, 0, 0, 0, 0, 0, 0],\n",
       "       [0, 0, 0, 0, 0, 0, 0, 0, 0]], dtype=int8)"
      ]
     },
     "execution_count": 71,
     "metadata": {},
     "output_type": "execute_result"
    }
   ],
   "source": [
    "board.state[:,:,board.history*2+1]"
   ]
  },
  {
   "cell_type": "code",
   "execution_count": 54,
   "metadata": {
    "collapsed": false
   },
   "outputs": [
    {
     "data": {
      "text/plain": [
       "(8, 9, 9)"
      ]
     },
     "execution_count": 54,
     "metadata": {},
     "output_type": "execute_result"
    }
   ],
   "source": [
    "board.history_board.shape"
   ]
  },
  {
   "cell_type": "code",
   "execution_count": 55,
   "metadata": {
    "collapsed": false
   },
   "outputs": [
    {
     "data": {
      "text/plain": [
       "array([[0, 0, 0, 0, 0, 0, 0, 0, 0],\n",
       "       [0, 0, 0, 0, 0, 0, 0, 0, 0],\n",
       "       [0, 0, 0, 0, 0, 0, 0, 0, 0],\n",
       "       [1, 0, 0, 0, 0, 0, 0, 0, 0],\n",
       "       [0, 0, 1, 0, 0, 0, 0, 0, 0],\n",
       "       [0, 0, 0, 0, 0, 1, 0, 0, 0],\n",
       "       [0, 0, 0, 0, 0, 0, 0, 0, 0],\n",
       "       [0, 0, 0, 0, 0, 0, 0, 0, 0],\n",
       "       [0, 0, 0, 0, 0, 0, 0, 0, 0]], dtype=int8)"
      ]
     },
     "execution_count": 55,
     "metadata": {},
     "output_type": "execute_result"
    }
   ],
   "source": [
    "states[0][:,:,4]"
   ]
  },
  {
   "cell_type": "code",
   "execution_count": 56,
   "metadata": {
    "collapsed": false
   },
   "outputs": [
    {
     "data": {
      "text/plain": [
       "array([[0, 0, 0, 1, 0, 0, 0, 0, 0],\n",
       "       [0, 0, 0, 0, 0, 0, 0, 0, 0],\n",
       "       [0, 0, 0, 0, 1, 0, 0, 0, 0],\n",
       "       [0, 0, 0, 0, 0, 0, 0, 0, 0],\n",
       "       [0, 0, 0, 0, 0, 0, 0, 0, 0],\n",
       "       [0, 0, 0, 0, 0, 1, 0, 0, 0],\n",
       "       [0, 0, 0, 0, 0, 0, 0, 0, 0],\n",
       "       [0, 0, 0, 0, 0, 0, 0, 0, 0],\n",
       "       [0, 0, 0, 0, 0, 0, 0, 0, 0]], dtype=int8)"
      ]
     },
     "execution_count": 56,
     "metadata": {},
     "output_type": "execute_result"
    }
   ],
   "source": [
    "states[4][:,:,4]"
   ]
  },
  {
   "cell_type": "code",
   "execution_count": 58,
   "metadata": {
    "collapsed": false
   },
   "outputs": [
    {
     "data": {
      "text/plain": [
       "array([[1, 1, 1, 1, 1, 1, 1, 1, 1],\n",
       "       [1, 1, 1, 1, 1, 1, 1, 1, 1],\n",
       "       [1, 1, 1, 1, 1, 1, 1, 1, 1],\n",
       "       [1, 1, 1, 1, 1, 1, 1, 1, 1],\n",
       "       [1, 1, 1, 1, 1, 1, 1, 1, 1],\n",
       "       [1, 1, 1, 1, 1, 1, 1, 1, 1],\n",
       "       [1, 1, 1, 1, 1, 1, 1, 1, 1],\n",
       "       [1, 1, 1, 1, 1, 1, 1, 1, 1],\n",
       "       [1, 1, 1, 1, 1, 1, 1, 1, 1]], dtype=int8)"
      ]
     },
     "execution_count": 58,
     "metadata": {},
     "output_type": "execute_result"
    }
   ],
   "source": [
    "board.state[:,:,8]"
   ]
  },
  {
   "cell_type": "code",
   "execution_count": 59,
   "metadata": {
    "collapsed": false
   },
   "outputs": [
    {
     "data": {
      "text/plain": [
       "array([[ 0,  1,  0,  0,  0,  0,  0,  0,  0],\n",
       "       [ 0,  0,  0,  0,  0,  0,  0,  0,  0],\n",
       "       [ 0, -1,  0,  0,  0, -1,  0,  0,  0],\n",
       "       [-1,  0,  1,  0,  0,  0,  0,  0,  0],\n",
       "       [ 0,  0, -1,  0,  0,  0,  0,  0,  0],\n",
       "       [ 0,  0,  0,  0,  0, -1,  0,  0,  0],\n",
       "       [ 0,  1,  0,  0,  0,  0,  0,  0,  0],\n",
       "       [ 1,  0,  0,  0,  0,  0,  0,  0,  0],\n",
       "       [ 0,  0,  0,  0,  0,  0,  0,  0,  0]], dtype=int8)"
      ]
     },
     "execution_count": 59,
     "metadata": {},
     "output_type": "execute_result"
    }
   ],
   "source": [
    "board.raw_board"
   ]
  },
  {
   "cell_type": "code",
   "execution_count": 6,
   "metadata": {
    "collapsed": false
   },
   "outputs": [
    {
     "data": {
      "text/plain": [
       "0"
      ]
     },
     "execution_count": 6,
     "metadata": {},
     "output_type": "execute_result"
    }
   ],
   "source": [
    "board.cur_player"
   ]
  },
  {
   "cell_type": "code",
   "execution_count": 14,
   "metadata": {
    "collapsed": false
   },
   "outputs": [
    {
     "data": {
      "text/plain": [
       "array([[ 0, -1,  0,  0,  0,  0,  0,  0,  0],\n",
       "       [ 0,  0,  0,  0,  0,  0,  0,  0,  0],\n",
       "       [ 0,  1,  0,  0,  0,  1,  0,  0,  0],\n",
       "       [ 1,  0, -1,  0,  0,  0,  0,  0,  0],\n",
       "       [ 0,  0,  1,  0,  0,  0,  0,  0,  0],\n",
       "       [ 0,  0,  0,  0,  0,  1,  0,  0,  0],\n",
       "       [ 0, -1,  0,  0,  0,  0,  0,  0,  0],\n",
       "       [-1,  0,  0,  0,  0,  0,  0,  0,  0],\n",
       "       [ 0,  0,  0,  0,  0,  0,  0,  0,  0]], dtype=int8)"
      ]
     },
     "execution_count": 14,
     "metadata": {},
     "output_type": "execute_result"
    }
   ],
   "source": [
    "board.history_board[0,:,:]"
   ]
  },
  {
   "cell_type": "code",
   "execution_count": 15,
   "metadata": {
    "collapsed": false
   },
   "outputs": [
    {
     "data": {
      "text/plain": [
       "array([[ 0, -1,  0,  0,  0,  0,  0,  0,  0],\n",
       "       [ 0,  0,  0,  0,  0,  0,  0,  0,  0],\n",
       "       [ 0,  1,  0,  0,  0, -1,  0,  0,  0],\n",
       "       [ 1,  0, -1,  0,  0,  0,  0,  0,  0],\n",
       "       [ 0,  0,  1,  0,  0,  0,  0,  0,  0],\n",
       "       [ 0,  0,  0,  0,  0,  1,  0,  0,  0],\n",
       "       [ 0, -1,  0,  0,  0,  0,  0,  0,  0],\n",
       "       [-1,  0,  0,  0,  0,  0,  0,  0,  0],\n",
       "       [ 0,  0,  0,  0,  0,  0,  0,  0,  0]], dtype=int8)"
      ]
     },
     "execution_count": 15,
     "metadata": {},
     "output_type": "execute_result"
    }
   ],
   "source": [
    "board.history_board[1,:,:]"
   ]
  },
  {
   "cell_type": "code",
   "execution_count": 13,
   "metadata": {
    "collapsed": false
   },
   "outputs": [
    {
     "data": {
      "text/plain": [
       "array([[[ 0, -1,  0,  0,  0,  0,  0,  0,  0],\n",
       "        [ 0,  0,  0,  0,  0,  0,  0,  0,  0],\n",
       "        [ 0,  1,  0,  0,  0,  1,  0,  0,  0],\n",
       "        [ 1,  0, -1,  0,  0,  0,  0,  0,  0],\n",
       "        [ 0,  0,  1,  0,  0,  0,  0,  0,  0],\n",
       "        [ 0,  0,  0,  0,  0,  1,  0,  0,  0],\n",
       "        [ 0, -1,  0,  0,  0,  0,  0,  0,  0],\n",
       "        [-1,  0,  0,  0,  0,  0,  0,  0,  0],\n",
       "        [ 0,  0,  0,  0,  0,  0,  0,  0,  0]],\n",
       "\n",
       "       [[ 0, -1,  0,  0,  0,  0,  0,  0,  0],\n",
       "        [ 0,  0,  0,  0,  0,  0,  0,  0,  0],\n",
       "        [ 0,  1,  0,  0,  0, -1,  0,  0,  0],\n",
       "        [ 1,  0, -1,  0,  0,  0,  0,  0,  0],\n",
       "        [ 0,  0,  1,  0,  0,  0,  0,  0,  0],\n",
       "        [ 0,  0,  0,  0,  0,  1,  0,  0,  0],\n",
       "        [ 0, -1,  0,  0,  0,  0,  0,  0,  0],\n",
       "        [-1,  0,  0,  0,  0,  0,  0,  0,  0],\n",
       "        [ 0,  0,  0,  0,  0,  0,  0,  0,  0]],\n",
       "\n",
       "       [[ 0, -1,  0,  0,  0,  0,  0,  0,  0],\n",
       "        [ 0,  0,  0,  0,  0,  0,  0,  0,  0],\n",
       "        [ 0,  1,  0,  0,  0, -1,  0,  0,  0],\n",
       "        [ 1,  0, -1,  0,  0,  0,  0,  0,  0],\n",
       "        [ 0,  0,  1,  0,  0,  0,  0,  0,  0],\n",
       "        [ 0,  0,  0,  0,  0,  1,  0,  0,  0],\n",
       "        [ 0, -1,  0,  0,  0,  0,  0,  0,  0],\n",
       "        [ 1,  0,  0,  0,  0,  0,  0,  0,  0],\n",
       "        [ 0,  0,  0,  0,  0,  0,  0,  0,  0]],\n",
       "\n",
       "       [[ 0, -1,  0,  0,  0,  0,  0,  0,  0],\n",
       "        [ 0,  0,  0,  0,  0,  0,  0,  0,  0],\n",
       "        [ 0, -1,  0,  0,  0, -1,  0,  0,  0],\n",
       "        [ 1,  0, -1,  0,  0,  0,  0,  0,  0],\n",
       "        [ 0,  0,  1,  0,  0,  0,  0,  0,  0],\n",
       "        [ 0,  0,  0,  0,  0,  1,  0,  0,  0],\n",
       "        [ 0, -1,  0,  0,  0,  0,  0,  0,  0],\n",
       "        [ 1,  0,  0,  0,  0,  0,  0,  0,  0],\n",
       "        [ 0,  0,  0,  0,  0,  0,  0,  0,  0]]], dtype=int8)"
      ]
     },
     "execution_count": 13,
     "metadata": {},
     "output_type": "execute_result"
    }
   ],
   "source": [
    "board.history_board"
   ]
  },
  {
   "cell_type": "code",
   "execution_count": null,
   "metadata": {
    "collapsed": true
   },
   "outputs": [],
   "source": [
    "import numpy as np"
   ]
  },
  {
   "cell_type": "code",
   "execution_count": null,
   "metadata": {
    "collapsed": true
   },
   "outputs": [],
   "source": [
    "size = 9"
   ]
  },
  {
   "cell_type": "code",
   "execution_count": null,
   "metadata": {
    "collapsed": true
   },
   "outputs": [],
   "source": [
    "history = 8 # 最近history步行棋要作为输入"
   ]
  },
  {
   "cell_type": "code",
   "execution_count": null,
   "metadata": {
    "collapsed": true
   },
   "outputs": [],
   "source": [
    "cur_player = 1 # 当前棋手，0为执黑棋手，1 为执白棋手"
   ]
  },
  {
   "cell_type": "code",
   "execution_count": null,
   "metadata": {
    "collapsed": true
   },
   "outputs": [],
   "source": [
    "state = np.zeros((size,size,history*2+2)) # 0 -- history*2+2 个channal。第history*2个channal表示执黑行棋，第history*2+1个channal表示执白行棋\n",
    "state[:,:,history*2 + cur_player] = 1"
   ]
  },
  {
   "cell_type": "code",
   "execution_count": null,
   "metadata": {
    "collapsed": true
   },
   "outputs": [],
   "source": [
    "raw_board = np.zeros((size,size)) # 其他状态的原始表示方法。-1表示黑子,0表示没子，1表示白子。"
   ]
  },
  {
   "cell_type": "code",
   "execution_count": null,
   "metadata": {
    "collapsed": true
   },
   "outputs": [],
   "source": [
    "history_board = np.zeros((history,size,size)) # 0 -- history 个原始状态"
   ]
  },
  {
   "cell_type": "code",
   "execution_count": null,
   "metadata": {
    "collapsed": true
   },
   "outputs": [],
   "source": [
    "action = (5,5) # 当前棋手的落子"
   ]
  },
  {
   "cell_type": "code",
   "execution_count": null,
   "metadata": {
    "collapsed": false
   },
   "outputs": [],
   "source": [
    "def next_raw_state(raw_board,action,cur_player):\n",
    "    \"\"\"\n",
    "    在raw_borad下，计算cur_player 执行action后的新状态\n",
    "    \"\"\"\n",
    "    next_raw_state = raw_board.copy() # 由于参数是引用，所以需要拷贝一份\n",
    "    next_raw_state[action] = 1 if cur_player == 1 else -1\n",
    "    return next_raw_state"
   ]
  },
  {
   "cell_type": "code",
   "execution_count": null,
   "metadata": {
    "collapsed": true
   },
   "outputs": [],
   "source": [
    "def next_player(cur_player):\n",
    "    \"\"\"\n",
    "    切换棋手\n",
    "    \"\"\"\n",
    "    return 0 if cur_player == 1 else 1"
   ]
  },
  {
   "cell_type": "code",
   "execution_count": null,
   "metadata": {
    "collapsed": true
   },
   "outputs": [],
   "source": [
    "def gen_2d_state(raw_board):\n",
    "    \"\"\"\n",
    "    \"\"\"\n",
    "    state_2d = np.zeros((size,size,2))\n",
    "    black_state = np.zeros((size,size))\n",
    "    white_state = np.zeros((size,size))\n",
    "    black_state[raw_board == -1] = 1\n",
    "    white_state[raw_board == 1] = 1\n",
    "    \n",
    "    state_2d[:,:,0] = black_state\n",
    "    state_2d[:,:,1] = white_state\n",
    "    \n",
    "    return state_2d\n",
    "    "
   ]
  },
  {
   "cell_type": "code",
   "execution_count": null,
   "metadata": {
    "collapsed": true
   },
   "outputs": [],
   "source": [
    "def gen_state_from_history(history_board,cur_player):\n",
    "    state = np.zeros((size,size,history*2+2))\n",
    "    state[:,:,history*2 + cur_player] = 1\n",
    "    \n",
    "    for i in range(history):\n",
    "        state_2d = gen_2d_state(history_board[i,:,:])\n",
    "        state[:,:,i*2:i*2+2] = state_2d\n",
    "        \n",
    "    return state      "
   ]
  },
  {
   "cell_type": "code",
   "execution_count": null,
   "metadata": {
    "collapsed": true
   },
   "outputs": [],
   "source": [
    "def update_history_board(raw_board):\n",
    "    history_board = np.roll(history_board,shift=1,axis=0)\n",
    "    history_board[0,:,:] = raw_board\n",
    "    return history_board"
   ]
  },
  {
   "cell_type": "code",
   "execution_count": null,
   "metadata": {
    "collapsed": true
   },
   "outputs": [],
   "source": [
    "def upadate_state(raw_board,cur_player):\n",
    "    state_minus_2 = state[:,:,:-2]\n",
    "    state_minus_2 = np.roll(state_minus_2,shift=2,axis=2)\n",
    "    state_minus_2[:,:,:2] = gen_2d_state(raw_board)\n",
    "    \n",
    "    state[:,:,history*2 + cur_player] = 1\n",
    "    state[:,:,history*2 + 1 - cur_player] = 0\n",
    "    \n",
    "    return state\n",
    "    "
   ]
  },
  {
   "cell_type": "code",
   "execution_count": null,
   "metadata": {
    "collapsed": true
   },
   "outputs": [],
   "source": [
    "nxt_board = next_raw_state(raw_board.copy(), action,cur_player)"
   ]
  },
  {
   "cell_type": "code",
   "execution_count": null,
   "metadata": {
    "collapsed": false
   },
   "outputs": [],
   "source": [
    "nxt_board"
   ]
  },
  {
   "cell_type": "code",
   "execution_count": null,
   "metadata": {
    "collapsed": false
   },
   "outputs": [],
   "source": [
    "raw_board"
   ]
  }
 ],
 "metadata": {
  "anaconda-cloud": {},
  "kernelspec": {
   "display_name": "Python [default]",
   "language": "python",
   "name": "python3"
  },
  "language_info": {
   "codemirror_mode": {
    "name": "ipython",
    "version": 3
   },
   "file_extension": ".py",
   "mimetype": "text/x-python",
   "name": "python",
   "nbconvert_exporter": "python",
   "pygments_lexer": "ipython3",
   "version": "3.5.2"
  }
 },
 "nbformat": 4,
 "nbformat_minor": 1
}
