{
 "cells": [
  {
   "cell_type": "code",
   "execution_count": 1,
   "metadata": {
    "collapsed": true
   },
   "outputs": [],
   "source": [
    "import pandas as pd"
   ]
  },
  {
   "cell_type": "code",
   "execution_count": 3,
   "metadata": {
    "collapsed": false
   },
   "outputs": [],
   "source": [
    "from sklearn.datasets import load_boston"
   ]
  },
  {
   "cell_type": "code",
   "execution_count": 4,
   "metadata": {
    "collapsed": true
   },
   "outputs": [],
   "source": [
    "boston = load_boston()"
   ]
  },
  {
   "cell_type": "code",
   "execution_count": 6,
   "metadata": {
    "collapsed": false
   },
   "outputs": [
    {
     "name": "stdout",
     "output_type": "stream",
     "text": [
      "Boston House Prices dataset\n",
      "===========================\n",
      "\n",
      "Notes\n",
      "------\n",
      "Data Set Characteristics:  \n",
      "\n",
      "    :Number of Instances: 506 \n",
      "\n",
      "    :Number of Attributes: 13 numeric/categorical predictive\n",
      "    \n",
      "    :Median Value (attribute 14) is usually the target\n",
      "\n",
      "    :Attribute Information (in order):\n",
      "        - CRIM     per capita crime rate by town\n",
      "        - ZN       proportion of residential land zoned for lots over 25,000 sq.ft.\n",
      "        - INDUS    proportion of non-retail business acres per town\n",
      "        - CHAS     Charles River dummy variable (= 1 if tract bounds river; 0 otherwise)\n",
      "        - NOX      nitric oxides concentration (parts per 10 million)\n",
      "        - RM       average number of rooms per dwelling\n",
      "        - AGE      proportion of owner-occupied units built prior to 1940\n",
      "        - DIS      weighted distances to five Boston employment centres\n",
      "        - RAD      index of accessibility to radial highways\n",
      "        - TAX      full-value property-tax rate per $10,000\n",
      "        - PTRATIO  pupil-teacher ratio by town\n",
      "        - B        1000(Bk - 0.63)^2 where Bk is the proportion of blacks by town\n",
      "        - LSTAT    % lower status of the population\n",
      "        - MEDV     Median value of owner-occupied homes in $1000's\n",
      "\n",
      "    :Missing Attribute Values: None\n",
      "\n",
      "    :Creator: Harrison, D. and Rubinfeld, D.L.\n",
      "\n",
      "This is a copy of UCI ML housing dataset.\n",
      "http://archive.ics.uci.edu/ml/datasets/Housing\n",
      "\n",
      "\n",
      "This dataset was taken from the StatLib library which is maintained at Carnegie Mellon University.\n",
      "\n",
      "The Boston house-price data of Harrison, D. and Rubinfeld, D.L. 'Hedonic\n",
      "prices and the demand for clean air', J. Environ. Economics & Management,\n",
      "vol.5, 81-102, 1978.   Used in Belsley, Kuh & Welsch, 'Regression diagnostics\n",
      "...', Wiley, 1980.   N.B. Various transformations are used in the table on\n",
      "pages 244-261 of the latter.\n",
      "\n",
      "The Boston house-price data has been used in many machine learning papers that address regression\n",
      "problems.   \n",
      "     \n",
      "**References**\n",
      "\n",
      "   - Belsley, Kuh & Welsch, 'Regression diagnostics: Identifying Influential Data and Sources of Collinearity', Wiley, 1980. 244-261.\n",
      "   - Quinlan,R. (1993). Combining Instance-Based and Model-Based Learning. In Proceedings on the Tenth International Conference of Machine Learning, 236-243, University of Massachusetts, Amherst. Morgan Kaufmann.\n",
      "   - many more! (see http://archive.ics.uci.edu/ml/datasets/Housing)\n",
      "\n"
     ]
    }
   ],
   "source": [
    "print(boston.DESCR)"
   ]
  },
  {
   "cell_type": "code",
   "execution_count": 7,
   "metadata": {
    "collapsed": true
   },
   "outputs": [],
   "source": [
    "x = boston.data\n",
    "y = boston.target"
   ]
  },
  {
   "cell_type": "code",
   "execution_count": 15,
   "metadata": {
    "collapsed": false
   },
   "outputs": [
    {
     "data": {
      "text/plain": [
       "(506, 13)"
      ]
     },
     "execution_count": 15,
     "metadata": {},
     "output_type": "execute_result"
    }
   ],
   "source": [
    "x.shape"
   ]
  },
  {
   "cell_type": "code",
   "execution_count": 16,
   "metadata": {
    "collapsed": false
   },
   "outputs": [
    {
     "data": {
      "text/plain": [
       "(506,)"
      ]
     },
     "execution_count": 16,
     "metadata": {},
     "output_type": "execute_result"
    }
   ],
   "source": [
    "y.shape"
   ]
  },
  {
   "cell_type": "code",
   "execution_count": 9,
   "metadata": {
    "collapsed": true
   },
   "outputs": [],
   "source": [
    "from sklearn.cross_validation import train_test_split"
   ]
  },
  {
   "cell_type": "code",
   "execution_count": 28,
   "metadata": {
    "collapsed": true
   },
   "outputs": [],
   "source": [
    "x_train,x_test,y_train,y_test = train_test_split(x,y,test_size=.25,random_state=2018)"
   ]
  },
  {
   "cell_type": "markdown",
   "metadata": {},
   "source": [
    "#### 标准化"
   ]
  },
  {
   "cell_type": "code",
   "execution_count": 11,
   "metadata": {
    "collapsed": true
   },
   "outputs": [],
   "source": [
    "from sklearn.preprocessing import StandardScaler"
   ]
  },
  {
   "cell_type": "code",
   "execution_count": 29,
   "metadata": {
    "collapsed": true
   },
   "outputs": [],
   "source": [
    "ss_x = StandardScaler()"
   ]
  },
  {
   "cell_type": "code",
   "execution_count": 30,
   "metadata": {
    "collapsed": true
   },
   "outputs": [],
   "source": [
    "x_train = ss_x.fit_transform(x_train)\n",
    "x_test = ss_x.transform(x_test)"
   ]
  },
  {
   "cell_type": "markdown",
   "metadata": {},
   "source": [
    " ### 模型 1 LinearRegression"
   ]
  },
  {
   "cell_type": "code",
   "execution_count": 33,
   "metadata": {
    "collapsed": true
   },
   "outputs": [],
   "source": [
    "from sklearn.linear_model import LinearRegression"
   ]
  },
  {
   "cell_type": "code",
   "execution_count": 34,
   "metadata": {
    "collapsed": true
   },
   "outputs": [],
   "source": [
    "lr = LinearRegression()"
   ]
  },
  {
   "cell_type": "code",
   "execution_count": 36,
   "metadata": {
    "collapsed": false
   },
   "outputs": [
    {
     "data": {
      "text/plain": [
       "LinearRegression(copy_X=True, fit_intercept=True, n_jobs=1, normalize=False)"
      ]
     },
     "execution_count": 36,
     "metadata": {},
     "output_type": "execute_result"
    }
   ],
   "source": [
    "lr.fit(x_train,y_train)"
   ]
  },
  {
   "cell_type": "code",
   "execution_count": 37,
   "metadata": {
    "collapsed": true
   },
   "outputs": [],
   "source": [
    "y_test_pred_lr = lr.predict(x_test)"
   ]
  },
  {
   "cell_type": "markdown",
   "metadata": {},
   "source": [
    "### 模型2 SGDRegressor"
   ]
  },
  {
   "cell_type": "code",
   "execution_count": 38,
   "metadata": {
    "collapsed": true
   },
   "outputs": [],
   "source": [
    "from sklearn.linear_model import SGDRegressor"
   ]
  },
  {
   "cell_type": "code",
   "execution_count": 39,
   "metadata": {
    "collapsed": false
   },
   "outputs": [
    {
     "name": "stderr",
     "output_type": "stream",
     "text": [
      "C:\\Program Files\\Anaconda3\\lib\\site-packages\\sklearn\\linear_model\\stochastic_gradient.py:84: FutureWarning: max_iter and tol parameters have been added in <class 'sklearn.linear_model.stochastic_gradient.SGDRegressor'> in 0.19. If both are left unset, they default to max_iter=5 and tol=None. If tol is not None, max_iter defaults to max_iter=1000. From 0.21, default max_iter will be 1000, and default tol will be 1e-3.\n",
      "  \"and default tol will be 1e-3.\" % type(self), FutureWarning)\n"
     ]
    }
   ],
   "source": [
    "sgdr = SGDRegressor()"
   ]
  },
  {
   "cell_type": "code",
   "execution_count": 40,
   "metadata": {
    "collapsed": false
   },
   "outputs": [
    {
     "data": {
      "text/plain": [
       "SGDRegressor(alpha=0.0001, average=False, epsilon=0.1, eta0=0.01,\n",
       "       fit_intercept=True, l1_ratio=0.15, learning_rate='invscaling',\n",
       "       loss='squared_loss', max_iter=5, n_iter=None, penalty='l2',\n",
       "       power_t=0.25, random_state=None, shuffle=True, tol=None, verbose=0,\n",
       "       warm_start=False)"
      ]
     },
     "execution_count": 40,
     "metadata": {},
     "output_type": "execute_result"
    }
   ],
   "source": [
    "sgdr.fit(x_train,y_train)"
   ]
  },
  {
   "cell_type": "code",
   "execution_count": 41,
   "metadata": {
    "collapsed": true
   },
   "outputs": [],
   "source": [
    "y_test_pred_sgdr = sgdr.predict(x_test)"
   ]
  },
  {
   "cell_type": "markdown",
   "metadata": {},
   "source": [
    "### 模型3 SVR  (kernel = 'linear')"
   ]
  },
  {
   "cell_type": "code",
   "execution_count": 42,
   "metadata": {
    "collapsed": true
   },
   "outputs": [],
   "source": [
    "from sklearn.svm import SVR"
   ]
  },
  {
   "cell_type": "code",
   "execution_count": 43,
   "metadata": {
    "collapsed": true
   },
   "outputs": [],
   "source": [
    "svr_linear = SVR(kernel='linear')"
   ]
  },
  {
   "cell_type": "code",
   "execution_count": 44,
   "metadata": {
    "collapsed": false
   },
   "outputs": [
    {
     "data": {
      "text/plain": [
       "SVR(C=1.0, cache_size=200, coef0=0.0, degree=3, epsilon=0.1, gamma='auto',\n",
       "  kernel='linear', max_iter=-1, shrinking=True, tol=0.001, verbose=False)"
      ]
     },
     "execution_count": 44,
     "metadata": {},
     "output_type": "execute_result"
    }
   ],
   "source": [
    "svr_linear.fit(x_train,y_train)"
   ]
  },
  {
   "cell_type": "code",
   "execution_count": 45,
   "metadata": {
    "collapsed": true
   },
   "outputs": [],
   "source": [
    "y_test_pred_svr_linear = svr_linear.predict(x_test)"
   ]
  },
  {
   "cell_type": "markdown",
   "metadata": {},
   "source": [
    "### 模型4 SVR (kernel='poly')"
   ]
  },
  {
   "cell_type": "code",
   "execution_count": 46,
   "metadata": {
    "collapsed": true
   },
   "outputs": [],
   "source": [
    "svr_poly = SVR(kernel='poly')"
   ]
  },
  {
   "cell_type": "code",
   "execution_count": 47,
   "metadata": {
    "collapsed": false
   },
   "outputs": [
    {
     "data": {
      "text/plain": [
       "SVR(C=1.0, cache_size=200, coef0=0.0, degree=3, epsilon=0.1, gamma='auto',\n",
       "  kernel='poly', max_iter=-1, shrinking=True, tol=0.001, verbose=False)"
      ]
     },
     "execution_count": 47,
     "metadata": {},
     "output_type": "execute_result"
    }
   ],
   "source": [
    "svr_poly.fit(x_train,y_train)"
   ]
  },
  {
   "cell_type": "code",
   "execution_count": 48,
   "metadata": {
    "collapsed": true
   },
   "outputs": [],
   "source": [
    "y_test_pred_svr_poly = svr_poly.predict(x_test)"
   ]
  },
  {
   "cell_type": "markdown",
   "metadata": {},
   "source": [
    "### 模型5 SVR (kernel='rbf')"
   ]
  },
  {
   "cell_type": "code",
   "execution_count": 49,
   "metadata": {
    "collapsed": true
   },
   "outputs": [],
   "source": [
    "svr_rbf = SVR(kernel='rbf')"
   ]
  },
  {
   "cell_type": "code",
   "execution_count": 50,
   "metadata": {
    "collapsed": false
   },
   "outputs": [
    {
     "data": {
      "text/plain": [
       "SVR(C=1.0, cache_size=200, coef0=0.0, degree=3, epsilon=0.1, gamma='auto',\n",
       "  kernel='rbf', max_iter=-1, shrinking=True, tol=0.001, verbose=False)"
      ]
     },
     "execution_count": 50,
     "metadata": {},
     "output_type": "execute_result"
    }
   ],
   "source": [
    "svr_rbf.fit(x_train,y_train)"
   ]
  },
  {
   "cell_type": "code",
   "execution_count": 51,
   "metadata": {
    "collapsed": true
   },
   "outputs": [],
   "source": [
    "y_test_pred_svr_rbf = svr_rbf.predict(x_test)"
   ]
  },
  {
   "cell_type": "markdown",
   "metadata": {},
   "source": [
    "### 模型6 KNN (weights='uniform')"
   ]
  },
  {
   "cell_type": "code",
   "execution_count": 52,
   "metadata": {
    "collapsed": true
   },
   "outputs": [],
   "source": [
    "from sklearn.neighbors import KNeighborsRegressor"
   ]
  },
  {
   "cell_type": "code",
   "execution_count": 53,
   "metadata": {
    "collapsed": true
   },
   "outputs": [],
   "source": [
    "knr_uniform = KNeighborsRegressor(weights='uniform')"
   ]
  },
  {
   "cell_type": "code",
   "execution_count": 54,
   "metadata": {
    "collapsed": false
   },
   "outputs": [
    {
     "data": {
      "text/plain": [
       "KNeighborsRegressor(algorithm='auto', leaf_size=30, metric='minkowski',\n",
       "          metric_params=None, n_jobs=1, n_neighbors=5, p=2,\n",
       "          weights='uniform')"
      ]
     },
     "execution_count": 54,
     "metadata": {},
     "output_type": "execute_result"
    }
   ],
   "source": [
    "knr_uniform.fit(x_train,y_train)"
   ]
  },
  {
   "cell_type": "code",
   "execution_count": 55,
   "metadata": {
    "collapsed": true
   },
   "outputs": [],
   "source": [
    "y_test_pred_knr_uniform = knr_uniform.predict(x_test)"
   ]
  },
  {
   "cell_type": "markdown",
   "metadata": {},
   "source": [
    "### 模型7 KNN (weights='distance')"
   ]
  },
  {
   "cell_type": "code",
   "execution_count": 56,
   "metadata": {
    "collapsed": true
   },
   "outputs": [],
   "source": [
    "knr_distance = KNeighborsRegressor(weights='distance')"
   ]
  },
  {
   "cell_type": "code",
   "execution_count": 57,
   "metadata": {
    "collapsed": false
   },
   "outputs": [
    {
     "data": {
      "text/plain": [
       "KNeighborsRegressor(algorithm='auto', leaf_size=30, metric='minkowski',\n",
       "          metric_params=None, n_jobs=1, n_neighbors=5, p=2,\n",
       "          weights='distance')"
      ]
     },
     "execution_count": 57,
     "metadata": {},
     "output_type": "execute_result"
    }
   ],
   "source": [
    "knr_distance.fit(x_train,y_train)"
   ]
  },
  {
   "cell_type": "code",
   "execution_count": 58,
   "metadata": {
    "collapsed": true
   },
   "outputs": [],
   "source": [
    "y_test_pred_knr_distance = knr_distance.predict(x_test)"
   ]
  },
  {
   "cell_type": "markdown",
   "metadata": {},
   "source": [
    "### 模型8 DecisionTreeRegressor"
   ]
  },
  {
   "cell_type": "code",
   "execution_count": 59,
   "metadata": {
    "collapsed": true
   },
   "outputs": [],
   "source": [
    "from sklearn.tree import DecisionTreeRegressor"
   ]
  },
  {
   "cell_type": "code",
   "execution_count": 60,
   "metadata": {
    "collapsed": true
   },
   "outputs": [],
   "source": [
    "dtr = DecisionTreeRegressor()"
   ]
  },
  {
   "cell_type": "code",
   "execution_count": 61,
   "metadata": {
    "collapsed": false
   },
   "outputs": [
    {
     "data": {
      "text/plain": [
       "DecisionTreeRegressor(criterion='mse', max_depth=None, max_features=None,\n",
       "           max_leaf_nodes=None, min_impurity_decrease=0.0,\n",
       "           min_impurity_split=None, min_samples_leaf=1,\n",
       "           min_samples_split=2, min_weight_fraction_leaf=0.0,\n",
       "           presort=False, random_state=None, splitter='best')"
      ]
     },
     "execution_count": 61,
     "metadata": {},
     "output_type": "execute_result"
    }
   ],
   "source": [
    "dtr.fit(x_train,y_train)"
   ]
  },
  {
   "cell_type": "code",
   "execution_count": 62,
   "metadata": {
    "collapsed": true
   },
   "outputs": [],
   "source": [
    "y_test_pred_dtr = dtr.predict(x_test)"
   ]
  },
  {
   "cell_type": "markdown",
   "metadata": {},
   "source": [
    "### 模型9 RandomForestRegressor"
   ]
  },
  {
   "cell_type": "code",
   "execution_count": 63,
   "metadata": {
    "collapsed": true
   },
   "outputs": [],
   "source": [
    "from sklearn.ensemble import RandomForestRegressor"
   ]
  },
  {
   "cell_type": "code",
   "execution_count": 64,
   "metadata": {
    "collapsed": true
   },
   "outputs": [],
   "source": [
    "rfr = RandomForestRegressor()"
   ]
  },
  {
   "cell_type": "code",
   "execution_count": 65,
   "metadata": {
    "collapsed": false
   },
   "outputs": [
    {
     "data": {
      "text/plain": [
       "RandomForestRegressor(bootstrap=True, criterion='mse', max_depth=None,\n",
       "           max_features='auto', max_leaf_nodes=None,\n",
       "           min_impurity_decrease=0.0, min_impurity_split=None,\n",
       "           min_samples_leaf=1, min_samples_split=2,\n",
       "           min_weight_fraction_leaf=0.0, n_estimators=10, n_jobs=1,\n",
       "           oob_score=False, random_state=None, verbose=0, warm_start=False)"
      ]
     },
     "execution_count": 65,
     "metadata": {},
     "output_type": "execute_result"
    }
   ],
   "source": [
    "rfr.fit(x_train,y_train)"
   ]
  },
  {
   "cell_type": "code",
   "execution_count": 66,
   "metadata": {
    "collapsed": true
   },
   "outputs": [],
   "source": [
    "y_test_pred_rfr = rfr.predict(x_test)"
   ]
  },
  {
   "cell_type": "markdown",
   "metadata": {},
   "source": [
    "### 模型10 ExtraTreesRegressor"
   ]
  },
  {
   "cell_type": "code",
   "execution_count": 67,
   "metadata": {
    "collapsed": true
   },
   "outputs": [],
   "source": [
    "from sklearn.ensemble import ExtraTreesRegressor"
   ]
  },
  {
   "cell_type": "code",
   "execution_count": 68,
   "metadata": {
    "collapsed": true
   },
   "outputs": [],
   "source": [
    "etr = ExtraTreesRegressor()"
   ]
  },
  {
   "cell_type": "code",
   "execution_count": 70,
   "metadata": {
    "collapsed": false
   },
   "outputs": [
    {
     "data": {
      "text/plain": [
       "ExtraTreesRegressor(bootstrap=False, criterion='mse', max_depth=None,\n",
       "          max_features='auto', max_leaf_nodes=None,\n",
       "          min_impurity_decrease=0.0, min_impurity_split=None,\n",
       "          min_samples_leaf=1, min_samples_split=2,\n",
       "          min_weight_fraction_leaf=0.0, n_estimators=10, n_jobs=1,\n",
       "          oob_score=False, random_state=None, verbose=0, warm_start=False)"
      ]
     },
     "execution_count": 70,
     "metadata": {},
     "output_type": "execute_result"
    }
   ],
   "source": [
    "etr.fit(x_train,y_train)"
   ]
  },
  {
   "cell_type": "code",
   "execution_count": 71,
   "metadata": {
    "collapsed": true
   },
   "outputs": [],
   "source": [
    "y_test_pred_etr = etr.predict(x_test)"
   ]
  },
  {
   "cell_type": "markdown",
   "metadata": {},
   "source": [
    "### 模型11 GradientBoostingRegressor"
   ]
  },
  {
   "cell_type": "code",
   "execution_count": 72,
   "metadata": {
    "collapsed": true
   },
   "outputs": [],
   "source": [
    "from sklearn.ensemble import GradientBoostingRegressor"
   ]
  },
  {
   "cell_type": "code",
   "execution_count": 73,
   "metadata": {
    "collapsed": true
   },
   "outputs": [],
   "source": [
    "gbr = GradientBoostingRegressor()"
   ]
  },
  {
   "cell_type": "code",
   "execution_count": 74,
   "metadata": {
    "collapsed": false
   },
   "outputs": [
    {
     "data": {
      "text/plain": [
       "GradientBoostingRegressor(alpha=0.9, criterion='friedman_mse', init=None,\n",
       "             learning_rate=0.1, loss='ls', max_depth=3, max_features=None,\n",
       "             max_leaf_nodes=None, min_impurity_decrease=0.0,\n",
       "             min_impurity_split=None, min_samples_leaf=1,\n",
       "             min_samples_split=2, min_weight_fraction_leaf=0.0,\n",
       "             n_estimators=100, presort='auto', random_state=None,\n",
       "             subsample=1.0, verbose=0, warm_start=False)"
      ]
     },
     "execution_count": 74,
     "metadata": {},
     "output_type": "execute_result"
    }
   ],
   "source": [
    "gbr.fit(x_train,y_train)"
   ]
  },
  {
   "cell_type": "code",
   "execution_count": 75,
   "metadata": {
    "collapsed": true
   },
   "outputs": [],
   "source": [
    "y_test_pred_gbr = gbr.predict(x_test)"
   ]
  },
  {
   "cell_type": "markdown",
   "metadata": {},
   "source": [
    "### 评价指标 R-squared, MSE,  MAE"
   ]
  },
  {
   "cell_type": "code",
   "execution_count": 82,
   "metadata": {
    "collapsed": true
   },
   "outputs": [],
   "source": [
    "from sklearn.metrics import r2_score, mean_squared_error, mean_absolute_error"
   ]
  },
  {
   "cell_type": "code",
   "execution_count": 97,
   "metadata": {
    "collapsed": true
   },
   "outputs": [],
   "source": [
    "ranks = []"
   ]
  },
  {
   "cell_type": "code",
   "execution_count": 98,
   "metadata": {
    "collapsed": true
   },
   "outputs": [],
   "source": [
    "method_dict = dict()\n",
    "method_dict['Regressors'] = 'LinearRegressor'\n",
    "method_dict['R-squared'] = r2_score(y_test,y_test_pred_lr)\n",
    "method_dict['MSE'] = mean_squared_error(y_test,y_test_pred_lr)\n",
    "method_dict['MAE'] = mean_absolute_error(y_test,y_test_pred_lr)\n",
    "\n",
    "ranks.append(method_dict)"
   ]
  },
  {
   "cell_type": "code",
   "execution_count": 99,
   "metadata": {
    "collapsed": true
   },
   "outputs": [],
   "source": [
    "method_dict = dict()\n",
    "method_dict['Regressors'] = 'SGDRegressor'\n",
    "method_dict['R-squared'] = r2_score(y_test,y_test_pred_sgdr)\n",
    "method_dict['MSE'] = mean_squared_error(y_test,y_test_pred_sgdr)\n",
    "method_dict['MAE'] = mean_absolute_error(y_test,y_test_pred_sgdr)\n",
    "\n",
    "ranks.append(method_dict)"
   ]
  },
  {
   "cell_type": "code",
   "execution_count": 100,
   "metadata": {
    "collapsed": true
   },
   "outputs": [],
   "source": [
    "method_dict = dict()\n",
    "method_dict['Regressors'] = 'SVM Regressor (Linear Kernel)'\n",
    "method_dict['R-squared'] = r2_score(y_test,y_test_pred_svr_linear)\n",
    "method_dict['MSE'] = mean_squared_error(y_test,y_test_pred_svr_linear)\n",
    "method_dict['MAE'] = mean_absolute_error(y_test,y_test_pred_svr_linear)\n",
    "\n",
    "ranks.append(method_dict)"
   ]
  },
  {
   "cell_type": "code",
   "execution_count": 101,
   "metadata": {
    "collapsed": true
   },
   "outputs": [],
   "source": [
    "method_dict = dict()\n",
    "method_dict['Regressors'] = 'SVM Regressor (Poly Kernel)'\n",
    "method_dict['R-squared'] = r2_score(y_test,y_test_pred_svr_poly)\n",
    "method_dict['MSE'] = mean_squared_error(y_test,y_test_pred_svr_poly)\n",
    "method_dict['MAE'] = mean_absolute_error(y_test,y_test_pred_svr_poly)\n",
    "\n",
    "ranks.append(method_dict)"
   ]
  },
  {
   "cell_type": "code",
   "execution_count": 102,
   "metadata": {
    "collapsed": true
   },
   "outputs": [],
   "source": [
    "method_dict = dict()\n",
    "method_dict['Regressors'] = 'SVM Regressor (RBF Kernel)'\n",
    "method_dict['R-squared'] = r2_score(y_test,y_test_pred_svr_rbf)\n",
    "method_dict['MSE'] = mean_squared_error(y_test,y_test_pred_svr_rbf)\n",
    "method_dict['MAE'] = mean_absolute_error(y_test,y_test_pred_svr_rbf)\n",
    "\n",
    "ranks.append(method_dict)"
   ]
  },
  {
   "cell_type": "code",
   "execution_count": 103,
   "metadata": {
    "collapsed": true
   },
   "outputs": [],
   "source": [
    "method_dict = dict()\n",
    "method_dict['Regressors'] = 'KNN Regressor (Uniform-weighted)'\n",
    "method_dict['R-squared'] = r2_score(y_test,y_test_pred_knr_uniform)\n",
    "method_dict['MSE'] = mean_squared_error(y_test,y_test_pred_knr_uniform)\n",
    "method_dict['MAE'] = mean_absolute_error(y_test,y_test_pred_knr_uniform)\n",
    "\n",
    "ranks.append(method_dict)"
   ]
  },
  {
   "cell_type": "code",
   "execution_count": 104,
   "metadata": {
    "collapsed": true
   },
   "outputs": [],
   "source": [
    "method_dict = dict()\n",
    "method_dict['Regressors'] = 'KNN Regressor (Distance-weighted)'\n",
    "method_dict['R-squared'] = r2_score(y_test,y_test_pred_knr_distance)\n",
    "method_dict['MSE'] = mean_squared_error(y_test,y_test_pred_knr_distance)\n",
    "method_dict['MAE'] = mean_absolute_error(y_test,y_test_pred_knr_distance)\n",
    "\n",
    "ranks.append(method_dict)"
   ]
  },
  {
   "cell_type": "code",
   "execution_count": 105,
   "metadata": {
    "collapsed": true
   },
   "outputs": [],
   "source": [
    "method_dict = dict()\n",
    "method_dict['Regressors'] = 'RandomForestRegressor'\n",
    "method_dict['R-squared'] = r2_score(y_test,y_test_pred_rfr)\n",
    "method_dict['MSE'] = mean_squared_error(y_test,y_test_pred_rfr)\n",
    "method_dict['MAE'] = mean_absolute_error(y_test,y_test_pred_rfr)\n",
    "\n",
    "ranks.append(method_dict)"
   ]
  },
  {
   "cell_type": "code",
   "execution_count": 106,
   "metadata": {
    "collapsed": true
   },
   "outputs": [],
   "source": [
    "method_dict = dict()\n",
    "method_dict['Regressors'] = 'ExtraTreesRegressor'\n",
    "method_dict['R-squared'] = r2_score(y_test,y_test_pred_etr)\n",
    "method_dict['MSE'] = mean_squared_error(y_test,y_test_pred_etr)\n",
    "method_dict['MAE'] = mean_absolute_error(y_test,y_test_pred_etr)\n",
    "\n",
    "ranks.append(method_dict)"
   ]
  },
  {
   "cell_type": "code",
   "execution_count": 107,
   "metadata": {
    "collapsed": true
   },
   "outputs": [],
   "source": [
    "method_dict = dict()\n",
    "method_dict['Regressors'] = 'GradientBoostingRegressorr'\n",
    "method_dict['R-squared'] = r2_score(y_test,y_test_pred_gbr)\n",
    "method_dict['MSE'] = mean_squared_error(y_test,y_test_pred_gbr)\n",
    "method_dict['MAE'] = mean_absolute_error(y_test,y_test_pred_gbr)\n",
    "\n",
    "ranks.append(method_dict)"
   ]
  },
  {
   "cell_type": "code",
   "execution_count": 110,
   "metadata": {
    "collapsed": true
   },
   "outputs": [],
   "source": [
    "method_dict = dict()\n",
    "method_dict['Regressors'] = 'DecisionTreeRegressor'\n",
    "method_dict['R-squared'] = r2_score(y_test,y_test_pred_dtr)\n",
    "method_dict['MSE'] = mean_squared_error(y_test,y_test_pred_dtr)\n",
    "method_dict['MAE'] = mean_absolute_error(y_test,y_test_pred_dtr)\n",
    "\n",
    "ranks.append(method_dict)"
   ]
  },
  {
   "cell_type": "code",
   "execution_count": 114,
   "metadata": {
    "collapsed": true
   },
   "outputs": [],
   "source": [
    "ranks_df = pd.DataFrame(ranks).sort_values(by='R-squared',ascending=False)"
   ]
  },
  {
   "cell_type": "code",
   "execution_count": 115,
   "metadata": {
    "collapsed": false
   },
   "outputs": [
    {
     "data": {
      "text/html": [
       "<div>\n",
       "<table border=\"1\" class=\"dataframe\">\n",
       "  <thead>\n",
       "    <tr style=\"text-align: right;\">\n",
       "      <th></th>\n",
       "      <th>MAE</th>\n",
       "      <th>MSE</th>\n",
       "      <th>R-squared</th>\n",
       "      <th>Regressors</th>\n",
       "    </tr>\n",
       "  </thead>\n",
       "  <tbody>\n",
       "    <tr>\n",
       "      <th>9</th>\n",
       "      <td>1.981583</td>\n",
       "      <td>6.699335</td>\n",
       "      <td>0.910906</td>\n",
       "      <td>GradientBoostingRegressorr</td>\n",
       "    </tr>\n",
       "    <tr>\n",
       "      <th>8</th>\n",
       "      <td>2.051024</td>\n",
       "      <td>7.941902</td>\n",
       "      <td>0.894381</td>\n",
       "      <td>ExtraTreesRegressor</td>\n",
       "    </tr>\n",
       "    <tr>\n",
       "      <th>7</th>\n",
       "      <td>2.214961</td>\n",
       "      <td>10.097493</td>\n",
       "      <td>0.865713</td>\n",
       "      <td>RandomForestRegressor</td>\n",
       "    </tr>\n",
       "    <tr>\n",
       "      <th>6</th>\n",
       "      <td>2.218720</td>\n",
       "      <td>11.489549</td>\n",
       "      <td>0.847201</td>\n",
       "      <td>KNN Regressor (Distance-weighted)</td>\n",
       "    </tr>\n",
       "    <tr>\n",
       "      <th>10</th>\n",
       "      <td>2.869291</td>\n",
       "      <td>16.039685</td>\n",
       "      <td>0.786688</td>\n",
       "      <td>DecisionTreeRegressor</td>\n",
       "    </tr>\n",
       "    <tr>\n",
       "      <th>2</th>\n",
       "      <td>2.849033</td>\n",
       "      <td>16.939402</td>\n",
       "      <td>0.774723</td>\n",
       "      <td>SVM Regressor (Linear Kernel)</td>\n",
       "    </tr>\n",
       "    <tr>\n",
       "      <th>0</th>\n",
       "      <td>3.212816</td>\n",
       "      <td>17.182899</td>\n",
       "      <td>0.771485</td>\n",
       "      <td>LinearRegressor</td>\n",
       "    </tr>\n",
       "    <tr>\n",
       "      <th>1</th>\n",
       "      <td>3.042936</td>\n",
       "      <td>17.489407</td>\n",
       "      <td>0.767408</td>\n",
       "      <td>SGDRegressor</td>\n",
       "    </tr>\n",
       "    <tr>\n",
       "      <th>5</th>\n",
       "      <td>2.530079</td>\n",
       "      <td>18.756346</td>\n",
       "      <td>0.750559</td>\n",
       "      <td>KNN Regressor (Uniform-weighted)</td>\n",
       "    </tr>\n",
       "    <tr>\n",
       "      <th>4</th>\n",
       "      <td>2.928358</td>\n",
       "      <td>26.228056</td>\n",
       "      <td>0.651193</td>\n",
       "      <td>SVM Regressor (RBF Kernel)</td>\n",
       "    </tr>\n",
       "    <tr>\n",
       "      <th>3</th>\n",
       "      <td>3.283959</td>\n",
       "      <td>30.422725</td>\n",
       "      <td>0.595408</td>\n",
       "      <td>SVM Regressor (Poly Kernel)</td>\n",
       "    </tr>\n",
       "  </tbody>\n",
       "</table>\n",
       "</div>"
      ],
      "text/plain": [
       "         MAE        MSE  R-squared                         Regressors\n",
       "9   1.981583   6.699335   0.910906         GradientBoostingRegressorr\n",
       "8   2.051024   7.941902   0.894381                ExtraTreesRegressor\n",
       "7   2.214961  10.097493   0.865713              RandomForestRegressor\n",
       "6   2.218720  11.489549   0.847201  KNN Regressor (Distance-weighted)\n",
       "10  2.869291  16.039685   0.786688              DecisionTreeRegressor\n",
       "2   2.849033  16.939402   0.774723      SVM Regressor (Linear Kernel)\n",
       "0   3.212816  17.182899   0.771485                    LinearRegressor\n",
       "1   3.042936  17.489407   0.767408                       SGDRegressor\n",
       "5   2.530079  18.756346   0.750559   KNN Regressor (Uniform-weighted)\n",
       "4   2.928358  26.228056   0.651193         SVM Regressor (RBF Kernel)\n",
       "3   3.283959  30.422725   0.595408        SVM Regressor (Poly Kernel)"
      ]
     },
     "execution_count": 115,
     "metadata": {},
     "output_type": "execute_result"
    }
   ],
   "source": [
    "ranks_df"
   ]
  },
  {
   "cell_type": "code",
   "execution_count": 116,
   "metadata": {
    "collapsed": false
   },
   "outputs": [
    {
     "data": {
      "text/plain": [
       "array([13.1, 19.7, 33.3, 20.3, 22.7, 28.2, 22.8, 14.1, 19.4, 20.4, 21.9,\n",
       "       26.6, 28.4, 42.3, 22.3, 30.7, 27.5, 21. , 25. , 22.4, 20.6, 13.8,\n",
       "       16.7, 22. , 50. , 20.2, 18.5, 18.1, 20.4, 14.5, 15. , 22.7, 24.1,\n",
       "       30.1, 23. , 11.3, 22.5, 50. , 32.7, 29.6, 16. , 19.1, 28.7, 36.1,\n",
       "       25. , 21.4, 16.4, 21.5, 14.9,  8.3, 24.6, 20.4, 13.4, 18.8, 50. ,\n",
       "       18.9, 48.3, 31. , 16.7, 23.2, 24.8, 22.2, 50. , 16.5, 19.8, 21.2,\n",
       "       22. , 20.1, 10.5, 12.5, 36. , 23.1, 32.2, 30.1, 19. , 19.5, 14.4,\n",
       "       23.5, 17.8, 23.2, 23.4, 43.1, 18.3, 23.1, 28.7, 18.7, 32.4, 10.5,\n",
       "       33.1, 10.2, 46.7, 19.9, 18.9, 24.4, 20.4, 13.6, 24.1, 44.8, 20.3,\n",
       "       22.6, 35.1, 22.8, 23.3, 31.7, 23.8, 25.1, 21.7, 16.8, 29.6, 16.2,\n",
       "       21.4, 22.3, 23.2, 22.9, 19.7, 22. , 17.8, 23. , 13.5, 29. , 21.5,\n",
       "       21.2, 15.3, 22.9, 10.4, 25. , 24.6])"
      ]
     },
     "execution_count": 116,
     "metadata": {},
     "output_type": "execute_result"
    }
   ],
   "source": [
    "y_test"
   ]
  },
  {
   "cell_type": "code",
   "execution_count": 117,
   "metadata": {
    "collapsed": false
   },
   "outputs": [
    {
     "data": {
      "text/plain": [
       "array([15.4182649 , 16.72691592, 38.00828898, 22.85156734, 21.21464625,\n",
       "       28.36580974, 28.60471415, 14.89769617, 20.13648799, 22.89294675,\n",
       "       17.14624526, 30.56774538, 26.62128786, 43.93614788, 21.77630199,\n",
       "       27.52732366, 23.02533999, 20.18476406, 23.44450549, 21.01312472,\n",
       "       15.86369063, 16.37252223, 14.48148141, 21.84579585, 48.42404887,\n",
       "       20.36935549, 16.59971796, 16.54577189, 21.05807529, 14.36133987,\n",
       "       24.15067408, 21.20078576, 22.23765068, 31.80938305, 20.39368828,\n",
       "       10.81071234, 20.42860041, 46.77797046, 30.61458464, 34.40350067,\n",
       "       18.31180323, 16.60675583, 24.50215992, 34.08737538, 24.61174755,\n",
       "       19.88208813, 15.21832274, 19.8315004 , 16.49526956,  6.98862124,\n",
       "       23.14617962, 19.77842564, 14.16370287, 18.2465484 , 50.14259173,\n",
       "       18.1996107 , 42.9170679 , 28.51585568, 16.75262562, 15.44208874,\n",
       "       22.84864677, 20.34335989, 47.2045178 , 17.1803975 , 20.35906298,\n",
       "       21.05756507, 23.46074974, 20.45192035,  6.93253671, 15.32700898,\n",
       "       34.92381609, 19.65552983, 31.26250558, 30.85038097, 19.65948985,\n",
       "       17.12241994, 19.20413412, 25.99553855, 16.0827733 , 19.65501292,\n",
       "       23.88735093, 42.09122068, 18.15346049, 23.49549002, 31.96992521,\n",
       "       20.77976786, 32.02732908,  8.54903056, 30.85949189,  7.80551185,\n",
       "       41.72562681, 20.87609216, 15.82749558, 22.22707016, 18.16867454,\n",
       "       15.69784722, 24.07286098, 46.88669388, 20.74016326, 23.45382669,\n",
       "       33.63317917, 23.29303703, 22.91421244, 33.62568803, 20.93347926,\n",
       "       25.38609878, 19.11237586, 18.52166197, 27.59920116, 15.83262943,\n",
       "       21.27799121, 22.88575454, 22.24060502, 23.94246941, 20.75630779,\n",
       "       20.39127207, 17.63605106, 22.37282315, 13.1769125 , 34.81784054,\n",
       "       20.50541535, 22.82377365, 19.96869015, 21.62875726, 14.5635606 ,\n",
       "       31.94161435, 27.04152638])"
      ]
     },
     "execution_count": 117,
     "metadata": {},
     "output_type": "execute_result"
    }
   ],
   "source": [
    "y_test_pred_gbr"
   ]
  }
 ],
 "metadata": {
  "kernelspec": {
   "display_name": "Python [default]",
   "language": "python",
   "name": "python3"
  },
  "language_info": {
   "codemirror_mode": {
    "name": "ipython",
    "version": 3
   },
   "file_extension": ".py",
   "mimetype": "text/x-python",
   "name": "python",
   "nbconvert_exporter": "python",
   "pygments_lexer": "ipython3",
   "version": "3.5.2"
  }
 },
 "nbformat": 4,
 "nbformat_minor": 1
}
