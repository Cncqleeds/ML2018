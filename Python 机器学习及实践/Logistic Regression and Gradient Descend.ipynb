{
 "cells": [
  {
   "cell_type": "code",
   "execution_count": 3,
   "metadata": {
    "collapsed": true
   },
   "outputs": [],
   "source": [
    "import numpy as np\n",
    "import pandas as pd\n",
    "\n",
    "from pandas import Series, DataFrame\n",
    "from matplotlib import pyplot as plt\n",
    "%matplotlib inline"
   ]
  },
  {
   "cell_type": "code",
   "execution_count": 4,
   "metadata": {
    "collapsed": false
   },
   "outputs": [],
   "source": [
    "x = np.hstack((np.ones((20,1)),np.random.randn(20,2)))\n",
    "\n",
    "y = (x[:,1] * x[:,2])>0\n",
    "y = y[:,np.newaxis].astype(np.int)"
   ]
  },
  {
   "cell_type": "code",
   "execution_count": 5,
   "metadata": {
    "collapsed": false
   },
   "outputs": [
    {
     "data": {
      "text/plain": [
       "(20, 3)"
      ]
     },
     "execution_count": 5,
     "metadata": {},
     "output_type": "execute_result"
    }
   ],
   "source": [
    "x.shape"
   ]
  },
  {
   "cell_type": "code",
   "execution_count": 6,
   "metadata": {
    "collapsed": false
   },
   "outputs": [
    {
     "data": {
      "text/plain": [
       "(20, 1)"
      ]
     },
     "execution_count": 6,
     "metadata": {},
     "output_type": "execute_result"
    }
   ],
   "source": [
    "y.shape"
   ]
  },
  {
   "cell_type": "code",
   "execution_count": 7,
   "metadata": {
    "collapsed": false
   },
   "outputs": [],
   "source": [
    "n_dims = x.shape[1]\n",
    "m_dims = x.shape[0]"
   ]
  },
  {
   "cell_type": "code",
   "execution_count": 1,
   "metadata": {
    "collapsed": true
   },
   "outputs": [],
   "source": [
    "import numpy as np"
   ]
  },
  {
   "cell_type": "code",
   "execution_count": 2,
   "metadata": {
    "collapsed": true
   },
   "outputs": [],
   "source": [
    "def sigmoid(z):\n",
    "    a =  1/(1+np.exp(-z))\n",
    "    return a"
   ]
  },
  {
   "cell_type": "code",
   "execution_count": 8,
   "metadata": {
    "collapsed": true
   },
   "outputs": [],
   "source": [
    "w = np.zeros((n_dims,1))\n",
    "b = 0."
   ]
  },
  {
   "cell_type": "code",
   "execution_count": 13,
   "metadata": {
    "collapsed": true
   },
   "outputs": [],
   "source": [
    "def predict(x,w,b):\n",
    "    n_dims = x.shape[1]\n",
    "    m_dims = x.shape[0]\n",
    "    z = np.dot(x,w) + b\n",
    "    a = sigmoid(z)\n",
    "    return a"
   ]
  },
  {
   "cell_type": "code",
   "execution_count": 21,
   "metadata": {
    "collapsed": true
   },
   "outputs": [],
   "source": [
    "def back(x,w,b,y,alpha):\n",
    "    n_dims = x.shape[1]\n",
    "    m_dims = x.shape[0]\n",
    "    \n",
    "    a = predict(x,w,b)\n",
    "    J = 1/(2*m_dims)*np.sum((a - y) ** 2)\n",
    "    \n",
    "    dw = 1/m_dims * np.dot(x.T, (a - y))\n",
    "    db = 1/m_dims * np.sum(a-y)\n",
    "    \n",
    "    grads = {\"dw\":dw, \"db\":db}\n",
    "    \n",
    "    w = w - alpha * dw\n",
    "    b = b - alpha * db\n",
    "    \n",
    "    params = {\"w\":w,\"b\":b}\n",
    "    \n",
    "    return J, grads, params"
   ]
  },
  {
   "cell_type": "code",
   "execution_count": 34,
   "metadata": {
    "collapsed": true
   },
   "outputs": [],
   "source": [
    "def model(x,y,w,b,alpha = 0.1,n_iters = 1001):\n",
    "    m_dims = x.shape[0]\n",
    "    \n",
    "    m_train = int(m_dims*.75)\n",
    "    m_test = m_dims - m_train\n",
    "    \n",
    "    train_x = x[:m_train,:]\n",
    "    train_y = y[:m_train,:]\n",
    "    \n",
    "    test_x = x[m_train:,:]\n",
    "    test_y = y[m_train:,:]\n",
    "    \n",
    "    \n",
    "    print(\"training...\")\n",
    "    costs = []\n",
    "    for i in range(n_iters):\n",
    "        J,grads,params = back(train_x,w,b,train_y,alpha)\n",
    "        \n",
    "        w = params['w']\n",
    "        b = params['b']\n",
    "        \n",
    "        costs.append(J)\n",
    "        \n",
    "        if i % 1000 == 0:\n",
    "            print(\"After %d iteration, cost is %.4f\"%(i,J))\n",
    "        \n",
    "    print(\"testing...\")\n",
    "    test_y_pred = predict(test_x,w,b)\n",
    "    test_y_pred = (test_y_pred > 0.5).astype(np.int)\n",
    "    \n",
    "    print(\"Test Acc is \",(test_y_pred == test_y).mean())\n",
    "    return costs"
   ]
  },
  {
   "cell_type": "code",
   "execution_count": 36,
   "metadata": {
    "collapsed": false
   },
   "outputs": [
    {
     "name": "stdout",
     "output_type": "stream",
     "text": [
      "training...\n",
      "After 0 iteration, cost is 0.1250\n",
      "After 1000 iteration, cost is 0.0990\n",
      "After 2000 iteration, cost is 0.0977\n",
      "After 3000 iteration, cost is 0.0971\n",
      "After 4000 iteration, cost is 0.0968\n",
      "After 5000 iteration, cost is 0.0966\n",
      "After 6000 iteration, cost is 0.0965\n",
      "After 7000 iteration, cost is 0.0965\n",
      "After 8000 iteration, cost is 0.0964\n",
      "After 9000 iteration, cost is 0.0964\n",
      "After 10000 iteration, cost is 0.0964\n",
      "testing...\n",
      "Test Acc is  0.4\n"
     ]
    }
   ],
   "source": [
    "costs = model(x,y,w,b,alpha = 0.01,n_iters = 10001)"
   ]
  },
  {
   "cell_type": "code",
   "execution_count": 23,
   "metadata": {
    "collapsed": false
   },
   "outputs": [
    {
     "data": {
      "text/plain": [
       "array([[-0.23740541, -1.02177985,  0.27144835],\n",
       "       [ 1.43900425, -0.65556809, -0.99133334],\n",
       "       [-0.91345815,  0.31489638, -1.90186911],\n",
       "       [ 0.20678666, -0.25638548,  1.75917103]])"
      ]
     },
     "execution_count": 23,
     "metadata": {},
     "output_type": "execute_result"
    }
   ],
   "source": [
    "a "
   ]
  },
  {
   "cell_type": "code",
   "execution_count": 26,
   "metadata": {
    "collapsed": false
   },
   "outputs": [
    {
     "data": {
      "text/plain": [
       "0.16666666666666666"
      ]
     },
     "execution_count": 26,
     "metadata": {},
     "output_type": "execute_result"
    }
   ],
   "source": [
    "(a > 0.5).mean()"
   ]
  },
  {
   "cell_type": "code",
   "execution_count": 20,
   "metadata": {
    "collapsed": false
   },
   "outputs": [
    {
     "data": {
      "text/plain": [
       "(0.125, {'db': -0.1, 'dw': array([[-0.1       ],\n",
       "         [-0.1021304 ],\n",
       "         [-0.05761207]])})"
      ]
     },
     "execution_count": 20,
     "metadata": {},
     "output_type": "execute_result"
    }
   ],
   "source": [
    "back(x,w,b,y,0)"
   ]
  },
  {
   "cell_type": "code",
   "execution_count": 50,
   "metadata": {
    "collapsed": false
   },
   "outputs": [],
   "source": [
    "def compute_loss(x,w,y):\n",
    "    y_pred = compute_y_pred(x,w)\n",
    "    \n",
    "    loss = ( y - y_pred)**2\n",
    "    return loss.mean()"
   ]
  },
  {
   "cell_type": "code",
   "execution_count": 10,
   "metadata": {
    "collapsed": false
   },
   "outputs": [
    {
     "ename": "TypeError",
     "evalue": "innerproduct() takes exactly 2 arguments (1 given)",
     "output_type": "error",
     "traceback": [
      "\u001b[0;31m---------------------------------------------------------------------------\u001b[0m",
      "\u001b[0;31mTypeError\u001b[0m                                 Traceback (most recent call last)",
      "\u001b[0;32m<ipython-input-10-2ef35903c5e4>\u001b[0m in \u001b[0;36m<module>\u001b[0;34m()\u001b[0m\n\u001b[0;32m----> 1\u001b[0;31m \u001b[0mnp\u001b[0m\u001b[1;33m.\u001b[0m\u001b[0minner\u001b[0m\u001b[1;33m(\u001b[0m\u001b[0mnp\u001b[0m\u001b[1;33m.\u001b[0m\u001b[0mzeros\u001b[0m\u001b[1;33m(\u001b[0m\u001b[1;33m(\u001b[0m\u001b[1;36m5\u001b[0m\u001b[1;33m,\u001b[0m\u001b[1;36m1\u001b[0m\u001b[1;33m)\u001b[0m\u001b[1;33m)\u001b[0m\u001b[1;33m)\u001b[0m\u001b[1;33m\u001b[0m\u001b[0m\n\u001b[0m",
      "\u001b[0;31mTypeError\u001b[0m: innerproduct() takes exactly 2 arguments (1 given)"
     ]
    }
   ],
   "source": [
    "np.inner(np.zeros((5,1)))"
   ]
  }
 ],
 "metadata": {
  "anaconda-cloud": {},
  "kernelspec": {
   "display_name": "Python [default]",
   "language": "python",
   "name": "python3"
  },
  "language_info": {
   "codemirror_mode": {
    "name": "ipython",
    "version": 3
   },
   "file_extension": ".py",
   "mimetype": "text/x-python",
   "name": "python",
   "nbconvert_exporter": "python",
   "pygments_lexer": "ipython3",
   "version": "3.5.2"
  }
 },
 "nbformat": 4,
 "nbformat_minor": 1
}
